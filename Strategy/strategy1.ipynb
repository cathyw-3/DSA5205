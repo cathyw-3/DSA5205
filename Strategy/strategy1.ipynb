{
 "cells": [
  {
   "cell_type": "code",
   "execution_count": 1,
   "metadata": {},
   "outputs": [],
   "source": [
    "import numpy as np\n",
    "import matplotlib.pyplot as plt\n",
    "import pandas as pd\n",
    "from math import floor\n",
    "\n"
   ]
  },
  {
   "cell_type": "code",
   "execution_count": 2,
   "metadata": {},
   "outputs": [],
   "source": [
    "factor_returns = pd.read_csv(\"../Analysis/factors_returns_multi.csv\")\n",
    "style_factors = list(factor_returns.columns)[1:11]\n",
    "style_factor_returns = factor_returns[[\"Date\"]+style_factors]\n",
    "factors = pd.read_csv(\"../Factors/merge_Factors.csv\")\n",
    "earning_factors = [\"Momentum_1\", \"Momentum_2\"]\n",
    "risk_factors = [\"Financial Quality\", \"Turnover\"]\n",
    "all_factors = earning_factors + risk_factors\n",
    "\n",
    "# 1. pick the factor with the highest factor return on a specific date \n",
    "# 2. pick the 10 stocks with the highest factor value on that date\n",
    "def strategy1(date):\n",
    "    predicted_factor_return = style_factor_returns.loc[style_factor_returns[\"Date\"]==date]\n",
    "    predicted_factor_return = predicted_factor_return.set_index(\"Date\")\n",
    "    max_factor = predicted_factor_return.idxmax(axis=1)[0]\n",
    "    max_factor_stock = factors.loc[factors[\"Date\"]==date, [\"Index\", max_factor]] \n",
    "    max_value = max_factor_stock[max_factor].max()\n",
    "    max_factor_stock = max_factor_stock.loc[max_factor_stock[max_factor]!=max_value]\n",
    "    max_factor_stock = max_factor_stock.sort_values(by=max_factor, ascending=False) \n",
    "    selected_stocks = max_factor_stock[\"Index\"].head(10).tolist()\n",
    "    return selected_stocks\n",
    "    "
   ]
  },
  {
   "cell_type": "code",
   "execution_count": 3,
   "metadata": {},
   "outputs": [
    {
     "data": {
      "text/plain": [
       "['RRR', 'CHEF', 'SKYW', 'CENX', 'KRNT', 'DAIO', 'INBX', 'VBTX', 'HRMY', 'WIRE']"
      ]
     },
     "execution_count": 3,
     "metadata": {},
     "output_type": "execute_result"
    }
   ],
   "source": [
    "strategy1(\"2021-10-01\")"
   ]
  },
  {
   "cell_type": "code",
   "execution_count": 83,
   "metadata": {},
   "outputs": [],
   "source": [
    "# factor_returns = pd.read_csv(\"../Analysis/factors_returns_multi.csv\")\n",
    "# factors = pd.read_csv(\"../Factors/merge_Factors.csv\")\n",
    "# 1. give earning and risk factors with 100 and -100 scores respectively\n",
    "# 2. give scores to stocks based on their factor values(higher factor value on earning factor means higher score, higher factor value on risk factor means lower score)\n",
    "# 3. aggregate scores for each stock\n",
    "# 4. pick the 10 stocks with the highest scores\n",
    "def strategy2(date):\n",
    "    seg_num = 5\n",
    "    \n",
    "    # get factors score from factors\n",
    "    factors_score = factors[[\"Date\", \"Index\"]+earning_factors+risk_factors]\n",
    "    factors_score = factors_score.loc[factors_score[\"Date\"]==date]\n",
    "    for factor in all_factors:\n",
    "        factors_score = factors_score.drop_duplicates(subset=[factor])\n",
    "    for factor in all_factors:\n",
    "        factors_score[factor+\"_score\"] = None\n",
    "    num_row = factors_score.shape[0]\n",
    "    cut_length = floor(num_row/seg_num)\n",
    "    cutting_point = [i*cut_length for i in range(seg_num)]\n",
    "    cutting_point.append(num_row)\n",
    "    stock_index = []\n",
    "    score_list = list(np.arange(0, 1, 1/seg_num)+1/seg_num)\n",
    "    score_list.reverse()\n",
    "    \n",
    "    # get stock indexes in each region\n",
    "    for i in range(len(cutting_point)-1):\n",
    "        stock_index.append(list(range(cutting_point[i], cutting_point[i+1])))\n",
    "\n",
    "    for factor in earning_factors:\n",
    "        factors_score = factors_score.sort_values(by=factor, ascending=False)\n",
    "        col_index = list(factors_score.columns).index(factor+\"_score\")\n",
    "        for i in range(len(stock_index)):\n",
    "            factors_score.iloc[stock_index[i], col_index] = 100*score_list[i]\n",
    "    for factor in risk_factors:\n",
    "        factors_score = factors_score.sort_values(by=factor, ascending=True)\n",
    "        col_index = list(factors_score.columns).index(factor+\"_score\")\n",
    "        for i in range(len(stock_index)):\n",
    "            factors_score.iloc[stock_index[i], col_index] = 100*score_list[i]\n",
    "    factors_score[\"total_score\"] = factors_score[earning_factors[0]+\"_score\"] + factors_score[earning_factors[1]+\"_score\"] + factors_score[risk_factors[0]+\"_score\"] + factors_score[risk_factors[1]+\"_score\"]\n",
    "\n",
    "    factors_score = factors_score.sort_values(by=\"total_score\", ascending=False)\n",
    "    selected_stocks = factors_score[\"Index\"].head(10).tolist()\n",
    "    return selected_stocks\n",
    "    \n"
   ]
  }
 ],
 "metadata": {
  "kernelspec": {
   "display_name": "Python 3.7.1 64-bit",
   "language": "python",
   "name": "python3"
  },
  "language_info": {
   "codemirror_mode": {
    "name": "ipython",
    "version": 3
   },
   "file_extension": ".py",
   "mimetype": "text/x-python",
   "name": "python",
   "nbconvert_exporter": "python",
   "pygments_lexer": "ipython3",
   "version": "3.7.1"
  },
  "orig_nbformat": 4,
  "vscode": {
   "interpreter": {
    "hash": "5a98bc0709bb551cb0b40a68bfcb118c11ed773779c4b4ca5eb3852e4a8f5446"
   }
  }
 },
 "nbformat": 4,
 "nbformat_minor": 2
}
