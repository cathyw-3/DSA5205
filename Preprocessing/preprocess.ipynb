{
 "cells": [
  {
   "cell_type": "code",
   "execution_count": 44,
   "metadata": {},
   "outputs": [],
   "source": [
    "import numpy as np\n",
    "import matplotlib.pyplot as plt\n",
    "import pandas as pd\n",
    "import yfinance as yf"
   ]
  },
  {
   "cell_type": "code",
   "execution_count": 45,
   "metadata": {},
   "outputs": [],
   "source": [
    "Momentum = pd.read_csv(\"../Factors/Momentum_Factor.csv\")\n",
    "Turnover = pd.read_csv(\"../Factors/Turnover_Factor.csv\")\n",
    "Volatility = pd.read_csv(\"../Factors/Volatility_Factor.csv\")\n",
    "Value_Industry = pd.read_csv(\"../Factors/Value-Industry_Factor.csv\")\n",
    "FinancialQuality = pd.read_csv(\"../Factors/Financial-Quality_Factor.csv\")\n",
    "Return = pd.read_csv(\"../Factors/Return_Factor.csv\")"
   ]
  },
  {
   "cell_type": "code",
   "execution_count": 47,
   "metadata": {},
   "outputs": [],
   "source": [
    "Momentum = Momentum.loc[:, [\"Date\",\"Index\",\"Adj_Close\",\"relative_strength_1m\",\"relative_strength_2m\",\"relative_strength_3m\"]].rename(columns={\"relative_strength_1m\":\"Momentum_1m\",\"relative_strength_2m\":\"Momentum_2m\",\"relative_strength_3m\":\"Momentum_3m\"})\n",
    "Turnover = Turnover.loc[:, [\"Date\",\"Index\",\"Turnover_1m\",\"Turnover_2m\",\"Turnover_3m\"]]\n",
    "Volatility = Volatility.loc[:, [\"Date\",\"Index\",\"high_low_1m\",\"high_low_2m\",\"high_low_3m\",\"std_1m\",\"std_2m\",\"std_3m\"]].rename(columns={\"high_low_1m\":\"Volatility_1m\",\"high_low_2m\":\"Volatility_2m\",\"high_low_3m\":\"Volatility_3m\"})\n",
    "Value_Industry = Value_Industry.loc[:, [\"Date\",\"Index\",\"EP\",\"BP\",\"industry\"]]"
   ]
  },
  {
   "cell_type": "code",
   "execution_count": 48,
   "metadata": {},
   "outputs": [],
   "source": [
    "Factors = Momentum.merge(Turnover, on=[\"Date\",\"Index\"], how=\"left\").merge(Volatility, on=[\"Date\",\"Index\"], how=\"left\").merge(FinancialQuality, on=[\"Date\",\"Index\"], how=\"left\").merge(Value_Industry, on=[\"Date\",\"Index\"], how=\"left\")\n",
    "Factors.drop(columns=['Unnamed: 0'], inplace=True)\n",
    "Factors = pd.get_dummies(Factors, columns=[\"industry\"])"
   ]
  },
  {
   "cell_type": "code",
   "execution_count": 50,
   "metadata": {},
   "outputs": [],
   "source": [
    "null_rows = np.where(Factors.isnull())[0]\n",
    "missings = Factors.iloc[null_rows][\"Index\"].unique()\n",
    "Factors = Factors.loc[Factors[\"Index\"].isin(missings)==False]"
   ]
  },
  {
   "cell_type": "code",
   "execution_count": 52,
   "metadata": {},
   "outputs": [],
   "source": [
    "# normalization\n",
    "normal_columns = [\"Momentum_1m\",\"Momentum_2m\",\"Momentum_3m\",\"Turnover_1m\",\"Turnover_2m\",\"Turnover_3m\",\"Volatility_1m\",\"Volatility_2m\",\"Volatility_3m\",\"std_1m\",\"std_2m\",\"std_3m\",\"ROA\",\"ROE\",\"EP\",\"BP\"]\n",
    "for column in normal_columns:\n",
    "    n = 3\n",
    "    median = Factors[column].median()\n",
    "    median_series = (Factors[column] - median).abs()\n",
    "    MAD = median_series.median()\n",
    "    upper = median+MAD*n\n",
    "    lower = median-MAD*n\n",
    "    Factors.loc[Factors[column]>upper, column] = upper\n",
    "    Factors.loc[Factors[column]<lower, column] = lower\n",
    "    Factors[column] = (Factors[column] - Factors[column].mean()) / Factors[column].std()\n",
    "    "
   ]
  },
  {
   "cell_type": "code",
   "execution_count": 55,
   "metadata": {},
   "outputs": [],
   "source": [
    "Factors.to_csv(\"../Factors/Factors.csv\", index=False)"
   ]
  }
 ],
 "metadata": {
  "kernelspec": {
   "display_name": "Python 3.7.1 64-bit",
   "language": "python",
   "name": "python3"
  },
  "language_info": {
   "codemirror_mode": {
    "name": "ipython",
    "version": 3
   },
   "file_extension": ".py",
   "mimetype": "text/x-python",
   "name": "python",
   "nbconvert_exporter": "python",
   "pygments_lexer": "ipython3",
   "version": "3.7.1"
  },
  "orig_nbformat": 4,
  "vscode": {
   "interpreter": {
    "hash": "5a98bc0709bb551cb0b40a68bfcb118c11ed773779c4b4ca5eb3852e4a8f5446"
   }
  }
 },
 "nbformat": 4,
 "nbformat_minor": 2
}
