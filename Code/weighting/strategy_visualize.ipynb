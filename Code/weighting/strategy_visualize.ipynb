{
 "cells": [
  {
   "cell_type": "code",
   "execution_count": 1,
   "id": "99cbcf5b",
   "metadata": {},
   "outputs": [],
   "source": [
    "import pandas_datareader as pdr\n",
    "import numpy as np\n",
    "import pandas as pd\n",
    "import scipy.optimize \n",
    "from datetime import datetime,time,timedelta\n",
    "import matplotlib.pyplot as plt\n",
    "import matplotlib as mpl\n",
    "%matplotlib inline\n",
    "mpl.rc('axes', labelsize=14)\n",
    "mpl.rc('xtick', labelsize=12)\n",
    "mpl.rc('ytick', labelsize=12)\n",
    "colors = plt.rcParams['axes.prop_cycle'].by_key()['color']\n",
    "\n",
    "from Strategy.strategy1 import strategy1\n",
    "from Strategy.strategy2 import strategy2\n",
    "from Strategy.strategy3 import strategy3"
   ]
  },
  {
   "cell_type": "code",
   "execution_count": 2,
   "id": "5dbdf982",
   "metadata": {},
   "outputs": [],
   "source": [
    "factors = pd.read_csv(\"./Factors/merge_Factors.csv\")\n",
    "factor_returns = pd.read_csv(\"./Predict/factors_returns_pred.csv\")"
   ]
  },
  {
   "cell_type": "code",
   "execution_count": 3,
   "id": "9c6ff14c",
   "metadata": {},
   "outputs": [],
   "source": [
    "portfolio_val_1_8 = pd.read_csv(\"./portfolio_val_1_8.csv\")\n",
    "portfolio_val_1_9 = pd.read_csv(\"./portfolio_val_1_9.csv\")\n",
    "portfolio_val_1_10 = pd.read_csv(\"./portfolio_val_1_10.csv\")\n",
    "portfolio_val_2_8 = pd.read_csv(\"./portfolio_val_2_8.csv\")\n",
    "portfolio_val_2_9 = pd.read_csv(\"./portfolio_val_2_9.csv\")\n",
    "portfolio_val_2_10 = pd.read_csv(\"./portfolio_val_2_10.csv\")\n",
    "portfolio_val_3_8 = pd.read_csv(\"./portfolio_val_3_8.csv\")\n",
    "portfolio_val_3_9 = pd.read_csv(\"./portfolio_val_3_9.csv\")\n",
    "portfolio_val_3_10 = pd.read_csv(\"./portfolio_val_3_10.csv\")"
   ]
  },
  {
   "cell_type": "code",
   "execution_count": 4,
   "id": "14eccf0f",
   "metadata": {},
   "outputs": [],
   "source": [
    "daily_return_1_89 = np.concatenate((portfolio_val_1_8['Total'].values, portfolio_val_1_9['Total'].values), axis=0)"
   ]
  },
  {
   "cell_type": "code",
   "execution_count": 5,
   "id": "cb0cdad2",
   "metadata": {},
   "outputs": [],
   "source": [
    "daily_return_2_89 = np.concatenate((portfolio_val_2_8['Total'].values, portfolio_val_2_9['Total'].values), axis=0)"
   ]
  },
  {
   "cell_type": "code",
   "execution_count": 6,
   "id": "36052bb8",
   "metadata": {},
   "outputs": [],
   "source": [
    "daily_return_3_89 = np.concatenate((portfolio_val_3_8['Total'].values, portfolio_val_3_9['Total'].values), axis=0)"
   ]
  },
  {
   "cell_type": "code",
   "execution_count": 7,
   "id": "ac2cbe8b",
   "metadata": {},
   "outputs": [
    {
     "data": {
      "text/html": [
       "<div>\n",
       "<style scoped>\n",
       "    .dataframe tbody tr th:only-of-type {\n",
       "        vertical-align: middle;\n",
       "    }\n",
       "\n",
       "    .dataframe tbody tr th {\n",
       "        vertical-align: top;\n",
       "    }\n",
       "\n",
       "    .dataframe thead th {\n",
       "        text-align: right;\n",
       "    }\n",
       "</style>\n",
       "<table border=\"1\" class=\"dataframe\">\n",
       "  <thead>\n",
       "    <tr style=\"text-align: right;\">\n",
       "      <th></th>\n",
       "      <th>strategy1</th>\n",
       "      <th>strategy2</th>\n",
       "      <th>strategy3</th>\n",
       "    </tr>\n",
       "    <tr>\n",
       "      <th>Date</th>\n",
       "      <th></th>\n",
       "      <th></th>\n",
       "      <th></th>\n",
       "    </tr>\n",
       "  </thead>\n",
       "  <tbody>\n",
       "    <tr>\n",
       "      <th>2022-08-01</th>\n",
       "      <td>-0.012953</td>\n",
       "      <td>0.275727</td>\n",
       "      <td>0.068766</td>\n",
       "    </tr>\n",
       "    <tr>\n",
       "      <th>2022-08-02</th>\n",
       "      <td>0.013288</td>\n",
       "      <td>-0.071477</td>\n",
       "      <td>-0.000828</td>\n",
       "    </tr>\n",
       "    <tr>\n",
       "      <th>2022-08-03</th>\n",
       "      <td>-0.023671</td>\n",
       "      <td>-0.061400</td>\n",
       "      <td>0.029992</td>\n",
       "    </tr>\n",
       "    <tr>\n",
       "      <th>2022-08-04</th>\n",
       "      <td>-0.236179</td>\n",
       "      <td>0.007639</td>\n",
       "      <td>0.017287</td>\n",
       "    </tr>\n",
       "    <tr>\n",
       "      <th>2022-08-05</th>\n",
       "      <td>0.054861</td>\n",
       "      <td>-0.013754</td>\n",
       "      <td>-0.027202</td>\n",
       "    </tr>\n",
       "    <tr>\n",
       "      <th>2022-08-08</th>\n",
       "      <td>-0.032079</td>\n",
       "      <td>0.000661</td>\n",
       "      <td>-0.017025</td>\n",
       "    </tr>\n",
       "    <tr>\n",
       "      <th>2022-08-09</th>\n",
       "      <td>-0.111080</td>\n",
       "      <td>-0.044803</td>\n",
       "      <td>0.004394</td>\n",
       "    </tr>\n",
       "    <tr>\n",
       "      <th>2022-08-10</th>\n",
       "      <td>0.001981</td>\n",
       "      <td>0.076733</td>\n",
       "      <td>0.060236</td>\n",
       "    </tr>\n",
       "    <tr>\n",
       "      <th>2022-08-11</th>\n",
       "      <td>-0.031339</td>\n",
       "      <td>-0.045919</td>\n",
       "      <td>-0.017476</td>\n",
       "    </tr>\n",
       "    <tr>\n",
       "      <th>2022-08-12</th>\n",
       "      <td>-0.038878</td>\n",
       "      <td>-0.018554</td>\n",
       "      <td>0.059890</td>\n",
       "    </tr>\n",
       "    <tr>\n",
       "      <th>2022-08-15</th>\n",
       "      <td>-0.013539</td>\n",
       "      <td>0.106566</td>\n",
       "      <td>0.014489</td>\n",
       "    </tr>\n",
       "    <tr>\n",
       "      <th>2022-08-16</th>\n",
       "      <td>-0.090369</td>\n",
       "      <td>-0.001277</td>\n",
       "      <td>0.006621</td>\n",
       "    </tr>\n",
       "    <tr>\n",
       "      <th>2022-08-17</th>\n",
       "      <td>0.032259</td>\n",
       "      <td>-0.062803</td>\n",
       "      <td>0.001205</td>\n",
       "    </tr>\n",
       "    <tr>\n",
       "      <th>2022-08-18</th>\n",
       "      <td>0.055098</td>\n",
       "      <td>0.063986</td>\n",
       "      <td>0.006896</td>\n",
       "    </tr>\n",
       "    <tr>\n",
       "      <th>2022-08-19</th>\n",
       "      <td>-0.015349</td>\n",
       "      <td>0.009112</td>\n",
       "      <td>-0.007420</td>\n",
       "    </tr>\n",
       "    <tr>\n",
       "      <th>2022-08-22</th>\n",
       "      <td>0.028971</td>\n",
       "      <td>-0.033996</td>\n",
       "      <td>0.004412</td>\n",
       "    </tr>\n",
       "    <tr>\n",
       "      <th>2022-08-23</th>\n",
       "      <td>0.016158</td>\n",
       "      <td>-0.038686</td>\n",
       "      <td>-0.030234</td>\n",
       "    </tr>\n",
       "    <tr>\n",
       "      <th>2022-08-24</th>\n",
       "      <td>0.014495</td>\n",
       "      <td>-0.005147</td>\n",
       "      <td>0.011185</td>\n",
       "    </tr>\n",
       "    <tr>\n",
       "      <th>2022-08-25</th>\n",
       "      <td>-0.059995</td>\n",
       "      <td>0.053463</td>\n",
       "      <td>0.017373</td>\n",
       "    </tr>\n",
       "    <tr>\n",
       "      <th>2022-08-26</th>\n",
       "      <td>-0.039419</td>\n",
       "      <td>-0.018122</td>\n",
       "      <td>-0.029619</td>\n",
       "    </tr>\n",
       "    <tr>\n",
       "      <th>2022-08-29</th>\n",
       "      <td>0.014104</td>\n",
       "      <td>-0.018589</td>\n",
       "      <td>0.016249</td>\n",
       "    </tr>\n",
       "    <tr>\n",
       "      <th>2022-08-30</th>\n",
       "      <td>0.033453</td>\n",
       "      <td>-0.012419</td>\n",
       "      <td>-0.016343</td>\n",
       "    </tr>\n",
       "    <tr>\n",
       "      <th>2022-08-31</th>\n",
       "      <td>0.023180</td>\n",
       "      <td>0.109840</td>\n",
       "      <td>0.013646</td>\n",
       "    </tr>\n",
       "    <tr>\n",
       "      <th>2022-09-01</th>\n",
       "      <td>0.147692</td>\n",
       "      <td>0.071449</td>\n",
       "      <td>-0.064313</td>\n",
       "    </tr>\n",
       "    <tr>\n",
       "      <th>2022-09-02</th>\n",
       "      <td>-0.026806</td>\n",
       "      <td>-0.056900</td>\n",
       "      <td>-0.045726</td>\n",
       "    </tr>\n",
       "    <tr>\n",
       "      <th>2022-09-06</th>\n",
       "      <td>0.078191</td>\n",
       "      <td>-0.055054</td>\n",
       "      <td>-0.041230</td>\n",
       "    </tr>\n",
       "    <tr>\n",
       "      <th>2022-09-07</th>\n",
       "      <td>-0.034389</td>\n",
       "      <td>0.037671</td>\n",
       "      <td>0.081213</td>\n",
       "    </tr>\n",
       "    <tr>\n",
       "      <th>2022-09-08</th>\n",
       "      <td>0.061336</td>\n",
       "      <td>0.072069</td>\n",
       "      <td>0.092034</td>\n",
       "    </tr>\n",
       "    <tr>\n",
       "      <th>2022-09-09</th>\n",
       "      <td>-0.035657</td>\n",
       "      <td>-0.013470</td>\n",
       "      <td>-0.000609</td>\n",
       "    </tr>\n",
       "    <tr>\n",
       "      <th>2022-09-12</th>\n",
       "      <td>-0.038796</td>\n",
       "      <td>0.018200</td>\n",
       "      <td>0.025619</td>\n",
       "    </tr>\n",
       "    <tr>\n",
       "      <th>2022-09-13</th>\n",
       "      <td>-0.049904</td>\n",
       "      <td>-0.118154</td>\n",
       "      <td>-0.084086</td>\n",
       "    </tr>\n",
       "    <tr>\n",
       "      <th>2022-09-14</th>\n",
       "      <td>0.048456</td>\n",
       "      <td>-0.046247</td>\n",
       "      <td>-0.027012</td>\n",
       "    </tr>\n",
       "    <tr>\n",
       "      <th>2022-09-15</th>\n",
       "      <td>0.033603</td>\n",
       "      <td>-0.000604</td>\n",
       "      <td>-0.006208</td>\n",
       "    </tr>\n",
       "    <tr>\n",
       "      <th>2022-09-16</th>\n",
       "      <td>-0.054626</td>\n",
       "      <td>0.021125</td>\n",
       "      <td>0.004446</td>\n",
       "    </tr>\n",
       "    <tr>\n",
       "      <th>2022-09-19</th>\n",
       "      <td>-0.022103</td>\n",
       "      <td>0.005650</td>\n",
       "      <td>-0.013998</td>\n",
       "    </tr>\n",
       "    <tr>\n",
       "      <th>2022-09-20</th>\n",
       "      <td>-0.038134</td>\n",
       "      <td>-0.010305</td>\n",
       "      <td>0.003091</td>\n",
       "    </tr>\n",
       "    <tr>\n",
       "      <th>2022-09-21</th>\n",
       "      <td>-0.016757</td>\n",
       "      <td>-0.009039</td>\n",
       "      <td>-0.009630</td>\n",
       "    </tr>\n",
       "    <tr>\n",
       "      <th>2022-09-22</th>\n",
       "      <td>-0.050103</td>\n",
       "      <td>-0.018599</td>\n",
       "      <td>-0.014042</td>\n",
       "    </tr>\n",
       "    <tr>\n",
       "      <th>2022-09-23</th>\n",
       "      <td>0.039836</td>\n",
       "      <td>-0.071408</td>\n",
       "      <td>0.017533</td>\n",
       "    </tr>\n",
       "    <tr>\n",
       "      <th>2022-09-26</th>\n",
       "      <td>-0.083171</td>\n",
       "      <td>-0.004249</td>\n",
       "      <td>-0.031590</td>\n",
       "    </tr>\n",
       "    <tr>\n",
       "      <th>2022-09-27</th>\n",
       "      <td>0.062800</td>\n",
       "      <td>0.011689</td>\n",
       "      <td>-0.004145</td>\n",
       "    </tr>\n",
       "    <tr>\n",
       "      <th>2022-09-28</th>\n",
       "      <td>0.068221</td>\n",
       "      <td>0.017169</td>\n",
       "      <td>0.021268</td>\n",
       "    </tr>\n",
       "    <tr>\n",
       "      <th>2022-09-29</th>\n",
       "      <td>-0.008587</td>\n",
       "      <td>-0.018744</td>\n",
       "      <td>-0.037560</td>\n",
       "    </tr>\n",
       "    <tr>\n",
       "      <th>2022-09-30</th>\n",
       "      <td>0.088503</td>\n",
       "      <td>-0.063458</td>\n",
       "      <td>-0.075053</td>\n",
       "    </tr>\n",
       "  </tbody>\n",
       "</table>\n",
       "</div>"
      ],
      "text/plain": [
       "            strategy1  strategy2  strategy3\n",
       "Date                                       \n",
       "2022-08-01  -0.012953   0.275727   0.068766\n",
       "2022-08-02   0.013288  -0.071477  -0.000828\n",
       "2022-08-03  -0.023671  -0.061400   0.029992\n",
       "2022-08-04  -0.236179   0.007639   0.017287\n",
       "2022-08-05   0.054861  -0.013754  -0.027202\n",
       "2022-08-08  -0.032079   0.000661  -0.017025\n",
       "2022-08-09  -0.111080  -0.044803   0.004394\n",
       "2022-08-10   0.001981   0.076733   0.060236\n",
       "2022-08-11  -0.031339  -0.045919  -0.017476\n",
       "2022-08-12  -0.038878  -0.018554   0.059890\n",
       "2022-08-15  -0.013539   0.106566   0.014489\n",
       "2022-08-16  -0.090369  -0.001277   0.006621\n",
       "2022-08-17   0.032259  -0.062803   0.001205\n",
       "2022-08-18   0.055098   0.063986   0.006896\n",
       "2022-08-19  -0.015349   0.009112  -0.007420\n",
       "2022-08-22   0.028971  -0.033996   0.004412\n",
       "2022-08-23   0.016158  -0.038686  -0.030234\n",
       "2022-08-24   0.014495  -0.005147   0.011185\n",
       "2022-08-25  -0.059995   0.053463   0.017373\n",
       "2022-08-26  -0.039419  -0.018122  -0.029619\n",
       "2022-08-29   0.014104  -0.018589   0.016249\n",
       "2022-08-30   0.033453  -0.012419  -0.016343\n",
       "2022-08-31   0.023180   0.109840   0.013646\n",
       "2022-09-01   0.147692   0.071449  -0.064313\n",
       "2022-09-02  -0.026806  -0.056900  -0.045726\n",
       "2022-09-06   0.078191  -0.055054  -0.041230\n",
       "2022-09-07  -0.034389   0.037671   0.081213\n",
       "2022-09-08   0.061336   0.072069   0.092034\n",
       "2022-09-09  -0.035657  -0.013470  -0.000609\n",
       "2022-09-12  -0.038796   0.018200   0.025619\n",
       "2022-09-13  -0.049904  -0.118154  -0.084086\n",
       "2022-09-14   0.048456  -0.046247  -0.027012\n",
       "2022-09-15   0.033603  -0.000604  -0.006208\n",
       "2022-09-16  -0.054626   0.021125   0.004446\n",
       "2022-09-19  -0.022103   0.005650  -0.013998\n",
       "2022-09-20  -0.038134  -0.010305   0.003091\n",
       "2022-09-21  -0.016757  -0.009039  -0.009630\n",
       "2022-09-22  -0.050103  -0.018599  -0.014042\n",
       "2022-09-23   0.039836  -0.071408   0.017533\n",
       "2022-09-26  -0.083171  -0.004249  -0.031590\n",
       "2022-09-27   0.062800   0.011689  -0.004145\n",
       "2022-09-28   0.068221   0.017169   0.021268\n",
       "2022-09-29  -0.008587  -0.018744  -0.037560\n",
       "2022-09-30   0.088503  -0.063458  -0.075053"
      ]
     },
     "execution_count": 7,
     "metadata": {},
     "output_type": "execute_result"
    }
   ],
   "source": [
    "portfolio_89 = factors.loc[(factors[\"Date\"]>='2022-08-01') & (factors[\"Date\"]<='2022-09-30') & (factors[\"Index\"]=='ASML')]\n",
    "portfolio_89 = portfolio_89[['Date']].reset_index(drop=True)\n",
    "portfolio_89['strategy1'] = daily_return_1_89\n",
    "portfolio_89['strategy2'] = daily_return_2_89\n",
    "portfolio_89['strategy3'] = daily_return_3_89\n",
    "portfolio_89 = portfolio_89.set_index(\"Date\")\n",
    "portfolio_89"
   ]
  },
  {
   "cell_type": "code",
   "execution_count": 8,
   "id": "d2a3f2a3",
   "metadata": {},
   "outputs": [
    {
     "data": {
      "text/plain": [
       "-0.08936700396113886"
      ]
     },
     "execution_count": 8,
     "metadata": {},
     "output_type": "execute_result"
    }
   ],
   "source": [
    "portfolio_89['strategy1'].mean() / portfolio_89['strategy1'].std()"
   ]
  },
  {
   "cell_type": "code",
   "execution_count": 9,
   "id": "b97c4686",
   "metadata": {},
   "outputs": [
    {
     "data": {
      "text/plain": [
       "0.0090104652490303"
      ]
     },
     "execution_count": 9,
     "metadata": {},
     "output_type": "execute_result"
    }
   ],
   "source": [
    "portfolio_89['strategy2'].mean() / portfolio_89['strategy2'].std()"
   ]
  },
  {
   "cell_type": "code",
   "execution_count": 10,
   "id": "13e86938",
   "metadata": {},
   "outputs": [
    {
     "data": {
      "text/plain": [
       "-0.014469776730525422"
      ]
     },
     "execution_count": 10,
     "metadata": {},
     "output_type": "execute_result"
    }
   ],
   "source": [
    "portfolio_89['strategy3'].mean() / portfolio_89['strategy3'].std()"
   ]
  },
  {
   "cell_type": "code",
   "execution_count": 11,
   "id": "a30536fa",
   "metadata": {},
   "outputs": [
    {
     "data": {
      "text/plain": [
       "<AxesSubplot: xlabel='Date'>"
      ]
     },
     "execution_count": 11,
     "metadata": {},
     "output_type": "execute_result"
    },
    {
     "data": {
      "image/png": "[encoded data removed]",
      "text/plain": [
       "<Figure size 720x576 with 1 Axes>"
      ]
     },
     "metadata": {
      "needs_background": "light"
     },
     "output_type": "display_data"
    }
   ],
   "source": [
    "portfolio_89.plot(figsize=(10,8))"
   ]
  },
  {
   "cell_type": "code",
   "execution_count": 12,
   "id": "e0a11786",
   "metadata": {},
   "outputs": [
    {
     "data": {
      "text/html": [
       "<div>\n",
       "<style scoped>\n",
       "    .dataframe tbody tr th:only-of-type {\n",
       "        vertical-align: middle;\n",
       "    }\n",
       "\n",
       "    .dataframe tbody tr th {\n",
       "        vertical-align: top;\n",
       "    }\n",
       "\n",
       "    .dataframe thead th {\n",
       "        text-align: right;\n",
       "    }\n",
       "</style>\n",
       "<table border=\"1\" class=\"dataframe\">\n",
       "  <thead>\n",
       "    <tr style=\"text-align: right;\">\n",
       "      <th></th>\n",
       "      <th>strategy1</th>\n",
       "      <th>strategy2</th>\n",
       "      <th>strategy3</th>\n",
       "    </tr>\n",
       "    <tr>\n",
       "      <th>Date</th>\n",
       "      <th></th>\n",
       "      <th></th>\n",
       "      <th></th>\n",
       "    </tr>\n",
       "  </thead>\n",
       "  <tbody>\n",
       "    <tr>\n",
       "      <th>2022-10-03</th>\n",
       "      <td>-0.057574</td>\n",
       "      <td>0.033746</td>\n",
       "      <td>0.004904</td>\n",
       "    </tr>\n",
       "    <tr>\n",
       "      <th>2022-10-04</th>\n",
       "      <td>0.133755</td>\n",
       "      <td>0.006169</td>\n",
       "      <td>-0.012102</td>\n",
       "    </tr>\n",
       "    <tr>\n",
       "      <th>2022-10-05</th>\n",
       "      <td>0.050617</td>\n",
       "      <td>-0.011731</td>\n",
       "      <td>-0.001507</td>\n",
       "    </tr>\n",
       "    <tr>\n",
       "      <th>2022-10-06</th>\n",
       "      <td>0.053473</td>\n",
       "      <td>-0.010551</td>\n",
       "      <td>-0.000209</td>\n",
       "    </tr>\n",
       "    <tr>\n",
       "      <th>2022-10-07</th>\n",
       "      <td>0.049525</td>\n",
       "      <td>-0.025258</td>\n",
       "      <td>0.008493</td>\n",
       "    </tr>\n",
       "    <tr>\n",
       "      <th>2022-10-10</th>\n",
       "      <td>0.073464</td>\n",
       "      <td>0.003738</td>\n",
       "      <td>-0.107871</td>\n",
       "    </tr>\n",
       "    <tr>\n",
       "      <th>2022-10-11</th>\n",
       "      <td>0.047757</td>\n",
       "      <td>-0.017663</td>\n",
       "      <td>0.038939</td>\n",
       "    </tr>\n",
       "    <tr>\n",
       "      <th>2022-10-12</th>\n",
       "      <td>0.132725</td>\n",
       "      <td>-0.007272</td>\n",
       "      <td>-0.011377</td>\n",
       "    </tr>\n",
       "    <tr>\n",
       "      <th>2022-10-13</th>\n",
       "      <td>0.003878</td>\n",
       "      <td>0.009397</td>\n",
       "      <td>-0.054904</td>\n",
       "    </tr>\n",
       "    <tr>\n",
       "      <th>2022-10-14</th>\n",
       "      <td>-0.142971</td>\n",
       "      <td>-0.029672</td>\n",
       "      <td>-0.023371</td>\n",
       "    </tr>\n",
       "    <tr>\n",
       "      <th>2022-10-17</th>\n",
       "      <td>0.230459</td>\n",
       "      <td>0.031471</td>\n",
       "      <td>0.028795</td>\n",
       "    </tr>\n",
       "    <tr>\n",
       "      <th>2022-10-18</th>\n",
       "      <td>0.156744</td>\n",
       "      <td>-0.021998</td>\n",
       "      <td>0.009698</td>\n",
       "    </tr>\n",
       "    <tr>\n",
       "      <th>2022-10-19</th>\n",
       "      <td>-0.007211</td>\n",
       "      <td>0.027580</td>\n",
       "      <td>-0.023079</td>\n",
       "    </tr>\n",
       "    <tr>\n",
       "      <th>2022-10-20</th>\n",
       "      <td>-0.031126</td>\n",
       "      <td>-0.033132</td>\n",
       "      <td>-0.071418</td>\n",
       "    </tr>\n",
       "    <tr>\n",
       "      <th>2022-10-21</th>\n",
       "      <td>0.080561</td>\n",
       "      <td>-0.002262</td>\n",
       "      <td>-0.033673</td>\n",
       "    </tr>\n",
       "    <tr>\n",
       "      <th>2022-10-24</th>\n",
       "      <td>0.106777</td>\n",
       "      <td>0.028968</td>\n",
       "      <td>-0.126378</td>\n",
       "    </tr>\n",
       "    <tr>\n",
       "      <th>2022-10-25</th>\n",
       "      <td>-0.069006</td>\n",
       "      <td>0.012301</td>\n",
       "      <td>0.080884</td>\n",
       "    </tr>\n",
       "    <tr>\n",
       "      <th>2022-10-26</th>\n",
       "      <td>0.112901</td>\n",
       "      <td>-0.009490</td>\n",
       "      <td>0.020928</td>\n",
       "    </tr>\n",
       "    <tr>\n",
       "      <th>2022-10-27</th>\n",
       "      <td>-0.062174</td>\n",
       "      <td>0.024181</td>\n",
       "      <td>0.043650</td>\n",
       "    </tr>\n",
       "    <tr>\n",
       "      <th>2022-10-28</th>\n",
       "      <td>0.040545</td>\n",
       "      <td>0.016395</td>\n",
       "      <td>0.034039</td>\n",
       "    </tr>\n",
       "    <tr>\n",
       "      <th>2022-10-31</th>\n",
       "      <td>-0.031199</td>\n",
       "      <td>-0.019918</td>\n",
       "      <td>-0.028100</td>\n",
       "    </tr>\n",
       "  </tbody>\n",
       "</table>\n",
       "</div>"
      ],
      "text/plain": [
       "            strategy1  strategy2  strategy3\n",
       "Date                                       \n",
       "2022-10-03  -0.057574   0.033746   0.004904\n",
       "2022-10-04   0.133755   0.006169  -0.012102\n",
       "2022-10-05   0.050617  -0.011731  -0.001507\n",
       "2022-10-06   0.053473  -0.010551  -0.000209\n",
       "2022-10-07   0.049525  -0.025258   0.008493\n",
       "2022-10-10   0.073464   0.003738  -0.107871\n",
       "2022-10-11   0.047757  -0.017663   0.038939\n",
       "2022-10-12   0.132725  -0.007272  -0.011377\n",
       "2022-10-13   0.003878   0.009397  -0.054904\n",
       "2022-10-14  -0.142971  -0.029672  -0.023371\n",
       "2022-10-17   0.230459   0.031471   0.028795\n",
       "2022-10-18   0.156744  -0.021998   0.009698\n",
       "2022-10-19  -0.007211   0.027580  -0.023079\n",
       "2022-10-20  -0.031126  -0.033132  -0.071418\n",
       "2022-10-21   0.080561  -0.002262  -0.033673\n",
       "2022-10-24   0.106777   0.028968  -0.126378\n",
       "2022-10-25  -0.069006   0.012301   0.080884\n",
       "2022-10-26   0.112901  -0.009490   0.020928\n",
       "2022-10-27  -0.062174   0.024181   0.043650\n",
       "2022-10-28   0.040545   0.016395   0.034039\n",
       "2022-10-31  -0.031199  -0.019918  -0.028100"
      ]
     },
     "execution_count": 12,
     "metadata": {},
     "output_type": "execute_result"
    }
   ],
   "source": [
    "portfolio_10 = factors.loc[(factors[\"Date\"]>='2022-10-01') & (factors[\"Date\"]<='2022-10-31') & (factors[\"Index\"]=='ASML')]\n",
    "portfolio_10 = portfolio_10[['Date']].reset_index(drop=True)\n",
    "portfolio_10['strategy1'] = portfolio_val_1_10['Total']\n",
    "portfolio_10['strategy2'] = portfolio_val_2_10['Total']\n",
    "portfolio_10['strategy3'] = portfolio_val_3_10['Total']\n",
    "portfolio_10 = portfolio_10.set_index(\"Date\")\n",
    "portfolio_10"
   ]
  },
  {
   "cell_type": "code",
   "execution_count": 13,
   "id": "ef11f872",
   "metadata": {},
   "outputs": [
    {
     "data": {
      "text/plain": [
       "0.465357705233142"
      ]
     },
     "execution_count": 13,
     "metadata": {},
     "output_type": "execute_result"
    }
   ],
   "source": [
    "portfolio_10['strategy1'].mean() / portfolio_10['strategy1'].std()"
   ]
  },
  {
   "cell_type": "code",
   "execution_count": 14,
   "id": "a5eb77d5",
   "metadata": {},
   "outputs": [
    {
     "data": {
      "text/plain": [
       "0.011172877699074735"
      ]
     },
     "execution_count": 14,
     "metadata": {},
     "output_type": "execute_result"
    }
   ],
   "source": [
    "portfolio_10['strategy2'].mean() / portfolio_10['strategy2'].std()"
   ]
  },
  {
   "cell_type": "code",
   "execution_count": 15,
   "id": "19152d25",
   "metadata": {},
   "outputs": [
    {
     "data": {
      "text/plain": [
       "-0.21473298151337816"
      ]
     },
     "execution_count": 15,
     "metadata": {},
     "output_type": "execute_result"
    }
   ],
   "source": [
    "portfolio_10['strategy3'].mean() / portfolio_10['strategy3'].std()"
   ]
  },
  {
   "cell_type": "code",
   "execution_count": 16,
   "id": "89106add",
   "metadata": {},
   "outputs": [
    {
     "data": {
      "text/plain": [
       "<AxesSubplot: xlabel='Date'>"
      ]
     },
     "execution_count": 16,
     "metadata": {},
     "output_type": "execute_result"
    },
    {
     "data": {
      "image/png": "[encoded data removed]",
      "text/plain": [
       "<Figure size 720x576 with 1 Axes>"
      ]
     },
     "metadata": {
      "needs_background": "light"
     },
     "output_type": "display_data"
    }
   ],
   "source": [
    "portfolio_10.plot(figsize=(10,8))"
   ]
  },
  {
   "cell_type": "code",
   "execution_count": null,
   "id": "ed2e5037",
   "metadata": {},
   "outputs": [],
   "source": []
  }
 ],
 "metadata": {
  "kernelspec": {
   "display_name": "Python 3",
   "language": "python",
   "name": "python3"
  },
  "language_info": {
   "codemirror_mode": {
    "name": "ipython",
    "version": 3
   },
   "file_extension": ".py",
   "mimetype": "text/x-python",
   "name": "python",
   "nbconvert_exporter": "python",
   "pygments_lexer": "ipython3",
   "version": "3.9.0"
  }
 },
 "nbformat": 4,
 "nbformat_minor": 5
}
