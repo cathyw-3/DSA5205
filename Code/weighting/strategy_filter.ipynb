{
 "cells": [
  {
   "cell_type": "code",
   "execution_count": 214,
   "id": "36d1c2d5",
   "metadata": {},
   "outputs": [],
   "source": [
    "import pandas_datareader as pdr\n",
    "import numpy as np\n",
    "import pandas as pd\n",
    "import scipy.optimize \n",
    "from datetime import datetime,time,timedelta\n",
    "import matplotlib.pyplot as plt\n",
    "%matplotlib inline\n",
    "\n",
    "from Strategy.strategy1 import strategy1\n",
    "from Strategy.strategy2 import strategy2\n",
    "from Strategy.strategy3 import strategy3"
   ]
  },
  {
   "cell_type": "code",
   "execution_count": 300,
   "id": "d030f8a6",
   "metadata": {},
   "outputs": [],
   "source": [
    "factors = pd.read_csv(\"./Factors/merge_Factors.csv\")\n",
    "factor_returns = pd.read_csv(\"./Predict/factors_returns_pred.csv\")\n",
    "stock_raw_data = pd.read_csv(\"./Data/Raw_Stock_Data.csv\")"
   ]
  },
  {
   "cell_type": "code",
   "execution_count": 27,
   "id": "b5a7655a",
   "metadata": {},
   "outputs": [],
   "source": [
    "date = \"2022-10-03\"\n",
    "selected_stocks = strategy1(date)\n",
    "factors = factors.loc[(factors[\"Date\"]==date) & (factors[\"Index\"].isin(selected_stocks))]\n",
    "factor_returns = factor_returns.loc[factor_returns[\"Date\"]==date]\n",
    "factor_returns = factor_returns.iloc[:,1:]\n",
    "stock_list = factors[\"Index\"].tolist()\n",
    "factors = factors.iloc[:, 3:]\n",
    "factors = np.array(factors)\n",
    "factor_returns = np.array(factor_returns)"
   ]
  },
  {
   "cell_type": "code",
   "execution_count": 28,
   "id": "62055190",
   "metadata": {},
   "outputs": [],
   "source": [
    "stock_return = np.dot(factors, factor_returns.T).reshape(-1)\n",
    "stock_list = np.array(stock_list)"
   ]
  },
  {
   "cell_type": "code",
   "execution_count": 29,
   "id": "31c38384",
   "metadata": {},
   "outputs": [
    {
     "data": {
      "text/plain": [
       "array([0.01065462, 0.02895356, 0.04407649, 0.03290185, 0.00890382,\n",
       "       0.01174139, 0.04829632, 0.04372723, 0.01981285, 0.07887703])"
      ]
     },
     "execution_count": 29,
     "metadata": {},
     "output_type": "execute_result"
    }
   ],
   "source": [
    "stock_return"
   ]
  },
  {
   "cell_type": "markdown",
   "id": "b35f5337",
   "metadata": {},
   "source": [
    "### Test optimize:"
   ]
  },
  {
   "cell_type": "code",
   "execution_count": 30,
   "id": "74006e74",
   "metadata": {},
   "outputs": [],
   "source": [
    "from datetime import datetime "
   ]
  },
  {
   "cell_type": "code",
   "execution_count": 34,
   "id": "4cd0cb55",
   "metadata": {},
   "outputs": [],
   "source": [
    "def optimize(weights,tickers,start,end,calc_window,rf_rate,short=False,\n",
    "             price_type='Close',clean='True'):\n",
    "          \n",
    "        '''\n",
    "        weights; *type = list, initial guess weights\n",
    "        \n",
    "        start; input as str, data start date format 'YYYY-MM-DD' \n",
    "        end; input as str, data end date format 'YYYY-MM-DD'\n",
    "        \n",
    "        calc_window; input as str, calculation window for returns, \n",
    "        \n",
    "        rf_rate; desired risk-free rate to benchmark against\n",
    "        \n",
    "        price_type; *input as str, default = 'Close', options = 'Adj Close', \n",
    "        'Close', 'High','Low','Open', 'Volume'\n",
    "        \n",
    "        short = bool, default = 'False', if true weight bounds -1 to 1\n",
    "        \n",
    "        clean; bool, default = 'False', if true, the function will drop NA rows\n",
    "        '''\n",
    "        start = datetime.strptime(start,'%Y-%m-%d')\n",
    "        end = datetime.strptime(end,'%Y-%m-%d')\n",
    "        \n",
    "        prices = pdr.get_data_yahoo(tickers, start, end)[price_type]\n",
    "        \n",
    "        op = prices.pct_change(periods=int(calc_window))\n",
    "        op.iloc[-1,:]=stock_return\n",
    "        if clean == False:\n",
    "            op\n",
    "            \n",
    "        else:\n",
    "            op = op.dropna()\n",
    "        \n",
    "        vcv_matrix = np.cov(op.T)\n",
    "        \n",
    "        avg_return = op.mean()\n",
    "        \n",
    "        def sharpe(weights,vcv_matrix,avg_return):        \n",
    "            \n",
    "            var = np.dot(np.dot(weights,vcv_matrix),weights)\n",
    "            \n",
    "            ret =  np.dot(weights,avg_return)\n",
    "            \n",
    "            s_ratio = -(ret-rf_rate)/np.sqrt(var)\n",
    "            \n",
    "            return s_ratio\n",
    "           \n",
    "        \n",
    "        sharpe_cons = ({'type':'eq','fun': lambda x: sum(x)-1})\n",
    "        \n",
    "        \n",
    "        if short == False:\n",
    "            sharpe_bnds = ((0,1),)*len(tickers)\n",
    "        \n",
    "        if short == True:\n",
    "            sharpe_bnds = ((-1,1),)*len(tickers)\n",
    "        \n",
    "        optimal = scipy.optimize.minimize(sharpe,weights,bounds = sharpe_bnds,\n",
    "                                 args = (vcv_matrix,avg_return),\n",
    "                                 constraints = sharpe_cons)\n",
    "        \n",
    "        return optimal\n"
   ]
  },
  {
   "cell_type": "code",
   "execution_count": 62,
   "id": "066dcf80",
   "metadata": {},
   "outputs": [],
   "source": [
    "weights=[0.1]*10\n",
    "tickers=stock_list\n",
    "#end为要预测仓位的那天\n",
    "end='2022-10-03'\n",
    "#start为end向前一个月\n",
    "start='2022-09-03'\n",
    "#不变，始终为1\n",
    "calc_window='1'"
   ]
  },
  {
   "cell_type": "code",
   "execution_count": 37,
   "id": "7245d899",
   "metadata": {},
   "outputs": [],
   "source": [
    "# 确定无风险收益率\n",
    "rf=pd.read_csv('daily-treasury-rates.csv',index_col=0)\n",
    "\n",
    "#rf=rf.iloc[:,5]\n",
    "\n",
    "rf.reset_index(inplace=True)\n",
    "\n",
    "rf['Date']=[datetime.strptime(i,\"%m/%d/%Y\") for i in list(rf['Date'].values)]\n",
    "\n",
    "start_time=datetime.strptime(start,\"%Y-%m-%d\")\n",
    "end_time=datetime.strptime(end,\"%Y-%m-%d\")\n",
    "\n",
    "rf=rf.set_index(\"Date\")\n",
    "\n",
    "\n",
    "for i in range(len(rf.index)):\n",
    "    if list(rf.index)[i]-end_time<=timedelta(0):\n",
    "        rfend_time=list(rf.index)[i]\n",
    "        break\n",
    "for j in range(len(rf.index)):\n",
    "    if list(rf.index)[j]-start_time<=timedelta(0):\n",
    "        rfstart_time=list(rf.index)[j]\n",
    "        break\n",
    "\n",
    "rf_rate=rf.loc[rfend_time:rfstart_time,'1 Yr'].mean()*0.01/360\n"
   ]
  },
  {
   "cell_type": "code",
   "execution_count": 39,
   "id": "cb254b70",
   "metadata": {},
   "outputs": [],
   "source": [
    "w=optimize(weights,tickers,start,end,calc_window,rf_rate,short=True,price_type='Adj Close',clean='True')\n",
    "weight=list(w.x)"
   ]
  },
  {
   "cell_type": "code",
   "execution_count": 40,
   "id": "c346736f",
   "metadata": {},
   "outputs": [
    {
     "data": {
      "text/plain": [
       "[-1.0,\n",
       " -0.9999999999999999,\n",
       " 1.0,\n",
       " -1.0,\n",
       " 0.7906470158626577,\n",
       " -0.5859981517903701,\n",
       " 1.0,\n",
       " 0.6386766759359906,\n",
       " 1.0,\n",
       " 0.15667445999172183]"
      ]
     },
     "execution_count": 40,
     "metadata": {},
     "output_type": "execute_result"
    }
   ],
   "source": [
    "weight"
   ]
  },
  {
   "cell_type": "code",
   "execution_count": 190,
   "id": "cd399eaf",
   "metadata": {},
   "outputs": [
    {
     "data": {
      "text/html": [
       "<div>\n",
       "<style scoped>\n",
       "    .dataframe tbody tr th:only-of-type {\n",
       "        vertical-align: middle;\n",
       "    }\n",
       "\n",
       "    .dataframe tbody tr th {\n",
       "        vertical-align: top;\n",
       "    }\n",
       "\n",
       "    .dataframe thead th {\n",
       "        text-align: right;\n",
       "    }\n",
       "</style>\n",
       "<table border=\"1\" class=\"dataframe\">\n",
       "  <thead>\n",
       "    <tr style=\"text-align: right;\">\n",
       "      <th></th>\n",
       "      <th>Date</th>\n",
       "      <th>Index</th>\n",
       "      <th>Return</th>\n",
       "      <th>Momentum_1</th>\n",
       "      <th>Momentum_2</th>\n",
       "      <th>Momentum_3</th>\n",
       "      <th>Turnover</th>\n",
       "      <th>Volitility_1</th>\n",
       "      <th>Volitility_2</th>\n",
       "      <th>Volitility_3</th>\n",
       "      <th>...</th>\n",
       "      <th>industry_Communication Services</th>\n",
       "      <th>industry_Consumer Cyclical</th>\n",
       "      <th>industry_Consumer Defensive</th>\n",
       "      <th>industry_Energy</th>\n",
       "      <th>industry_Financial Services</th>\n",
       "      <th>industry_Healthcare</th>\n",
       "      <th>industry_Industrials</th>\n",
       "      <th>industry_Real Estate</th>\n",
       "      <th>industry_Technology</th>\n",
       "      <th>industry_Utilities</th>\n",
       "    </tr>\n",
       "  </thead>\n",
       "  <tbody>\n",
       "    <tr>\n",
       "      <th>4568</th>\n",
       "      <td>2022-09-01</td>\n",
       "      <td>AFMD</td>\n",
       "      <td>0.030534</td>\n",
       "      <td>-0.409715</td>\n",
       "      <td>-0.839722</td>\n",
       "      <td>-0.561088</td>\n",
       "      <td>0.153349</td>\n",
       "      <td>0.742957</td>\n",
       "      <td>-0.006591</td>\n",
       "      <td>0.986991</td>\n",
       "      <td>...</td>\n",
       "      <td>0</td>\n",
       "      <td>0</td>\n",
       "      <td>0</td>\n",
       "      <td>0</td>\n",
       "      <td>0</td>\n",
       "      <td>1</td>\n",
       "      <td>0</td>\n",
       "      <td>0</td>\n",
       "      <td>0</td>\n",
       "      <td>0</td>\n",
       "    </tr>\n",
       "    <tr>\n",
       "      <th>4569</th>\n",
       "      <td>2022-09-02</td>\n",
       "      <td>AFMD</td>\n",
       "      <td>-0.029630</td>\n",
       "      <td>-1.446555</td>\n",
       "      <td>-1.089493</td>\n",
       "      <td>-0.741873</td>\n",
       "      <td>0.133408</td>\n",
       "      <td>0.786381</td>\n",
       "      <td>0.002830</td>\n",
       "      <td>0.904961</td>\n",
       "      <td>...</td>\n",
       "      <td>0</td>\n",
       "      <td>0</td>\n",
       "      <td>0</td>\n",
       "      <td>0</td>\n",
       "      <td>0</td>\n",
       "      <td>1</td>\n",
       "      <td>0</td>\n",
       "      <td>0</td>\n",
       "      <td>0</td>\n",
       "      <td>0</td>\n",
       "    </tr>\n",
       "    <tr>\n",
       "      <th>4570</th>\n",
       "      <td>2022-09-06</td>\n",
       "      <td>AFMD</td>\n",
       "      <td>-0.072519</td>\n",
       "      <td>-1.772845</td>\n",
       "      <td>-1.616591</td>\n",
       "      <td>-0.587529</td>\n",
       "      <td>0.132875</td>\n",
       "      <td>1.460277</td>\n",
       "      <td>0.210368</td>\n",
       "      <td>0.982090</td>\n",
       "      <td>...</td>\n",
       "      <td>0</td>\n",
       "      <td>0</td>\n",
       "      <td>0</td>\n",
       "      <td>0</td>\n",
       "      <td>0</td>\n",
       "      <td>1</td>\n",
       "      <td>0</td>\n",
       "      <td>0</td>\n",
       "      <td>0</td>\n",
       "      <td>0</td>\n",
       "    </tr>\n",
       "    <tr>\n",
       "      <th>4571</th>\n",
       "      <td>2022-09-07</td>\n",
       "      <td>AFMD</td>\n",
       "      <td>0.069959</td>\n",
       "      <td>-1.655998</td>\n",
       "      <td>-1.166629</td>\n",
       "      <td>-0.497759</td>\n",
       "      <td>0.130887</td>\n",
       "      <td>1.612317</td>\n",
       "      <td>0.257512</td>\n",
       "      <td>1.119031</td>\n",
       "      <td>...</td>\n",
       "      <td>0</td>\n",
       "      <td>0</td>\n",
       "      <td>0</td>\n",
       "      <td>0</td>\n",
       "      <td>0</td>\n",
       "      <td>1</td>\n",
       "      <td>0</td>\n",
       "      <td>0</td>\n",
       "      <td>0</td>\n",
       "      <td>0</td>\n",
       "    </tr>\n",
       "    <tr>\n",
       "      <th>4572</th>\n",
       "      <td>2022-09-08</td>\n",
       "      <td>AFMD</td>\n",
       "      <td>0.034615</td>\n",
       "      <td>-1.644220</td>\n",
       "      <td>-0.709906</td>\n",
       "      <td>-0.345233</td>\n",
       "      <td>0.122345</td>\n",
       "      <td>1.730163</td>\n",
       "      <td>0.270210</td>\n",
       "      <td>1.153609</td>\n",
       "      <td>...</td>\n",
       "      <td>0</td>\n",
       "      <td>0</td>\n",
       "      <td>0</td>\n",
       "      <td>0</td>\n",
       "      <td>0</td>\n",
       "      <td>1</td>\n",
       "      <td>0</td>\n",
       "      <td>0</td>\n",
       "      <td>0</td>\n",
       "      <td>0</td>\n",
       "    </tr>\n",
       "    <tr>\n",
       "      <th>4573</th>\n",
       "      <td>2022-09-09</td>\n",
       "      <td>AFMD</td>\n",
       "      <td>0.018587</td>\n",
       "      <td>-1.595570</td>\n",
       "      <td>-0.890625</td>\n",
       "      <td>-0.106335</td>\n",
       "      <td>0.135796</td>\n",
       "      <td>1.787275</td>\n",
       "      <td>0.290555</td>\n",
       "      <td>1.210441</td>\n",
       "      <td>...</td>\n",
       "      <td>0</td>\n",
       "      <td>0</td>\n",
       "      <td>0</td>\n",
       "      <td>0</td>\n",
       "      <td>0</td>\n",
       "      <td>1</td>\n",
       "      <td>0</td>\n",
       "      <td>0</td>\n",
       "      <td>0</td>\n",
       "      <td>0</td>\n",
       "    </tr>\n",
       "    <tr>\n",
       "      <th>4574</th>\n",
       "      <td>2022-09-12</td>\n",
       "      <td>AFMD</td>\n",
       "      <td>0.007299</td>\n",
       "      <td>-0.548294</td>\n",
       "      <td>-1.079597</td>\n",
       "      <td>0.050939</td>\n",
       "      <td>0.127103</td>\n",
       "      <td>1.770551</td>\n",
       "      <td>0.311787</td>\n",
       "      <td>1.108190</td>\n",
       "      <td>...</td>\n",
       "      <td>0</td>\n",
       "      <td>0</td>\n",
       "      <td>0</td>\n",
       "      <td>0</td>\n",
       "      <td>0</td>\n",
       "      <td>1</td>\n",
       "      <td>0</td>\n",
       "      <td>0</td>\n",
       "      <td>0</td>\n",
       "      <td>0</td>\n",
       "    </tr>\n",
       "    <tr>\n",
       "      <th>4575</th>\n",
       "      <td>2022-09-13</td>\n",
       "      <td>AFMD</td>\n",
       "      <td>-0.043478</td>\n",
       "      <td>-0.477361</td>\n",
       "      <td>-0.977312</td>\n",
       "      <td>0.253894</td>\n",
       "      <td>0.183415</td>\n",
       "      <td>1.785915</td>\n",
       "      <td>0.344480</td>\n",
       "      <td>1.082160</td>\n",
       "      <td>...</td>\n",
       "      <td>0</td>\n",
       "      <td>0</td>\n",
       "      <td>0</td>\n",
       "      <td>0</td>\n",
       "      <td>0</td>\n",
       "      <td>1</td>\n",
       "      <td>0</td>\n",
       "      <td>0</td>\n",
       "      <td>0</td>\n",
       "      <td>0</td>\n",
       "    </tr>\n",
       "    <tr>\n",
       "      <th>4576</th>\n",
       "      <td>2022-09-14</td>\n",
       "      <td>AFMD</td>\n",
       "      <td>-0.015152</td>\n",
       "      <td>-1.357290</td>\n",
       "      <td>-0.853602</td>\n",
       "      <td>0.444164</td>\n",
       "      <td>0.224606</td>\n",
       "      <td>1.726325</td>\n",
       "      <td>0.367866</td>\n",
       "      <td>0.928431</td>\n",
       "      <td>...</td>\n",
       "      <td>0</td>\n",
       "      <td>0</td>\n",
       "      <td>0</td>\n",
       "      <td>0</td>\n",
       "      <td>0</td>\n",
       "      <td>1</td>\n",
       "      <td>0</td>\n",
       "      <td>0</td>\n",
       "      <td>0</td>\n",
       "      <td>0</td>\n",
       "    </tr>\n",
       "    <tr>\n",
       "      <th>4577</th>\n",
       "      <td>2022-09-15</td>\n",
       "      <td>AFMD</td>\n",
       "      <td>-0.034615</td>\n",
       "      <td>-1.519767</td>\n",
       "      <td>-0.941048</td>\n",
       "      <td>0.069872</td>\n",
       "      <td>0.301326</td>\n",
       "      <td>1.493613</td>\n",
       "      <td>0.368097</td>\n",
       "      <td>0.951849</td>\n",
       "      <td>...</td>\n",
       "      <td>0</td>\n",
       "      <td>0</td>\n",
       "      <td>0</td>\n",
       "      <td>0</td>\n",
       "      <td>0</td>\n",
       "      <td>1</td>\n",
       "      <td>0</td>\n",
       "      <td>0</td>\n",
       "      <td>0</td>\n",
       "      <td>0</td>\n",
       "    </tr>\n",
       "    <tr>\n",
       "      <th>4578</th>\n",
       "      <td>2022-09-16</td>\n",
       "      <td>AFMD</td>\n",
       "      <td>-0.111554</td>\n",
       "      <td>-2.002207</td>\n",
       "      <td>-1.591161</td>\n",
       "      <td>-0.626471</td>\n",
       "      <td>0.418994</td>\n",
       "      <td>1.859004</td>\n",
       "      <td>0.856597</td>\n",
       "      <td>1.257241</td>\n",
       "      <td>...</td>\n",
       "      <td>0</td>\n",
       "      <td>0</td>\n",
       "      <td>0</td>\n",
       "      <td>0</td>\n",
       "      <td>0</td>\n",
       "      <td>1</td>\n",
       "      <td>0</td>\n",
       "      <td>0</td>\n",
       "      <td>0</td>\n",
       "      <td>0</td>\n",
       "    </tr>\n",
       "    <tr>\n",
       "      <th>4579</th>\n",
       "      <td>2022-09-19</td>\n",
       "      <td>AFMD</td>\n",
       "      <td>-0.031390</td>\n",
       "      <td>-2.065541</td>\n",
       "      <td>-1.736094</td>\n",
       "      <td>-1.023262</td>\n",
       "      <td>0.437108</td>\n",
       "      <td>1.868956</td>\n",
       "      <td>0.936827</td>\n",
       "      <td>1.255131</td>\n",
       "      <td>...</td>\n",
       "      <td>0</td>\n",
       "      <td>0</td>\n",
       "      <td>0</td>\n",
       "      <td>0</td>\n",
       "      <td>0</td>\n",
       "      <td>1</td>\n",
       "      <td>0</td>\n",
       "      <td>0</td>\n",
       "      <td>0</td>\n",
       "      <td>0</td>\n",
       "    </tr>\n",
       "    <tr>\n",
       "      <th>4580</th>\n",
       "      <td>2022-09-20</td>\n",
       "      <td>AFMD</td>\n",
       "      <td>-0.032407</td>\n",
       "      <td>-2.096531</td>\n",
       "      <td>-1.773589</td>\n",
       "      <td>-1.161979</td>\n",
       "      <td>0.429241</td>\n",
       "      <td>1.899490</td>\n",
       "      <td>1.222790</td>\n",
       "      <td>1.274560</td>\n",
       "      <td>...</td>\n",
       "      <td>0</td>\n",
       "      <td>0</td>\n",
       "      <td>0</td>\n",
       "      <td>0</td>\n",
       "      <td>0</td>\n",
       "      <td>1</td>\n",
       "      <td>0</td>\n",
       "      <td>0</td>\n",
       "      <td>0</td>\n",
       "      <td>0</td>\n",
       "    </tr>\n",
       "    <tr>\n",
       "      <th>4581</th>\n",
       "      <td>2022-09-21</td>\n",
       "      <td>AFMD</td>\n",
       "      <td>-0.033493</td>\n",
       "      <td>-1.976534</td>\n",
       "      <td>-1.750133</td>\n",
       "      <td>-1.516314</td>\n",
       "      <td>0.443840</td>\n",
       "      <td>1.879067</td>\n",
       "      <td>1.473083</td>\n",
       "      <td>1.257680</td>\n",
       "      <td>...</td>\n",
       "      <td>0</td>\n",
       "      <td>0</td>\n",
       "      <td>0</td>\n",
       "      <td>0</td>\n",
       "      <td>0</td>\n",
       "      <td>1</td>\n",
       "      <td>0</td>\n",
       "      <td>0</td>\n",
       "      <td>0</td>\n",
       "      <td>0</td>\n",
       "    </tr>\n",
       "    <tr>\n",
       "      <th>4582</th>\n",
       "      <td>2022-09-22</td>\n",
       "      <td>AFMD</td>\n",
       "      <td>0.004950</td>\n",
       "      <td>-2.031531</td>\n",
       "      <td>-1.710197</td>\n",
       "      <td>-1.509530</td>\n",
       "      <td>0.438486</td>\n",
       "      <td>2.050237</td>\n",
       "      <td>1.544821</td>\n",
       "      <td>1.244836</td>\n",
       "      <td>...</td>\n",
       "      <td>0</td>\n",
       "      <td>0</td>\n",
       "      <td>0</td>\n",
       "      <td>0</td>\n",
       "      <td>0</td>\n",
       "      <td>1</td>\n",
       "      <td>0</td>\n",
       "      <td>0</td>\n",
       "      <td>0</td>\n",
       "      <td>0</td>\n",
       "    </tr>\n",
       "    <tr>\n",
       "      <th>4583</th>\n",
       "      <td>2022-09-23</td>\n",
       "      <td>AFMD</td>\n",
       "      <td>-0.014778</td>\n",
       "      <td>-1.864669</td>\n",
       "      <td>-1.806145</td>\n",
       "      <td>-1.150879</td>\n",
       "      <td>0.442668</td>\n",
       "      <td>2.049819</td>\n",
       "      <td>1.526844</td>\n",
       "      <td>1.231594</td>\n",
       "      <td>...</td>\n",
       "      <td>0</td>\n",
       "      <td>0</td>\n",
       "      <td>0</td>\n",
       "      <td>0</td>\n",
       "      <td>0</td>\n",
       "      <td>1</td>\n",
       "      <td>0</td>\n",
       "      <td>0</td>\n",
       "      <td>0</td>\n",
       "      <td>0</td>\n",
       "    </tr>\n",
       "    <tr>\n",
       "      <th>4584</th>\n",
       "      <td>2022-09-26</td>\n",
       "      <td>AFMD</td>\n",
       "      <td>-0.020000</td>\n",
       "      <td>-1.944911</td>\n",
       "      <td>-1.755113</td>\n",
       "      <td>-1.464211</td>\n",
       "      <td>0.441319</td>\n",
       "      <td>2.029371</td>\n",
       "      <td>1.462762</td>\n",
       "      <td>1.168561</td>\n",
       "      <td>...</td>\n",
       "      <td>0</td>\n",
       "      <td>0</td>\n",
       "      <td>0</td>\n",
       "      <td>0</td>\n",
       "      <td>0</td>\n",
       "      <td>1</td>\n",
       "      <td>0</td>\n",
       "      <td>0</td>\n",
       "      <td>0</td>\n",
       "      <td>0</td>\n",
       "    </tr>\n",
       "    <tr>\n",
       "      <th>4585</th>\n",
       "      <td>2022-09-27</td>\n",
       "      <td>AFMD</td>\n",
       "      <td>0.010204</td>\n",
       "      <td>-1.673518</td>\n",
       "      <td>-1.574699</td>\n",
       "      <td>-1.342842</td>\n",
       "      <td>0.433329</td>\n",
       "      <td>1.592085</td>\n",
       "      <td>1.470909</td>\n",
       "      <td>1.097790</td>\n",
       "      <td>...</td>\n",
       "      <td>0</td>\n",
       "      <td>0</td>\n",
       "      <td>0</td>\n",
       "      <td>0</td>\n",
       "      <td>0</td>\n",
       "      <td>1</td>\n",
       "      <td>0</td>\n",
       "      <td>0</td>\n",
       "      <td>0</td>\n",
       "      <td>0</td>\n",
       "    </tr>\n",
       "    <tr>\n",
       "      <th>4586</th>\n",
       "      <td>2022-09-28</td>\n",
       "      <td>AFMD</td>\n",
       "      <td>0.075758</td>\n",
       "      <td>-1.534988</td>\n",
       "      <td>-1.103359</td>\n",
       "      <td>-1.210840</td>\n",
       "      <td>0.408286</td>\n",
       "      <td>1.661555</td>\n",
       "      <td>1.474011</td>\n",
       "      <td>1.245973</td>\n",
       "      <td>...</td>\n",
       "      <td>0</td>\n",
       "      <td>0</td>\n",
       "      <td>0</td>\n",
       "      <td>0</td>\n",
       "      <td>0</td>\n",
       "      <td>1</td>\n",
       "      <td>0</td>\n",
       "      <td>0</td>\n",
       "      <td>0</td>\n",
       "      <td>0</td>\n",
       "    </tr>\n",
       "    <tr>\n",
       "      <th>4587</th>\n",
       "      <td>2022-09-29</td>\n",
       "      <td>AFMD</td>\n",
       "      <td>-0.046948</td>\n",
       "      <td>-1.648094</td>\n",
       "      <td>-1.078737</td>\n",
       "      <td>-1.290589</td>\n",
       "      <td>0.414508</td>\n",
       "      <td>1.671104</td>\n",
       "      <td>1.477311</td>\n",
       "      <td>1.284791</td>\n",
       "      <td>...</td>\n",
       "      <td>0</td>\n",
       "      <td>0</td>\n",
       "      <td>0</td>\n",
       "      <td>0</td>\n",
       "      <td>0</td>\n",
       "      <td>1</td>\n",
       "      <td>0</td>\n",
       "      <td>0</td>\n",
       "      <td>0</td>\n",
       "      <td>0</td>\n",
       "    </tr>\n",
       "    <tr>\n",
       "      <th>4588</th>\n",
       "      <td>2022-09-30</td>\n",
       "      <td>AFMD</td>\n",
       "      <td>0.014778</td>\n",
       "      <td>-1.318984</td>\n",
       "      <td>-0.962985</td>\n",
       "      <td>-1.219667</td>\n",
       "      <td>0.405360</td>\n",
       "      <td>1.713078</td>\n",
       "      <td>1.488148</td>\n",
       "      <td>1.316425</td>\n",
       "      <td>...</td>\n",
       "      <td>0</td>\n",
       "      <td>0</td>\n",
       "      <td>0</td>\n",
       "      <td>0</td>\n",
       "      <td>0</td>\n",
       "      <td>1</td>\n",
       "      <td>0</td>\n",
       "      <td>0</td>\n",
       "      <td>0</td>\n",
       "      <td>0</td>\n",
       "    </tr>\n",
       "  </tbody>\n",
       "</table>\n",
       "<p>21 rows × 24 columns</p>\n",
       "</div>"
      ],
      "text/plain": [
       "            Date Index    Return  Momentum_1  Momentum_2  Momentum_3  \\\n",
       "4568  2022-09-01  AFMD  0.030534   -0.409715   -0.839722   -0.561088   \n",
       "4569  2022-09-02  AFMD -0.029630   -1.446555   -1.089493   -0.741873   \n",
       "4570  2022-09-06  AFMD -0.072519   -1.772845   -1.616591   -0.587529   \n",
       "4571  2022-09-07  AFMD  0.069959   -1.655998   -1.166629   -0.497759   \n",
       "4572  2022-09-08  AFMD  0.034615   -1.644220   -0.709906   -0.345233   \n",
       "4573  2022-09-09  AFMD  0.018587   -1.595570   -0.890625   -0.106335   \n",
       "4574  2022-09-12  AFMD  0.007299   -0.548294   -1.079597    0.050939   \n",
       "4575  2022-09-13  AFMD -0.043478   -0.477361   -0.977312    0.253894   \n",
       "4576  2022-09-14  AFMD -0.015152   -1.357290   -0.853602    0.444164   \n",
       "4577  2022-09-15  AFMD -0.034615   -1.519767   -0.941048    0.069872   \n",
       "4578  2022-09-16  AFMD -0.111554   -2.002207   -1.591161   -0.626471   \n",
       "4579  2022-09-19  AFMD -0.031390   -2.065541   -1.736094   -1.023262   \n",
       "4580  2022-09-20  AFMD -0.032407   -2.096531   -1.773589   -1.161979   \n",
       "4581  2022-09-21  AFMD -0.033493   -1.976534   -1.750133   -1.516314   \n",
       "4582  2022-09-22  AFMD  0.004950   -2.031531   -1.710197   -1.509530   \n",
       "4583  2022-09-23  AFMD -0.014778   -1.864669   -1.806145   -1.150879   \n",
       "4584  2022-09-26  AFMD -0.020000   -1.944911   -1.755113   -1.464211   \n",
       "4585  2022-09-27  AFMD  0.010204   -1.673518   -1.574699   -1.342842   \n",
       "4586  2022-09-28  AFMD  0.075758   -1.534988   -1.103359   -1.210840   \n",
       "4587  2022-09-29  AFMD -0.046948   -1.648094   -1.078737   -1.290589   \n",
       "4588  2022-09-30  AFMD  0.014778   -1.318984   -0.962985   -1.219667   \n",
       "\n",
       "      Turnover  Volitility_1  Volitility_2  Volitility_3  ...  \\\n",
       "4568  0.153349      0.742957     -0.006591      0.986991  ...   \n",
       "4569  0.133408      0.786381      0.002830      0.904961  ...   \n",
       "4570  0.132875      1.460277      0.210368      0.982090  ...   \n",
       "4571  0.130887      1.612317      0.257512      1.119031  ...   \n",
       "4572  0.122345      1.730163      0.270210      1.153609  ...   \n",
       "4573  0.135796      1.787275      0.290555      1.210441  ...   \n",
       "4574  0.127103      1.770551      0.311787      1.108190  ...   \n",
       "4575  0.183415      1.785915      0.344480      1.082160  ...   \n",
       "4576  0.224606      1.726325      0.367866      0.928431  ...   \n",
       "4577  0.301326      1.493613      0.368097      0.951849  ...   \n",
       "4578  0.418994      1.859004      0.856597      1.257241  ...   \n",
       "4579  0.437108      1.868956      0.936827      1.255131  ...   \n",
       "4580  0.429241      1.899490      1.222790      1.274560  ...   \n",
       "4581  0.443840      1.879067      1.473083      1.257680  ...   \n",
       "4582  0.438486      2.050237      1.544821      1.244836  ...   \n",
       "4583  0.442668      2.049819      1.526844      1.231594  ...   \n",
       "4584  0.441319      2.029371      1.462762      1.168561  ...   \n",
       "4585  0.433329      1.592085      1.470909      1.097790  ...   \n",
       "4586  0.408286      1.661555      1.474011      1.245973  ...   \n",
       "4587  0.414508      1.671104      1.477311      1.284791  ...   \n",
       "4588  0.405360      1.713078      1.488148      1.316425  ...   \n",
       "\n",
       "      industry_Communication Services  industry_Consumer Cyclical  \\\n",
       "4568                                0                           0   \n",
       "4569                                0                           0   \n",
       "4570                                0                           0   \n",
       "4571                                0                           0   \n",
       "4572                                0                           0   \n",
       "4573                                0                           0   \n",
       "4574                                0                           0   \n",
       "4575                                0                           0   \n",
       "4576                                0                           0   \n",
       "4577                                0                           0   \n",
       "4578                                0                           0   \n",
       "4579                                0                           0   \n",
       "4580                                0                           0   \n",
       "4581                                0                           0   \n",
       "4582                                0                           0   \n",
       "4583                                0                           0   \n",
       "4584                                0                           0   \n",
       "4585                                0                           0   \n",
       "4586                                0                           0   \n",
       "4587                                0                           0   \n",
       "4588                                0                           0   \n",
       "\n",
       "      industry_Consumer Defensive  industry_Energy  \\\n",
       "4568                            0                0   \n",
       "4569                            0                0   \n",
       "4570                            0                0   \n",
       "4571                            0                0   \n",
       "4572                            0                0   \n",
       "4573                            0                0   \n",
       "4574                            0                0   \n",
       "4575                            0                0   \n",
       "4576                            0                0   \n",
       "4577                            0                0   \n",
       "4578                            0                0   \n",
       "4579                            0                0   \n",
       "4580                            0                0   \n",
       "4581                            0                0   \n",
       "4582                            0                0   \n",
       "4583                            0                0   \n",
       "4584                            0                0   \n",
       "4585                            0                0   \n",
       "4586                            0                0   \n",
       "4587                            0                0   \n",
       "4588                            0                0   \n",
       "\n",
       "      industry_Financial Services  industry_Healthcare  industry_Industrials  \\\n",
       "4568                            0                    1                     0   \n",
       "4569                            0                    1                     0   \n",
       "4570                            0                    1                     0   \n",
       "4571                            0                    1                     0   \n",
       "4572                            0                    1                     0   \n",
       "4573                            0                    1                     0   \n",
       "4574                            0                    1                     0   \n",
       "4575                            0                    1                     0   \n",
       "4576                            0                    1                     0   \n",
       "4577                            0                    1                     0   \n",
       "4578                            0                    1                     0   \n",
       "4579                            0                    1                     0   \n",
       "4580                            0                    1                     0   \n",
       "4581                            0                    1                     0   \n",
       "4582                            0                    1                     0   \n",
       "4583                            0                    1                     0   \n",
       "4584                            0                    1                     0   \n",
       "4585                            0                    1                     0   \n",
       "4586                            0                    1                     0   \n",
       "4587                            0                    1                     0   \n",
       "4588                            0                    1                     0   \n",
       "\n",
       "      industry_Real Estate  industry_Technology  industry_Utilities  \n",
       "4568                     0                    0                   0  \n",
       "4569                     0                    0                   0  \n",
       "4570                     0                    0                   0  \n",
       "4571                     0                    0                   0  \n",
       "4572                     0                    0                   0  \n",
       "4573                     0                    0                   0  \n",
       "4574                     0                    0                   0  \n",
       "4575                     0                    0                   0  \n",
       "4576                     0                    0                   0  \n",
       "4577                     0                    0                   0  \n",
       "4578                     0                    0                   0  \n",
       "4579                     0                    0                   0  \n",
       "4580                     0                    0                   0  \n",
       "4581                     0                    0                   0  \n",
       "4582                     0                    0                   0  \n",
       "4583                     0                    0                   0  \n",
       "4584                     0                    0                   0  \n",
       "4585                     0                    0                   0  \n",
       "4586                     0                    0                   0  \n",
       "4587                     0                    0                   0  \n",
       "4588                     0                    0                   0  \n",
       "\n",
       "[21 rows x 24 columns]"
      ]
     },
     "execution_count": 190,
     "metadata": {},
     "output_type": "execute_result"
    }
   ],
   "source": [
    "factors.loc[4568:4588]"
   ]
  },
  {
   "cell_type": "code",
   "execution_count": 193,
   "id": "deb0d4df",
   "metadata": {},
   "outputs": [],
   "source": [
    "date_piars_8 = [ ('2022-08-01', '2022-07-01'), ('2022-08-02', '2022-07-02'),('2022-08-03', '2022-07-03'),('2022-08-04', '2022-07-04'),\n",
    "                 ('2022-08-05', '2022-07-05'),('2022-08-08', '2022-07-08'), ('2022-08-09', '2022-07-09'), ('2022-08-10', '2022-07-10'),\n",
    "                 ('2022-08-11', '2022-07-11'),('2022-08-12', '2022-07-12'),('2022-08-15', '2022-07-15'),('2022-08-16', '2022-07-16'),\n",
    "                 ('2022-08-17', '2022-07-17'),('2022-08-18', '2022-07-18'),('2022-08-19', '2022-07-19'),('2022-08-22', '2022-07-22'),\n",
    "                 ('2022-08-23', '2022-07-23'),('2022-08-24', '2022-07-24'),('2022-08-25', '2022-07-25'),('2022-08-26', '2022-07-26'),\n",
    "                 ('2022-08-29', '2022-07-29'),('2022-08-30', '2022-07-30'),('2022-08-31', '2022-07-31'),]\n",
    "\n",
    "date_piars_9 = [ ('2022-09-01', '2022-08-01'),('2022-09-02', '2022-08-02'),('2022-09-06', '2022-08-06'),('2022-09-07', '2022-08-07'),\n",
    "               ('2022-09-08', '2022-08-08'),('2022-09-09', '2022-08-09'),('2022-09-12', '2022-08-12'),('2022-09-13', '2022-08-13'),\n",
    "               ('2022-09-14', '2022-08-14'),('2022-09-15', '2022-08-15'),('2022-09-16', '2022-08-16'),('2022-09-19', '2022-08-19'),\n",
    "               ('2022-09-20', '2022-08-20'),('2022-09-21', '2022-08-21'),('2022-09-22', '2022-08-22'),('2022-09-23', '2022-08-23'),\n",
    "               ('2022-09-26', '2022-08-26'),('2022-09-27', '2022-08-27'),('2022-09-28', '2022-08-28'),('2022-09-29', '2022-08-29'),\n",
    "               ('2022-09-30', '2022-08-30'),]\n",
    "\n",
    "date_piars_10 = [('2022-10-03', '2022-09-03'), ('2022-10-04', '2022-09-04'),('2022-10-05', '2022-09-05'),('2022-10-06', '2022-09-06'),\n",
    "                 ('2022-10-07', '2022-09-07'),('2022-10-10', '2022-09-10'), ('2022-10-11', '2022-09-11'), ('2022-10-12', '2022-09-12'),\n",
    "                 ('2022-10-13', '2022-09-13'),('2022-10-14', '2022-09-14'),('2022-10-17', '2022-09-17'),('2022-10-18', '2022-09-18'),\n",
    "                 ('2022-10-19', '2022-09-19'),('2022-10-20', '2022-09-20'),('2022-10-21', '2022-09-21'),('2022-10-24', '2022-09-24'),\n",
    "                 ('2022-10-25', '2022-09-25'),('2022-10-26', '2022-09-26'),('2022-10-27', '2022-09-27'),('2022-10-28', '2022-09-28'),\n",
    "                 ('2022-10-31', '2022-09-30')]"
   ]
  },
  {
   "cell_type": "markdown",
   "id": "4082a6f5",
   "metadata": {},
   "source": [
    "## Strategy 1:"
   ]
  },
  {
   "cell_type": "markdown",
   "id": "5cb1c658",
   "metadata": {},
   "source": [
    "#### Month 8:"
   ]
  },
  {
   "cell_type": "code",
   "execution_count": 216,
   "id": "e2c95676",
   "metadata": {},
   "outputs": [
    {
     "data": {
      "text/plain": [
       "array(['ACLS', 'AMZN', 'CCRN', 'INOD', 'LIFE', 'NFLX', 'RGEN', 'SGRY',\n",
       "       'VCYT', 'WMG'], dtype='<U4')"
      ]
     },
     "execution_count": 216,
     "metadata": {},
     "output_type": "execute_result"
    }
   ],
   "source": [
    "date = \"2022-08-01\"\n",
    "selected_stocks = strategy1(date)\n",
    "factors = factors.loc[(factors[\"Date\"]==date) & (factors[\"Index\"].isin(selected_stocks))]\n",
    "factor_returns = factor_returns.loc[factor_returns[\"Date\"]==date]\n",
    "factor_returns = factor_returns.iloc[:,1:]\n",
    "stock_list = factors[\"Index\"].tolist()\n",
    "factors = factors.iloc[:, 3:]\n",
    "factors = np.array(factors)\n",
    "factor_returns = np.array(factor_returns)\n",
    "stock_return = np.dot(factors, factor_returns.T).reshape(-1)\n",
    "stock_list = np.array(stock_list)\n",
    "stock_list"
   ]
  },
  {
   "cell_type": "code",
   "execution_count": 217,
   "id": "d2c9aa9c",
   "metadata": {},
   "outputs": [],
   "source": [
    "date_piars = date_piars_8\n",
    "results = []"
   ]
  },
  {
   "cell_type": "code",
   "execution_count": 218,
   "id": "95a7e913",
   "metadata": {},
   "outputs": [
    {
     "data": {
      "text/plain": [
       "23"
      ]
     },
     "execution_count": 218,
     "metadata": {},
     "output_type": "execute_result"
    }
   ],
   "source": [
    "for pair in date_piars:\n",
    "    w=optimize(weights,tickers,pair[1],pair[0],calc_window,rf_rate,short=True,price_type='Adj Close',clean='True')\n",
    "    weight=list(w.x)\n",
    "    results.append(weight)  \n",
    "len(results)"
   ]
  },
  {
   "cell_type": "code",
   "execution_count": null,
   "id": "8ea5d558",
   "metadata": {},
   "outputs": [],
   "source": [
    "factors = pd.read_csv(\"./Factors/merge_Factors.csv\")"
   ]
  },
  {
   "cell_type": "code",
   "execution_count": 221,
   "id": "e4e7baae",
   "metadata": {},
   "outputs": [],
   "source": [
    "stock_df_list=[]\n",
    "for idx, index in enumerate(stock_list):\n",
    "    weight_list = []\n",
    "    for w in results:\n",
    "        weight_list.append(w[idx])\n",
    "    stock_true = factors.loc[(factors[\"Date\"]>='2022-08-01') & (factors[\"Date\"]<='2022-08-31') & (factors[\"Index\"]==index)]\n",
    "    stock_true = stock_true[['Date', 'Return']].reset_index(drop=True)\n",
    "    stock_true['Weight'] = weight_list\n",
    "    stock_true['Daily Return'] = stock_true['Return'] * stock_true['Weight']\n",
    "    stock_true = stock_true.set_index(\"Date\")\n",
    "    stock_df_list.append(stock_true)"
   ]
  },
  {
   "cell_type": "code",
   "execution_count": 222,
   "id": "b47a9d08",
   "metadata": {},
   "outputs": [],
   "source": [
    "all_vals = [stock_df['Daily Return'] for stock_df in stock_df_list]\n",
    "portfolio_val_1_8 = pd.concat(all_vals, axis=1)\n",
    "portfolio_val_1_8.columns = stock_list\n",
    "portfolio_val_1_8['Total'] = portfolio_val_1_8.sum(axis=1)"
   ]
  },
  {
   "cell_type": "code",
   "execution_count": 223,
   "id": "c8fc3c05",
   "metadata": {},
   "outputs": [
    {
     "data": {
      "text/html": [
       "<div>\n",
       "<style scoped>\n",
       "    .dataframe tbody tr th:only-of-type {\n",
       "        vertical-align: middle;\n",
       "    }\n",
       "\n",
       "    .dataframe tbody tr th {\n",
       "        vertical-align: top;\n",
       "    }\n",
       "\n",
       "    .dataframe thead th {\n",
       "        text-align: right;\n",
       "    }\n",
       "</style>\n",
       "<table border=\"1\" class=\"dataframe\">\n",
       "  <thead>\n",
       "    <tr style=\"text-align: right;\">\n",
       "      <th></th>\n",
       "      <th>ACLS</th>\n",
       "      <th>AMZN</th>\n",
       "      <th>CCRN</th>\n",
       "      <th>INOD</th>\n",
       "      <th>LIFE</th>\n",
       "      <th>NFLX</th>\n",
       "      <th>RGEN</th>\n",
       "      <th>SGRY</th>\n",
       "      <th>VCYT</th>\n",
       "      <th>WMG</th>\n",
       "      <th>Total</th>\n",
       "    </tr>\n",
       "    <tr>\n",
       "      <th>Date</th>\n",
       "      <th></th>\n",
       "      <th></th>\n",
       "      <th></th>\n",
       "      <th></th>\n",
       "      <th></th>\n",
       "      <th></th>\n",
       "      <th></th>\n",
       "      <th></th>\n",
       "      <th></th>\n",
       "      <th></th>\n",
       "      <th></th>\n",
       "    </tr>\n",
       "  </thead>\n",
       "  <tbody>\n",
       "    <tr>\n",
       "      <th>2022-08-01</th>\n",
       "      <td>0.001021</td>\n",
       "      <td>-0.000464</td>\n",
       "      <td>0.007967</td>\n",
       "      <td>-0.034540</td>\n",
       "      <td>0.005476</td>\n",
       "      <td>-0.002315</td>\n",
       "      <td>-0.000567</td>\n",
       "      <td>-0.007363</td>\n",
       "      <td>-0.006261</td>\n",
       "      <td>0.024094</td>\n",
       "      <td>-0.012953</td>\n",
       "    </tr>\n",
       "    <tr>\n",
       "      <th>2022-08-02</th>\n",
       "      <td>0.001262</td>\n",
       "      <td>0.002458</td>\n",
       "      <td>0.010162</td>\n",
       "      <td>-0.013780</td>\n",
       "      <td>-0.002877</td>\n",
       "      <td>0.005300</td>\n",
       "      <td>0.015887</td>\n",
       "      <td>-0.015861</td>\n",
       "      <td>0.010925</td>\n",
       "      <td>-0.000188</td>\n",
       "      <td>0.013288</td>\n",
       "    </tr>\n",
       "    <tr>\n",
       "      <th>2022-08-03</th>\n",
       "      <td>-0.037208</td>\n",
       "      <td>-0.029841</td>\n",
       "      <td>0.022355</td>\n",
       "      <td>0.001280</td>\n",
       "      <td>0.004944</td>\n",
       "      <td>0.002068</td>\n",
       "      <td>-0.000759</td>\n",
       "      <td>0.017965</td>\n",
       "      <td>-0.032214</td>\n",
       "      <td>0.027740</td>\n",
       "      <td>-0.023671</td>\n",
       "    </tr>\n",
       "    <tr>\n",
       "      <th>2022-08-04</th>\n",
       "      <td>-0.075516</td>\n",
       "      <td>-0.015531</td>\n",
       "      <td>-0.155977</td>\n",
       "      <td>-0.049489</td>\n",
       "      <td>0.004357</td>\n",
       "      <td>-0.001136</td>\n",
       "      <td>0.001825</td>\n",
       "      <td>-0.003258</td>\n",
       "      <td>0.061626</td>\n",
       "      <td>-0.003079</td>\n",
       "      <td>-0.236179</td>\n",
       "    </tr>\n",
       "    <tr>\n",
       "      <th>2022-08-05</th>\n",
       "      <td>0.003059</td>\n",
       "      <td>0.011583</td>\n",
       "      <td>0.044041</td>\n",
       "      <td>0.000808</td>\n",
       "      <td>-0.007764</td>\n",
       "      <td>-0.000258</td>\n",
       "      <td>0.002073</td>\n",
       "      <td>0.005386</td>\n",
       "      <td>0.005807</td>\n",
       "      <td>-0.009875</td>\n",
       "      <td>0.054861</td>\n",
       "    </tr>\n",
       "    <tr>\n",
       "      <th>2022-08-08</th>\n",
       "      <td>0.025233</td>\n",
       "      <td>0.004663</td>\n",
       "      <td>-0.046319</td>\n",
       "      <td>0.002979</td>\n",
       "      <td>0.011133</td>\n",
       "      <td>-0.014828</td>\n",
       "      <td>-0.001716</td>\n",
       "      <td>0.001216</td>\n",
       "      <td>-0.026741</td>\n",
       "      <td>0.012301</td>\n",
       "      <td>-0.032079</td>\n",
       "    </tr>\n",
       "    <tr>\n",
       "      <th>2022-08-09</th>\n",
       "      <td>0.012652</td>\n",
       "      <td>0.010454</td>\n",
       "      <td>-0.031657</td>\n",
       "      <td>0.002888</td>\n",
       "      <td>-0.001306</td>\n",
       "      <td>0.015204</td>\n",
       "      <td>0.001169</td>\n",
       "      <td>-0.013488</td>\n",
       "      <td>-0.060126</td>\n",
       "      <td>-0.046870</td>\n",
       "      <td>-0.111080</td>\n",
       "    </tr>\n",
       "    <tr>\n",
       "      <th>2022-08-10</th>\n",
       "      <td>0.000474</td>\n",
       "      <td>-0.035261</td>\n",
       "      <td>0.019646</td>\n",
       "      <td>0.000427</td>\n",
       "      <td>0.003000</td>\n",
       "      <td>-0.061625</td>\n",
       "      <td>0.001701</td>\n",
       "      <td>0.032149</td>\n",
       "      <td>0.035370</td>\n",
       "      <td>0.006098</td>\n",
       "      <td>0.001981</td>\n",
       "    </tr>\n",
       "    <tr>\n",
       "      <th>2022-08-11</th>\n",
       "      <td>-0.000021</td>\n",
       "      <td>0.014367</td>\n",
       "      <td>-0.024500</td>\n",
       "      <td>-0.000026</td>\n",
       "      <td>-0.004744</td>\n",
       "      <td>0.005776</td>\n",
       "      <td>-0.001288</td>\n",
       "      <td>-0.013550</td>\n",
       "      <td>-0.008628</td>\n",
       "      <td>0.001276</td>\n",
       "      <td>-0.031339</td>\n",
       "    </tr>\n",
       "    <tr>\n",
       "      <th>2022-08-12</th>\n",
       "      <td>-0.002115</td>\n",
       "      <td>-0.020691</td>\n",
       "      <td>-0.009910</td>\n",
       "      <td>0.000152</td>\n",
       "      <td>-0.007026</td>\n",
       "      <td>-0.027194</td>\n",
       "      <td>0.000572</td>\n",
       "      <td>0.011124</td>\n",
       "      <td>0.010815</td>\n",
       "      <td>0.005396</td>\n",
       "      <td>-0.038878</td>\n",
       "    </tr>\n",
       "    <tr>\n",
       "      <th>2022-08-15</th>\n",
       "      <td>-0.001148</td>\n",
       "      <td>0.002578</td>\n",
       "      <td>0.003948</td>\n",
       "      <td>-0.034393</td>\n",
       "      <td>0.003918</td>\n",
       "      <td>0.000599</td>\n",
       "      <td>-0.001620</td>\n",
       "      <td>0.015653</td>\n",
       "      <td>-0.002687</td>\n",
       "      <td>-0.000386</td>\n",
       "      <td>-0.013539</td>\n",
       "    </tr>\n",
       "    <tr>\n",
       "      <th>2022-08-16</th>\n",
       "      <td>-0.014761</td>\n",
       "      <td>-0.010346</td>\n",
       "      <td>-0.016687</td>\n",
       "      <td>0.001273</td>\n",
       "      <td>-0.001230</td>\n",
       "      <td>0.004341</td>\n",
       "      <td>0.000702</td>\n",
       "      <td>-0.033281</td>\n",
       "      <td>-0.019728</td>\n",
       "      <td>-0.000652</td>\n",
       "      <td>-0.090369</td>\n",
       "    </tr>\n",
       "    <tr>\n",
       "      <th>2022-08-17</th>\n",
       "      <td>-0.017036</td>\n",
       "      <td>0.018511</td>\n",
       "      <td>0.068888</td>\n",
       "      <td>-0.005064</td>\n",
       "      <td>0.005065</td>\n",
       "      <td>0.015941</td>\n",
       "      <td>0.000131</td>\n",
       "      <td>-0.027038</td>\n",
       "      <td>-0.021485</td>\n",
       "      <td>-0.005654</td>\n",
       "      <td>0.032259</td>\n",
       "    </tr>\n",
       "    <tr>\n",
       "      <th>2022-08-18</th>\n",
       "      <td>0.028729</td>\n",
       "      <td>-0.001407</td>\n",
       "      <td>0.043998</td>\n",
       "      <td>-0.009416</td>\n",
       "      <td>-0.000258</td>\n",
       "      <td>-0.011256</td>\n",
       "      <td>-0.001767</td>\n",
       "      <td>0.002935</td>\n",
       "      <td>0.003865</td>\n",
       "      <td>-0.000324</td>\n",
       "      <td>0.055098</td>\n",
       "    </tr>\n",
       "    <tr>\n",
       "      <th>2022-08-19</th>\n",
       "      <td>-0.002632</td>\n",
       "      <td>0.021435</td>\n",
       "      <td>0.000350</td>\n",
       "      <td>0.000063</td>\n",
       "      <td>0.003330</td>\n",
       "      <td>0.006144</td>\n",
       "      <td>-0.000377</td>\n",
       "      <td>-0.015862</td>\n",
       "      <td>-0.017059</td>\n",
       "      <td>-0.010740</td>\n",
       "      <td>-0.015349</td>\n",
       "    </tr>\n",
       "    <tr>\n",
       "      <th>2022-08-22</th>\n",
       "      <td>-0.005277</td>\n",
       "      <td>0.027866</td>\n",
       "      <td>-0.004539</td>\n",
       "      <td>0.004149</td>\n",
       "      <td>-0.001908</td>\n",
       "      <td>0.025197</td>\n",
       "      <td>0.002935</td>\n",
       "      <td>-0.007136</td>\n",
       "      <td>-0.008688</td>\n",
       "      <td>-0.003629</td>\n",
       "      <td>0.028971</td>\n",
       "    </tr>\n",
       "    <tr>\n",
       "      <th>2022-08-23</th>\n",
       "      <td>0.000839</td>\n",
       "      <td>-0.001567</td>\n",
       "      <td>0.007633</td>\n",
       "      <td>0.000930</td>\n",
       "      <td>0.000000</td>\n",
       "      <td>0.000487</td>\n",
       "      <td>0.001244</td>\n",
       "      <td>-0.003829</td>\n",
       "      <td>0.004412</td>\n",
       "      <td>0.006009</td>\n",
       "      <td>0.016158</td>\n",
       "    </tr>\n",
       "    <tr>\n",
       "      <th>2022-08-24</th>\n",
       "      <td>-0.001150</td>\n",
       "      <td>-0.000831</td>\n",
       "      <td>0.010439</td>\n",
       "      <td>-0.013235</td>\n",
       "      <td>0.004486</td>\n",
       "      <td>0.003458</td>\n",
       "      <td>-0.002888</td>\n",
       "      <td>0.000360</td>\n",
       "      <td>0.015376</td>\n",
       "      <td>-0.001521</td>\n",
       "      <td>0.014495</td>\n",
       "    </tr>\n",
       "    <tr>\n",
       "      <th>2022-08-25</th>\n",
       "      <td>-0.094757</td>\n",
       "      <td>-0.009062</td>\n",
       "      <td>0.019062</td>\n",
       "      <td>-0.013177</td>\n",
       "      <td>0.002687</td>\n",
       "      <td>0.011190</td>\n",
       "      <td>-0.004363</td>\n",
       "      <td>0.001240</td>\n",
       "      <td>0.023758</td>\n",
       "      <td>0.003426</td>\n",
       "      <td>-0.059995</td>\n",
       "    </tr>\n",
       "    <tr>\n",
       "      <th>2022-08-26</th>\n",
       "      <td>0.014695</td>\n",
       "      <td>0.006268</td>\n",
       "      <td>-0.011376</td>\n",
       "      <td>-0.001698</td>\n",
       "      <td>-0.008312</td>\n",
       "      <td>-0.014133</td>\n",
       "      <td>0.007170</td>\n",
       "      <td>0.006886</td>\n",
       "      <td>-0.023777</td>\n",
       "      <td>-0.015141</td>\n",
       "      <td>-0.039419</td>\n",
       "    </tr>\n",
       "    <tr>\n",
       "      <th>2022-08-29</th>\n",
       "      <td>0.028081</td>\n",
       "      <td>0.000915</td>\n",
       "      <td>-0.006505</td>\n",
       "      <td>-0.003035</td>\n",
       "      <td>-0.007545</td>\n",
       "      <td>0.005778</td>\n",
       "      <td>0.010120</td>\n",
       "      <td>0.006716</td>\n",
       "      <td>-0.020296</td>\n",
       "      <td>-0.000125</td>\n",
       "      <td>0.014104</td>\n",
       "    </tr>\n",
       "    <tr>\n",
       "      <th>2022-08-30</th>\n",
       "      <td>0.009330</td>\n",
       "      <td>-0.004090</td>\n",
       "      <td>0.007930</td>\n",
       "      <td>-0.002924</td>\n",
       "      <td>-0.008284</td>\n",
       "      <td>-0.017456</td>\n",
       "      <td>0.000828</td>\n",
       "      <td>0.050120</td>\n",
       "      <td>-0.000709</td>\n",
       "      <td>-0.001293</td>\n",
       "      <td>0.033453</td>\n",
       "    </tr>\n",
       "    <tr>\n",
       "      <th>2022-08-31</th>\n",
       "      <td>0.002859</td>\n",
       "      <td>-0.006541</td>\n",
       "      <td>-0.001477</td>\n",
       "      <td>0.009514</td>\n",
       "      <td>0.002298</td>\n",
       "      <td>0.013188</td>\n",
       "      <td>0.000328</td>\n",
       "      <td>0.005060</td>\n",
       "      <td>-0.000521</td>\n",
       "      <td>-0.001528</td>\n",
       "      <td>0.023180</td>\n",
       "    </tr>\n",
       "  </tbody>\n",
       "</table>\n",
       "</div>"
      ],
      "text/plain": [
       "                ACLS      AMZN      CCRN      INOD      LIFE      NFLX  \\\n",
       "Date                                                                     \n",
       "2022-08-01  0.001021 -0.000464  0.007967 -0.034540  0.005476 -0.002315   \n",
       "2022-08-02  0.001262  0.002458  0.010162 -0.013780 -0.002877  0.005300   \n",
       "2022-08-03 -0.037208 -0.029841  0.022355  0.001280  0.004944  0.002068   \n",
       "2022-08-04 -0.075516 -0.015531 -0.155977 -0.049489  0.004357 -0.001136   \n",
       "2022-08-05  0.003059  0.011583  0.044041  0.000808 -0.007764 -0.000258   \n",
       "2022-08-08  0.025233  0.004663 -0.046319  0.002979  0.011133 -0.014828   \n",
       "2022-08-09  0.012652  0.010454 -0.031657  0.002888 -0.001306  0.015204   \n",
       "2022-08-10  0.000474 -0.035261  0.019646  0.000427  0.003000 -0.061625   \n",
       "2022-08-11 -0.000021  0.014367 -0.024500 -0.000026 -0.004744  0.005776   \n",
       "2022-08-12 -0.002115 -0.020691 -0.009910  0.000152 -0.007026 -0.027194   \n",
       "2022-08-15 -0.001148  0.002578  0.003948 -0.034393  0.003918  0.000599   \n",
       "2022-08-16 -0.014761 -0.010346 -0.016687  0.001273 -0.001230  0.004341   \n",
       "2022-08-17 -0.017036  0.018511  0.068888 -0.005064  0.005065  0.015941   \n",
       "2022-08-18  0.028729 -0.001407  0.043998 -0.009416 -0.000258 -0.011256   \n",
       "2022-08-19 -0.002632  0.021435  0.000350  0.000063  0.003330  0.006144   \n",
       "2022-08-22 -0.005277  0.027866 -0.004539  0.004149 -0.001908  0.025197   \n",
       "2022-08-23  0.000839 -0.001567  0.007633  0.000930  0.000000  0.000487   \n",
       "2022-08-24 -0.001150 -0.000831  0.010439 -0.013235  0.004486  0.003458   \n",
       "2022-08-25 -0.094757 -0.009062  0.019062 -0.013177  0.002687  0.011190   \n",
       "2022-08-26  0.014695  0.006268 -0.011376 -0.001698 -0.008312 -0.014133   \n",
       "2022-08-29  0.028081  0.000915 -0.006505 -0.003035 -0.007545  0.005778   \n",
       "2022-08-30  0.009330 -0.004090  0.007930 -0.002924 -0.008284 -0.017456   \n",
       "2022-08-31  0.002859 -0.006541 -0.001477  0.009514  0.002298  0.013188   \n",
       "\n",
       "                RGEN      SGRY      VCYT       WMG     Total  \n",
       "Date                                                          \n",
       "2022-08-01 -0.000567 -0.007363 -0.006261  0.024094 -0.012953  \n",
       "2022-08-02  0.015887 -0.015861  0.010925 -0.000188  0.013288  \n",
       "2022-08-03 -0.000759  0.017965 -0.032214  0.027740 -0.023671  \n",
       "2022-08-04  0.001825 -0.003258  0.061626 -0.003079 -0.236179  \n",
       "2022-08-05  0.002073  0.005386  0.005807 -0.009875  0.054861  \n",
       "2022-08-08 -0.001716  0.001216 -0.026741  0.012301 -0.032079  \n",
       "2022-08-09  0.001169 -0.013488 -0.060126 -0.046870 -0.111080  \n",
       "2022-08-10  0.001701  0.032149  0.035370  0.006098  0.001981  \n",
       "2022-08-11 -0.001288 -0.013550 -0.008628  0.001276 -0.031339  \n",
       "2022-08-12  0.000572  0.011124  0.010815  0.005396 -0.038878  \n",
       "2022-08-15 -0.001620  0.015653 -0.002687 -0.000386 -0.013539  \n",
       "2022-08-16  0.000702 -0.033281 -0.019728 -0.000652 -0.090369  \n",
       "2022-08-17  0.000131 -0.027038 -0.021485 -0.005654  0.032259  \n",
       "2022-08-18 -0.001767  0.002935  0.003865 -0.000324  0.055098  \n",
       "2022-08-19 -0.000377 -0.015862 -0.017059 -0.010740 -0.015349  \n",
       "2022-08-22  0.002935 -0.007136 -0.008688 -0.003629  0.028971  \n",
       "2022-08-23  0.001244 -0.003829  0.004412  0.006009  0.016158  \n",
       "2022-08-24 -0.002888  0.000360  0.015376 -0.001521  0.014495  \n",
       "2022-08-25 -0.004363  0.001240  0.023758  0.003426 -0.059995  \n",
       "2022-08-26  0.007170  0.006886 -0.023777 -0.015141 -0.039419  \n",
       "2022-08-29  0.010120  0.006716 -0.020296 -0.000125  0.014104  \n",
       "2022-08-30  0.000828  0.050120 -0.000709 -0.001293  0.033453  \n",
       "2022-08-31  0.000328  0.005060 -0.000521 -0.001528  0.023180  "
      ]
     },
     "execution_count": 223,
     "metadata": {},
     "output_type": "execute_result"
    }
   ],
   "source": [
    "portfolio_val_1_8"
   ]
  },
  {
   "cell_type": "code",
   "execution_count": 224,
   "id": "49b029cc",
   "metadata": {},
   "outputs": [
    {
     "data": {
      "text/plain": [
       "<AxesSubplot: xlabel='Date'>"
      ]
     },
     "execution_count": 224,
     "metadata": {},
     "output_type": "execute_result"
    },
    {
     "data": {
      "image/png": "[encoded data removed]",
      "text/plain": [
       "<Figure size 720x576 with 1 Axes>"
      ]
     },
     "metadata": {
      "needs_background": "light"
     },
     "output_type": "display_data"
    }
   ],
   "source": [
    "# plot portfolio daily return\n",
    "portfolio_val_1_8['Total'].plot(figsize=(10,8))"
   ]
  },
  {
   "cell_type": "code",
   "execution_count": 225,
   "id": "d1756338",
   "metadata": {},
   "outputs": [
    {
     "data": {
      "text/plain": [
       "-0.28508316786859306"
      ]
     },
     "execution_count": 225,
     "metadata": {},
     "output_type": "execute_result"
    }
   ],
   "source": [
    "sharpe_ratio = portfolio_val_1_8['Total'].mean() / portfolio_val_1_8['Total'].std()\n",
    "sharpe_ratio"
   ]
  },
  {
   "cell_type": "code",
   "execution_count": 245,
   "id": "a43e0085",
   "metadata": {},
   "outputs": [],
   "source": [
    "portfolio_val_1_8.to_csv('portfolio_val_1_8.csv', index=False)"
   ]
  },
  {
   "cell_type": "markdown",
   "id": "cecb17c2",
   "metadata": {},
   "source": [
    "#### Month 9:"
   ]
  },
  {
   "cell_type": "code",
   "execution_count": 226,
   "id": "ec0de915",
   "metadata": {},
   "outputs": [
    {
     "data": {
      "text/plain": [
       "array(['ASML', 'HLNE', 'INMD', 'ITOS', 'MSFT', 'ORGO', 'QFIN', 'SSSS',\n",
       "       'VIR', 'WIRE'], dtype='<U4')"
      ]
     },
     "execution_count": 226,
     "metadata": {},
     "output_type": "execute_result"
    }
   ],
   "source": [
    "date = \"2022-09-01\"\n",
    "selected_stocks = strategy1(date)\n",
    "factors = factors.loc[(factors[\"Date\"]==date) & (factors[\"Index\"].isin(selected_stocks))]\n",
    "factor_returns = factor_returns.loc[factor_returns[\"Date\"]==date]\n",
    "factor_returns = factor_returns.iloc[:,1:]\n",
    "stock_list = factors[\"Index\"].tolist()\n",
    "factors = factors.iloc[:, 3:]\n",
    "factors = np.array(factors)\n",
    "factor_returns = np.array(factor_returns)\n",
    "stock_return = np.dot(factors, factor_returns.T).reshape(-1)\n",
    "stock_list = np.array(stock_list)\n",
    "stock_list"
   ]
  },
  {
   "cell_type": "code",
   "execution_count": 227,
   "id": "e3564c5b",
   "metadata": {},
   "outputs": [],
   "source": [
    "date_piars = date_piars_9\n",
    "results = []"
   ]
  },
  {
   "cell_type": "code",
   "execution_count": 228,
   "id": "5b958c64",
   "metadata": {},
   "outputs": [
    {
     "data": {
      "text/plain": [
       "21"
      ]
     },
     "execution_count": 228,
     "metadata": {},
     "output_type": "execute_result"
    }
   ],
   "source": [
    "for pair in date_piars:\n",
    "    w=optimize(weights,tickers,pair[1],pair[0],calc_window,rf_rate,short=True,price_type='Adj Close',clean='True')\n",
    "    weight=list(w.x)\n",
    "    results.append(weight)  \n",
    "len(results)"
   ]
  },
  {
   "cell_type": "code",
   "execution_count": null,
   "id": "6ccf17af",
   "metadata": {},
   "outputs": [],
   "source": [
    "factors = pd.read_csv(\"./Factors/merge_Factors.csv\")"
   ]
  },
  {
   "cell_type": "code",
   "execution_count": 231,
   "id": "e16f6def",
   "metadata": {},
   "outputs": [],
   "source": [
    "stock_df_list=[]\n",
    "for idx, index in enumerate(stock_list):\n",
    "    weight_list = []\n",
    "    for w in results:\n",
    "        weight_list.append(w[idx])\n",
    "    stock_true = factors.loc[(factors[\"Date\"]>='2022-09-01') & (factors[\"Date\"]<='2022-09-30') & (factors[\"Index\"]==index)]\n",
    "    stock_true = stock_true[['Date', 'Return']].reset_index(drop=True)\n",
    "    stock_true['Weight'] = weight_list\n",
    "    stock_true['Daily Return'] = stock_true['Return'] * stock_true['Weight']\n",
    "    stock_true = stock_true.set_index(\"Date\")\n",
    "    stock_df_list.append(stock_true)"
   ]
  },
  {
   "cell_type": "code",
   "execution_count": 232,
   "id": "76ea0ebe",
   "metadata": {},
   "outputs": [],
   "source": [
    "all_vals = [stock_df['Daily Return'] for stock_df in stock_df_list]\n",
    "portfolio_val_1_9 = pd.concat(all_vals, axis=1)\n",
    "portfolio_val_1_9.columns = stock_list\n",
    "portfolio_val_1_9['Total'] = portfolio_val_1_9.sum(axis=1)"
   ]
  },
  {
   "cell_type": "code",
   "execution_count": 233,
   "id": "b4f7b557",
   "metadata": {},
   "outputs": [
    {
     "data": {
      "text/plain": [
       "<AxesSubplot: xlabel='Date'>"
      ]
     },
     "execution_count": 233,
     "metadata": {},
     "output_type": "execute_result"
    },
    {
     "data": {
      "image/png": "[encoded data removed]",
      "text/plain": [
       "<Figure size 720x576 with 1 Axes>"
      ]
     },
     "metadata": {
      "needs_background": "light"
     },
     "output_type": "display_data"
    }
   ],
   "source": [
    "# plot portfolio daily return\n",
    "portfolio_val_1_9['Total'].plot(figsize=(10,8))"
   ]
  },
  {
   "cell_type": "code",
   "execution_count": 234,
   "id": "785c63a8",
   "metadata": {},
   "outputs": [
    {
     "data": {
      "text/plain": [
       "0.13305453804230974"
      ]
     },
     "execution_count": 234,
     "metadata": {},
     "output_type": "execute_result"
    }
   ],
   "source": [
    "sharpe_ratio = portfolio_val_1_9['Total'].mean() / portfolio_val_1_9['Total'].std()\n",
    "sharpe_ratio"
   ]
  },
  {
   "cell_type": "code",
   "execution_count": 246,
   "id": "1665685c",
   "metadata": {},
   "outputs": [],
   "source": [
    "portfolio_val_1_9.to_csv('portfolio_val_1_9.csv', index=False)"
   ]
  },
  {
   "cell_type": "markdown",
   "id": "4b1be82d",
   "metadata": {},
   "source": [
    "#### Month 10:"
   ]
  },
  {
   "cell_type": "code",
   "execution_count": 235,
   "id": "b0cac3f5",
   "metadata": {},
   "outputs": [
    {
     "data": {
      "text/plain": [
       "array(['AFMD', 'CARG', 'CPRX', 'IPWR', 'KYMR', 'MEIP', 'MSTR', 'OPRT',\n",
       "       'OYST', 'PTEN'], dtype='<U4')"
      ]
     },
     "execution_count": 235,
     "metadata": {},
     "output_type": "execute_result"
    }
   ],
   "source": [
    "date = \"2022-10-03\"\n",
    "selected_stocks = strategy1(date)\n",
    "factors = factors.loc[(factors[\"Date\"]==date) & (factors[\"Index\"].isin(selected_stocks))]\n",
    "factor_returns = factor_returns.loc[factor_returns[\"Date\"]==date]\n",
    "factor_returns = factor_returns.iloc[:,1:]\n",
    "stock_list = factors[\"Index\"].tolist()\n",
    "factors = factors.iloc[:, 3:]\n",
    "factors = np.array(factors)\n",
    "factor_returns = np.array(factor_returns)\n",
    "stock_return = np.dot(factors, factor_returns.T).reshape(-1)\n",
    "stock_list = np.array(stock_list)\n",
    "stock_list"
   ]
  },
  {
   "cell_type": "code",
   "execution_count": 236,
   "id": "e82c23e7",
   "metadata": {},
   "outputs": [],
   "source": [
    "date_piars = date_piars_10\n",
    "results = []"
   ]
  },
  {
   "cell_type": "code",
   "execution_count": 237,
   "id": "6d4d1572",
   "metadata": {},
   "outputs": [
    {
     "data": {
      "text/plain": [
       "21"
      ]
     },
     "execution_count": 237,
     "metadata": {},
     "output_type": "execute_result"
    }
   ],
   "source": [
    "for pair in date_piars:\n",
    "    w=optimize(weights,tickers,pair[1],pair[0],calc_window,rf_rate,short=True,price_type='Adj Close',clean='True')\n",
    "    weight=list(w.x)\n",
    "    results.append(weight)  \n",
    "len(results)"
   ]
  },
  {
   "cell_type": "code",
   "execution_count": null,
   "id": "c20a2cbc",
   "metadata": {},
   "outputs": [],
   "source": [
    "factors = pd.read_csv(\"./Factors/merge_Factors.csv\")"
   ]
  },
  {
   "cell_type": "code",
   "execution_count": 240,
   "id": "cfeef6bf",
   "metadata": {},
   "outputs": [],
   "source": [
    "stock_df_list=[]\n",
    "for idx, index in enumerate(stock_list):\n",
    "    weight_list = []\n",
    "    for w in results:\n",
    "        weight_list.append(w[idx])\n",
    "    stock_true = factors.loc[(factors[\"Date\"]>='2022-10-01') & (factors[\"Date\"]<='2022-10-31') & (factors[\"Index\"]==index)]\n",
    "    stock_true = stock_true[['Date', 'Return']].reset_index(drop=True)\n",
    "    stock_true['Weight'] = weight_list\n",
    "    stock_true['Daily Return'] = stock_true['Return'] * stock_true['Weight']\n",
    "    stock_true = stock_true.set_index(\"Date\")\n",
    "    stock_df_list.append(stock_true)"
   ]
  },
  {
   "cell_type": "code",
   "execution_count": 241,
   "id": "48b829e4",
   "metadata": {},
   "outputs": [],
   "source": [
    "all_vals = [stock_df['Daily Return'] for stock_df in stock_df_list]\n",
    "portfolio_val_1_10 = pd.concat(all_vals, axis=1)\n",
    "portfolio_val_1_10.columns = stock_list\n",
    "portfolio_val_1_10['Total'] = portfolio_val_1_10.sum(axis=1)"
   ]
  },
  {
   "cell_type": "code",
   "execution_count": 242,
   "id": "c79c5c7a",
   "metadata": {},
   "outputs": [
    {
     "data": {
      "text/html": [
       "<div>\n",
       "<style scoped>\n",
       "    .dataframe tbody tr th:only-of-type {\n",
       "        vertical-align: middle;\n",
       "    }\n",
       "\n",
       "    .dataframe tbody tr th {\n",
       "        vertical-align: top;\n",
       "    }\n",
       "\n",
       "    .dataframe thead th {\n",
       "        text-align: right;\n",
       "    }\n",
       "</style>\n",
       "<table border=\"1\" class=\"dataframe\">\n",
       "  <thead>\n",
       "    <tr style=\"text-align: right;\">\n",
       "      <th></th>\n",
       "      <th>AFMD</th>\n",
       "      <th>CARG</th>\n",
       "      <th>CPRX</th>\n",
       "      <th>IPWR</th>\n",
       "      <th>KYMR</th>\n",
       "      <th>MEIP</th>\n",
       "      <th>MSTR</th>\n",
       "      <th>OPRT</th>\n",
       "      <th>OYST</th>\n",
       "      <th>PTEN</th>\n",
       "      <th>Total</th>\n",
       "    </tr>\n",
       "    <tr>\n",
       "      <th>Date</th>\n",
       "      <th></th>\n",
       "      <th></th>\n",
       "      <th></th>\n",
       "      <th></th>\n",
       "      <th></th>\n",
       "      <th></th>\n",
       "      <th></th>\n",
       "      <th></th>\n",
       "      <th></th>\n",
       "      <th></th>\n",
       "      <th></th>\n",
       "    </tr>\n",
       "  </thead>\n",
       "  <tbody>\n",
       "    <tr>\n",
       "      <th>2022-10-03</th>\n",
       "      <td>-0.038835</td>\n",
       "      <td>-0.052929</td>\n",
       "      <td>0.024162</td>\n",
       "      <td>-0.082126</td>\n",
       "      <td>-0.032166</td>\n",
       "      <td>-0.014387</td>\n",
       "      <td>0.057759</td>\n",
       "      <td>0.032597</td>\n",
       "      <td>0.044484</td>\n",
       "      <td>0.003866</td>\n",
       "      <td>-0.057574</td>\n",
       "    </tr>\n",
       "    <tr>\n",
       "      <th>2022-10-04</th>\n",
       "      <td>-0.001640</td>\n",
       "      <td>-0.020777</td>\n",
       "      <td>-0.029680</td>\n",
       "      <td>-0.005123</td>\n",
       "      <td>-0.017856</td>\n",
       "      <td>-0.032240</td>\n",
       "      <td>0.107875</td>\n",
       "      <td>0.081605</td>\n",
       "      <td>0.052553</td>\n",
       "      <td>-0.000961</td>\n",
       "      <td>0.133755</td>\n",
       "    </tr>\n",
       "    <tr>\n",
       "      <th>2022-10-05</th>\n",
       "      <td>0.030570</td>\n",
       "      <td>0.040709</td>\n",
       "      <td>-0.000784</td>\n",
       "      <td>0.009192</td>\n",
       "      <td>0.000357</td>\n",
       "      <td>-0.000000</td>\n",
       "      <td>-0.026333</td>\n",
       "      <td>-0.021555</td>\n",
       "      <td>0.013959</td>\n",
       "      <td>0.004501</td>\n",
       "      <td>0.050617</td>\n",
       "    </tr>\n",
       "    <tr>\n",
       "      <th>2022-10-06</th>\n",
       "      <td>0.017272</td>\n",
       "      <td>0.003422</td>\n",
       "      <td>-0.021193</td>\n",
       "      <td>-0.017253</td>\n",
       "      <td>-0.008643</td>\n",
       "      <td>0.011705</td>\n",
       "      <td>-0.002147</td>\n",
       "      <td>-0.007255</td>\n",
       "      <td>0.075472</td>\n",
       "      <td>0.002093</td>\n",
       "      <td>0.053473</td>\n",
       "    </tr>\n",
       "    <tr>\n",
       "      <th>2022-10-07</th>\n",
       "      <td>0.026077</td>\n",
       "      <td>0.039148</td>\n",
       "      <td>-0.017642</td>\n",
       "      <td>0.044466</td>\n",
       "      <td>-0.001999</td>\n",
       "      <td>0.025049</td>\n",
       "      <td>-0.088426</td>\n",
       "      <td>-0.010092</td>\n",
       "      <td>0.035088</td>\n",
       "      <td>-0.002144</td>\n",
       "      <td>0.049525</td>\n",
       "    </tr>\n",
       "    <tr>\n",
       "      <th>2022-10-10</th>\n",
       "      <td>0.142223</td>\n",
       "      <td>-0.004289</td>\n",
       "      <td>0.003265</td>\n",
       "      <td>0.007729</td>\n",
       "      <td>0.016693</td>\n",
       "      <td>0.017183</td>\n",
       "      <td>0.001589</td>\n",
       "      <td>-0.061053</td>\n",
       "      <td>-0.021186</td>\n",
       "      <td>-0.028691</td>\n",
       "      <td>0.073464</td>\n",
       "    </tr>\n",
       "    <tr>\n",
       "      <th>2022-10-11</th>\n",
       "      <td>0.018868</td>\n",
       "      <td>0.000712</td>\n",
       "      <td>0.018714</td>\n",
       "      <td>0.116823</td>\n",
       "      <td>-0.011061</td>\n",
       "      <td>0.007911</td>\n",
       "      <td>-0.019397</td>\n",
       "      <td>-0.025670</td>\n",
       "      <td>-0.044733</td>\n",
       "      <td>-0.014409</td>\n",
       "      <td>0.047757</td>\n",
       "    </tr>\n",
       "    <tr>\n",
       "      <th>2022-10-12</th>\n",
       "      <td>0.038462</td>\n",
       "      <td>-0.007835</td>\n",
       "      <td>-0.009585</td>\n",
       "      <td>0.027902</td>\n",
       "      <td>-0.001841</td>\n",
       "      <td>-0.011146</td>\n",
       "      <td>0.009290</td>\n",
       "      <td>0.019139</td>\n",
       "      <td>0.061934</td>\n",
       "      <td>0.006405</td>\n",
       "      <td>0.132725</td>\n",
       "    </tr>\n",
       "    <tr>\n",
       "      <th>2022-10-13</th>\n",
       "      <td>-0.040000</td>\n",
       "      <td>0.004240</td>\n",
       "      <td>0.042742</td>\n",
       "      <td>-0.118255</td>\n",
       "      <td>-0.006260</td>\n",
       "      <td>-0.010319</td>\n",
       "      <td>0.009891</td>\n",
       "      <td>0.033129</td>\n",
       "      <td>0.049787</td>\n",
       "      <td>0.038923</td>\n",
       "      <td>0.003878</td>\n",
       "    </tr>\n",
       "    <tr>\n",
       "      <th>2022-10-14</th>\n",
       "      <td>0.025641</td>\n",
       "      <td>0.027679</td>\n",
       "      <td>-0.026426</td>\n",
       "      <td>-0.003149</td>\n",
       "      <td>0.013557</td>\n",
       "      <td>0.020050</td>\n",
       "      <td>-0.050920</td>\n",
       "      <td>-0.064593</td>\n",
       "      <td>-0.059621</td>\n",
       "      <td>-0.025188</td>\n",
       "      <td>-0.142971</td>\n",
       "    </tr>\n",
       "    <tr>\n",
       "      <th>2022-10-17</th>\n",
       "      <td>-0.003553</td>\n",
       "      <td>-0.012683</td>\n",
       "      <td>0.040637</td>\n",
       "      <td>-0.006214</td>\n",
       "      <td>0.057918</td>\n",
       "      <td>0.105263</td>\n",
       "      <td>0.054881</td>\n",
       "      <td>-0.024001</td>\n",
       "      <td>0.017252</td>\n",
       "      <td>0.000958</td>\n",
       "      <td>0.230459</td>\n",
       "    </tr>\n",
       "    <tr>\n",
       "      <th>2022-10-18</th>\n",
       "      <td>-0.000000</td>\n",
       "      <td>-0.014949</td>\n",
       "      <td>-0.010720</td>\n",
       "      <td>-0.025078</td>\n",
       "      <td>0.036510</td>\n",
       "      <td>-0.000000</td>\n",
       "      <td>0.060212</td>\n",
       "      <td>0.029680</td>\n",
       "      <td>0.076487</td>\n",
       "      <td>0.004601</td>\n",
       "      <td>0.156744</td>\n",
       "    </tr>\n",
       "    <tr>\n",
       "      <th>2022-10-19</th>\n",
       "      <td>0.009783</td>\n",
       "      <td>0.025199</td>\n",
       "      <td>-0.020898</td>\n",
       "      <td>0.011179</td>\n",
       "      <td>-0.025162</td>\n",
       "      <td>-0.000000</td>\n",
       "      <td>-0.037957</td>\n",
       "      <td>0.026761</td>\n",
       "      <td>-0.001316</td>\n",
       "      <td>0.005199</td>\n",
       "      <td>-0.007211</td>\n",
       "    </tr>\n",
       "    <tr>\n",
       "      <th>2022-10-20</th>\n",
       "      <td>-0.005609</td>\n",
       "      <td>0.004631</td>\n",
       "      <td>0.008696</td>\n",
       "      <td>-0.023045</td>\n",
       "      <td>-0.003865</td>\n",
       "      <td>0.009436</td>\n",
       "      <td>-0.022426</td>\n",
       "      <td>0.002279</td>\n",
       "      <td>-0.007905</td>\n",
       "      <td>0.006682</td>\n",
       "      <td>-0.031126</td>\n",
       "    </tr>\n",
       "    <tr>\n",
       "      <th>2022-10-21</th>\n",
       "      <td>-0.014279</td>\n",
       "      <td>0.010953</td>\n",
       "      <td>0.050940</td>\n",
       "      <td>-0.021170</td>\n",
       "      <td>0.001998</td>\n",
       "      <td>-0.012137</td>\n",
       "      <td>0.049158</td>\n",
       "      <td>-0.019200</td>\n",
       "      <td>0.033201</td>\n",
       "      <td>0.001097</td>\n",
       "      <td>0.080561</td>\n",
       "    </tr>\n",
       "    <tr>\n",
       "      <th>2022-10-24</th>\n",
       "      <td>0.019173</td>\n",
       "      <td>0.027895</td>\n",
       "      <td>0.043997</td>\n",
       "      <td>0.001041</td>\n",
       "      <td>0.001764</td>\n",
       "      <td>-0.000000</td>\n",
       "      <td>0.011097</td>\n",
       "      <td>-0.003321</td>\n",
       "      <td>-0.001553</td>\n",
       "      <td>0.006685</td>\n",
       "      <td>0.106777</td>\n",
       "    </tr>\n",
       "    <tr>\n",
       "      <th>2022-10-25</th>\n",
       "      <td>-0.015082</td>\n",
       "      <td>-0.073294</td>\n",
       "      <td>0.035714</td>\n",
       "      <td>-0.003629</td>\n",
       "      <td>0.004808</td>\n",
       "      <td>-0.000000</td>\n",
       "      <td>0.078714</td>\n",
       "      <td>-0.064088</td>\n",
       "      <td>-0.001603</td>\n",
       "      <td>-0.030544</td>\n",
       "      <td>-0.069006</td>\n",
       "    </tr>\n",
       "    <tr>\n",
       "      <th>2022-10-26</th>\n",
       "      <td>-0.000979</td>\n",
       "      <td>0.010123</td>\n",
       "      <td>-0.015172</td>\n",
       "      <td>0.014596</td>\n",
       "      <td>0.003535</td>\n",
       "      <td>-0.032874</td>\n",
       "      <td>0.014999</td>\n",
       "      <td>-0.012729</td>\n",
       "      <td>0.052395</td>\n",
       "      <td>0.079007</td>\n",
       "      <td>0.112901</td>\n",
       "    </tr>\n",
       "    <tr>\n",
       "      <th>2022-10-27</th>\n",
       "      <td>-0.000000</td>\n",
       "      <td>-0.001412</td>\n",
       "      <td>-0.034314</td>\n",
       "      <td>-0.000000</td>\n",
       "      <td>-0.000754</td>\n",
       "      <td>-0.000000</td>\n",
       "      <td>-0.007920</td>\n",
       "      <td>-0.041060</td>\n",
       "      <td>-0.005688</td>\n",
       "      <td>0.028975</td>\n",
       "      <td>-0.062174</td>\n",
       "    </tr>\n",
       "    <tr>\n",
       "      <th>2022-10-28</th>\n",
       "      <td>-0.027850</td>\n",
       "      <td>-0.025036</td>\n",
       "      <td>0.029006</td>\n",
       "      <td>-0.003737</td>\n",
       "      <td>0.015245</td>\n",
       "      <td>0.027778</td>\n",
       "      <td>0.034854</td>\n",
       "      <td>-0.004955</td>\n",
       "      <td>-0.031147</td>\n",
       "      <td>0.026387</td>\n",
       "      <td>0.040545</td>\n",
       "    </tr>\n",
       "    <tr>\n",
       "      <th>2022-10-31</th>\n",
       "      <td>0.003480</td>\n",
       "      <td>-0.026798</td>\n",
       "      <td>-0.022551</td>\n",
       "      <td>-0.004072</td>\n",
       "      <td>0.003836</td>\n",
       "      <td>0.028571</td>\n",
       "      <td>-0.035703</td>\n",
       "      <td>0.014119</td>\n",
       "      <td>-0.007524</td>\n",
       "      <td>0.015443</td>\n",
       "      <td>-0.031199</td>\n",
       "    </tr>\n",
       "  </tbody>\n",
       "</table>\n",
       "</div>"
      ],
      "text/plain": [
       "                AFMD      CARG      CPRX      IPWR      KYMR      MEIP  \\\n",
       "Date                                                                     \n",
       "2022-10-03 -0.038835 -0.052929  0.024162 -0.082126 -0.032166 -0.014387   \n",
       "2022-10-04 -0.001640 -0.020777 -0.029680 -0.005123 -0.017856 -0.032240   \n",
       "2022-10-05  0.030570  0.040709 -0.000784  0.009192  0.000357 -0.000000   \n",
       "2022-10-06  0.017272  0.003422 -0.021193 -0.017253 -0.008643  0.011705   \n",
       "2022-10-07  0.026077  0.039148 -0.017642  0.044466 -0.001999  0.025049   \n",
       "2022-10-10  0.142223 -0.004289  0.003265  0.007729  0.016693  0.017183   \n",
       "2022-10-11  0.018868  0.000712  0.018714  0.116823 -0.011061  0.007911   \n",
       "2022-10-12  0.038462 -0.007835 -0.009585  0.027902 -0.001841 -0.011146   \n",
       "2022-10-13 -0.040000  0.004240  0.042742 -0.118255 -0.006260 -0.010319   \n",
       "2022-10-14  0.025641  0.027679 -0.026426 -0.003149  0.013557  0.020050   \n",
       "2022-10-17 -0.003553 -0.012683  0.040637 -0.006214  0.057918  0.105263   \n",
       "2022-10-18 -0.000000 -0.014949 -0.010720 -0.025078  0.036510 -0.000000   \n",
       "2022-10-19  0.009783  0.025199 -0.020898  0.011179 -0.025162 -0.000000   \n",
       "2022-10-20 -0.005609  0.004631  0.008696 -0.023045 -0.003865  0.009436   \n",
       "2022-10-21 -0.014279  0.010953  0.050940 -0.021170  0.001998 -0.012137   \n",
       "2022-10-24  0.019173  0.027895  0.043997  0.001041  0.001764 -0.000000   \n",
       "2022-10-25 -0.015082 -0.073294  0.035714 -0.003629  0.004808 -0.000000   \n",
       "2022-10-26 -0.000979  0.010123 -0.015172  0.014596  0.003535 -0.032874   \n",
       "2022-10-27 -0.000000 -0.001412 -0.034314 -0.000000 -0.000754 -0.000000   \n",
       "2022-10-28 -0.027850 -0.025036  0.029006 -0.003737  0.015245  0.027778   \n",
       "2022-10-31  0.003480 -0.026798 -0.022551 -0.004072  0.003836  0.028571   \n",
       "\n",
       "                MSTR      OPRT      OYST      PTEN     Total  \n",
       "Date                                                          \n",
       "2022-10-03  0.057759  0.032597  0.044484  0.003866 -0.057574  \n",
       "2022-10-04  0.107875  0.081605  0.052553 -0.000961  0.133755  \n",
       "2022-10-05 -0.026333 -0.021555  0.013959  0.004501  0.050617  \n",
       "2022-10-06 -0.002147 -0.007255  0.075472  0.002093  0.053473  \n",
       "2022-10-07 -0.088426 -0.010092  0.035088 -0.002144  0.049525  \n",
       "2022-10-10  0.001589 -0.061053 -0.021186 -0.028691  0.073464  \n",
       "2022-10-11 -0.019397 -0.025670 -0.044733 -0.014409  0.047757  \n",
       "2022-10-12  0.009290  0.019139  0.061934  0.006405  0.132725  \n",
       "2022-10-13  0.009891  0.033129  0.049787  0.038923  0.003878  \n",
       "2022-10-14 -0.050920 -0.064593 -0.059621 -0.025188 -0.142971  \n",
       "2022-10-17  0.054881 -0.024001  0.017252  0.000958  0.230459  \n",
       "2022-10-18  0.060212  0.029680  0.076487  0.004601  0.156744  \n",
       "2022-10-19 -0.037957  0.026761 -0.001316  0.005199 -0.007211  \n",
       "2022-10-20 -0.022426  0.002279 -0.007905  0.006682 -0.031126  \n",
       "2022-10-21  0.049158 -0.019200  0.033201  0.001097  0.080561  \n",
       "2022-10-24  0.011097 -0.003321 -0.001553  0.006685  0.106777  \n",
       "2022-10-25  0.078714 -0.064088 -0.001603 -0.030544 -0.069006  \n",
       "2022-10-26  0.014999 -0.012729  0.052395  0.079007  0.112901  \n",
       "2022-10-27 -0.007920 -0.041060 -0.005688  0.028975 -0.062174  \n",
       "2022-10-28  0.034854 -0.004955 -0.031147  0.026387  0.040545  \n",
       "2022-10-31 -0.035703  0.014119 -0.007524  0.015443 -0.031199  "
      ]
     },
     "execution_count": 242,
     "metadata": {},
     "output_type": "execute_result"
    }
   ],
   "source": [
    "portfolio_val_1_10"
   ]
  },
  {
   "cell_type": "code",
   "execution_count": 243,
   "id": "cdf3a5ac",
   "metadata": {},
   "outputs": [
    {
     "data": {
      "text/plain": [
       "<AxesSubplot: xlabel='Date'>"
      ]
     },
     "execution_count": 243,
     "metadata": {},
     "output_type": "execute_result"
    },
    {
     "data": {
      "image/png": "[encoded data removed]",
      "text/plain": [
       "<Figure size 720x576 with 1 Axes>"
      ]
     },
     "metadata": {
      "needs_background": "light"
     },
     "output_type": "display_data"
    }
   ],
   "source": [
    "# plot portfolio daily return\n",
    "portfolio_val_1_10['Total'].plot(figsize=(10,8))"
   ]
  },
  {
   "cell_type": "code",
   "execution_count": 244,
   "id": "93a6757b",
   "metadata": {},
   "outputs": [
    {
     "data": {
      "text/plain": [
       "0.4653577052331418"
      ]
     },
     "execution_count": 244,
     "metadata": {},
     "output_type": "execute_result"
    }
   ],
   "source": [
    "sharpe_ratio = portfolio_val_1_10['Total'].mean() / portfolio_val_1_10['Total'].std()\n",
    "sharpe_ratio"
   ]
  },
  {
   "cell_type": "code",
   "execution_count": 247,
   "id": "5f4a581a",
   "metadata": {},
   "outputs": [],
   "source": [
    "portfolio_val_1_10.to_csv('portfolio_val_1_10.csv', index=False)"
   ]
  },
  {
   "cell_type": "code",
   "execution_count": null,
   "id": "2f1aedfe",
   "metadata": {},
   "outputs": [],
   "source": []
  },
  {
   "cell_type": "markdown",
   "id": "318eac5a",
   "metadata": {},
   "source": [
    "## Strategy 2:"
   ]
  },
  {
   "cell_type": "markdown",
   "id": "01f28d5b",
   "metadata": {},
   "source": [
    "#### Month 8:"
   ]
  },
  {
   "cell_type": "code",
   "execution_count": 248,
   "id": "23c5f5ca",
   "metadata": {},
   "outputs": [
    {
     "data": {
      "text/plain": [
       "array(['AMAL', 'DAIO', 'DGICB', 'FOCS', 'HBCP', 'MMYT', 'NFBK', 'OBNK',\n",
       "       'PDFS', 'STEL'], dtype='<U5')"
      ]
     },
     "execution_count": 248,
     "metadata": {},
     "output_type": "execute_result"
    }
   ],
   "source": [
    "date = \"2022-08-01\"\n",
    "selected_stocks = strategy2(date)\n",
    "factors = factors.loc[(factors[\"Date\"]==date) & (factors[\"Index\"].isin(selected_stocks))]\n",
    "factor_returns = factor_returns.loc[factor_returns[\"Date\"]==date]\n",
    "factor_returns = factor_returns.iloc[:,1:]\n",
    "stock_list = factors[\"Index\"].tolist()\n",
    "factors = factors.iloc[:, 3:]\n",
    "factors = np.array(factors)\n",
    "factor_returns = np.array(factor_returns)\n",
    "stock_return = np.dot(factors, factor_returns.T).reshape(-1)\n",
    "stock_list = np.array(stock_list)\n",
    "stock_list"
   ]
  },
  {
   "cell_type": "code",
   "execution_count": 249,
   "id": "e0211c48",
   "metadata": {},
   "outputs": [],
   "source": [
    "date_piars = date_piars_8\n",
    "results = []"
   ]
  },
  {
   "cell_type": "code",
   "execution_count": 250,
   "id": "d30e183f",
   "metadata": {},
   "outputs": [
    {
     "data": {
      "text/plain": [
       "23"
      ]
     },
     "execution_count": 250,
     "metadata": {},
     "output_type": "execute_result"
    }
   ],
   "source": [
    "for pair in date_piars:\n",
    "    w=optimize(weights,tickers,pair[1],pair[0],calc_window,rf_rate,short=True,price_type='Adj Close',clean='True')\n",
    "    weight=list(w.x)\n",
    "    results.append(weight)  \n",
    "len(results)"
   ]
  },
  {
   "cell_type": "code",
   "execution_count": null,
   "id": "6f4c551a",
   "metadata": {},
   "outputs": [],
   "source": [
    "factors = pd.read_csv(\"./Factors/merge_Factors.csv\")"
   ]
  },
  {
   "cell_type": "code",
   "execution_count": 253,
   "id": "5f0c9e62",
   "metadata": {},
   "outputs": [],
   "source": [
    "stock_df_list=[]\n",
    "for idx, index in enumerate(stock_list):\n",
    "    weight_list = []\n",
    "    for w in results:\n",
    "        weight_list.append(w[idx])\n",
    "    stock_true = factors.loc[(factors[\"Date\"]>='2022-08-01') & (factors[\"Date\"]<='2022-08-31') & (factors[\"Index\"]==index)]\n",
    "    stock_true = stock_true[['Date', 'Return']].reset_index(drop=True)\n",
    "    stock_true['Weight'] = weight_list\n",
    "    stock_true['Daily Return'] = stock_true['Return'] * stock_true['Weight']\n",
    "    stock_true = stock_true.set_index(\"Date\")\n",
    "    stock_df_list.append(stock_true)"
   ]
  },
  {
   "cell_type": "code",
   "execution_count": 254,
   "id": "4224103b",
   "metadata": {},
   "outputs": [],
   "source": [
    "all_vals = [stock_df['Daily Return'] for stock_df in stock_df_list]\n",
    "portfolio_val_2_8 = pd.concat(all_vals, axis=1)\n",
    "portfolio_val_2_8.columns = stock_list\n",
    "portfolio_val_2_8['Total'] = portfolio_val_2_8.sum(axis=1)"
   ]
  },
  {
   "cell_type": "code",
   "execution_count": 255,
   "id": "5cf32fc1",
   "metadata": {},
   "outputs": [
    {
     "data": {
      "text/plain": [
       "<AxesSubplot: xlabel='Date'>"
      ]
     },
     "execution_count": 255,
     "metadata": {},
     "output_type": "execute_result"
    },
    {
     "data": {
      "image/png": "[encoded data removed]",
      "text/plain": [
       "<Figure size 720x576 with 1 Axes>"
      ]
     },
     "metadata": {
      "needs_background": "light"
     },
     "output_type": "display_data"
    }
   ],
   "source": [
    "# plot portfolio daily return\n",
    "portfolio_val_2_8['Total'].plot(figsize=(10,8))"
   ]
  },
  {
   "cell_type": "code",
   "execution_count": 256,
   "id": "4f1bdba3",
   "metadata": {},
   "outputs": [
    {
     "data": {
      "text/plain": [
       "0.1449342790296325"
      ]
     },
     "execution_count": 256,
     "metadata": {},
     "output_type": "execute_result"
    }
   ],
   "source": [
    "sharpe_ratio = portfolio_val_2_8['Total'].mean() / portfolio_val_2_8['Total'].std()\n",
    "sharpe_ratio"
   ]
  },
  {
   "cell_type": "code",
   "execution_count": 257,
   "id": "3c38e095",
   "metadata": {},
   "outputs": [],
   "source": [
    "portfolio_val_2_8.to_csv('portfolio_val_2_8.csv', index=False)"
   ]
  },
  {
   "cell_type": "markdown",
   "id": "6803bc01",
   "metadata": {},
   "source": [
    "#### Month 9:"
   ]
  },
  {
   "cell_type": "code",
   "execution_count": 258,
   "id": "766af398",
   "metadata": {},
   "outputs": [
    {
     "data": {
      "text/plain": [
       "array(['BFIN', 'CRTO', 'DGICB', 'FFBW', 'LRFC', 'NFBK', 'PDLB', 'RDCM',\n",
       "       'SCOR', 'TACT'], dtype='<U5')"
      ]
     },
     "execution_count": 258,
     "metadata": {},
     "output_type": "execute_result"
    }
   ],
   "source": [
    "date = \"2022-09-01\"\n",
    "selected_stocks = strategy2(date)\n",
    "factors = factors.loc[(factors[\"Date\"]==date) & (factors[\"Index\"].isin(selected_stocks))]\n",
    "factor_returns = factor_returns.loc[factor_returns[\"Date\"]==date]\n",
    "factor_returns = factor_returns.iloc[:,1:]\n",
    "stock_list = factors[\"Index\"].tolist()\n",
    "factors = factors.iloc[:, 3:]\n",
    "factors = np.array(factors)\n",
    "factor_returns = np.array(factor_returns)\n",
    "stock_return = np.dot(factors, factor_returns.T).reshape(-1)\n",
    "stock_list = np.array(stock_list)\n",
    "stock_list"
   ]
  },
  {
   "cell_type": "code",
   "execution_count": 259,
   "id": "e37a3384",
   "metadata": {},
   "outputs": [],
   "source": [
    "date_piars = date_piars_9\n",
    "results = []"
   ]
  },
  {
   "cell_type": "code",
   "execution_count": 260,
   "id": "7f988a3d",
   "metadata": {},
   "outputs": [
    {
     "data": {
      "text/plain": [
       "21"
      ]
     },
     "execution_count": 260,
     "metadata": {},
     "output_type": "execute_result"
    }
   ],
   "source": [
    "for pair in date_piars:\n",
    "    w=optimize(weights,tickers,pair[1],pair[0],calc_window,rf_rate,short=True,price_type='Adj Close',clean='True')\n",
    "    weight=list(w.x)\n",
    "    results.append(weight)  \n",
    "len(results)"
   ]
  },
  {
   "cell_type": "code",
   "execution_count": null,
   "id": "5bcd0f24",
   "metadata": {},
   "outputs": [],
   "source": [
    "factors = pd.read_csv(\"./Factors/merge_Factors.csv\")"
   ]
  },
  {
   "cell_type": "code",
   "execution_count": 263,
   "id": "1a810c96",
   "metadata": {},
   "outputs": [],
   "source": [
    "stock_df_list=[]\n",
    "for idx, index in enumerate(stock_list):\n",
    "    weight_list = []\n",
    "    for w in results:\n",
    "        weight_list.append(w[idx])\n",
    "    stock_true = factors.loc[(factors[\"Date\"]>='2022-09-01') & (factors[\"Date\"]<='2022-09-30') & (factors[\"Index\"]==index)]\n",
    "    stock_true = stock_true[['Date', 'Return']].reset_index(drop=True)\n",
    "    stock_true['Weight'] = weight_list\n",
    "    stock_true['Daily Return'] = stock_true['Return'] * stock_true['Weight']\n",
    "    stock_true = stock_true.set_index(\"Date\")\n",
    "    stock_df_list.append(stock_true)"
   ]
  },
  {
   "cell_type": "code",
   "execution_count": 264,
   "id": "0e75d3b1",
   "metadata": {},
   "outputs": [],
   "source": [
    "all_vals = [stock_df['Daily Return'] for stock_df in stock_df_list]\n",
    "portfolio_val_2_9 = pd.concat(all_vals, axis=1)\n",
    "portfolio_val_2_9.columns = stock_list\n",
    "portfolio_val_2_9['Total'] = portfolio_val_2_9.sum(axis=1)"
   ]
  },
  {
   "cell_type": "code",
   "execution_count": 265,
   "id": "b7e3c8ba",
   "metadata": {},
   "outputs": [
    {
     "data": {
      "text/plain": [
       "<AxesSubplot: xlabel='Date'>"
      ]
     },
     "execution_count": 265,
     "metadata": {},
     "output_type": "execute_result"
    },
    {
     "data": {
      "image/png": "[encoded data removed]",
      "text/plain": [
       "<Figure size 720x576 with 1 Axes>"
      ]
     },
     "metadata": {
      "needs_background": "light"
     },
     "output_type": "display_data"
    }
   ],
   "source": [
    "# plot portfolio daily return\n",
    "portfolio_val_2_9['Total'].plot(figsize=(10,8))"
   ]
  },
  {
   "cell_type": "code",
   "execution_count": 266,
   "id": "8e7d0315",
   "metadata": {},
   "outputs": [
    {
     "data": {
      "text/plain": [
       "-0.23746715261735074"
      ]
     },
     "execution_count": 266,
     "metadata": {},
     "output_type": "execute_result"
    }
   ],
   "source": [
    "sharpe_ratio = portfolio_val_2_9['Total'].mean() / portfolio_val_2_9['Total'].std()\n",
    "sharpe_ratio"
   ]
  },
  {
   "cell_type": "code",
   "execution_count": 267,
   "id": "a74cabf9",
   "metadata": {},
   "outputs": [],
   "source": [
    "portfolio_val_2_9.to_csv('portfolio_val_2_9.csv', index=False)"
   ]
  },
  {
   "cell_type": "markdown",
   "id": "506094fb",
   "metadata": {},
   "source": [
    "#### Month 10:"
   ]
  },
  {
   "cell_type": "code",
   "execution_count": 268,
   "id": "66b7a48f",
   "metadata": {},
   "outputs": [
    {
     "data": {
      "text/plain": [
       "array(['AFBI', 'BSBK', 'CFB', 'CLBK', 'FBNC', 'FFBW', 'FSEA', 'LSBK',\n",
       "       'MGYR', 'RBKB'], dtype='<U4')"
      ]
     },
     "execution_count": 268,
     "metadata": {},
     "output_type": "execute_result"
    }
   ],
   "source": [
    "date = \"2022-10-03\"\n",
    "selected_stocks = strategy2(date)\n",
    "factors = factors.loc[(factors[\"Date\"]==date) & (factors[\"Index\"].isin(selected_stocks))]\n",
    "factor_returns = factor_returns.loc[factor_returns[\"Date\"]==date]\n",
    "factor_returns = factor_returns.iloc[:,1:]\n",
    "stock_list = factors[\"Index\"].tolist()\n",
    "factors = factors.iloc[:, 3:]\n",
    "factors = np.array(factors)\n",
    "factor_returns = np.array(factor_returns)\n",
    "stock_return = np.dot(factors, factor_returns.T).reshape(-1)\n",
    "stock_list = np.array(stock_list)\n",
    "stock_list"
   ]
  },
  {
   "cell_type": "code",
   "execution_count": 269,
   "id": "4dad0ce7",
   "metadata": {},
   "outputs": [],
   "source": [
    "date_piars = date_piars_10\n",
    "results = []"
   ]
  },
  {
   "cell_type": "code",
   "execution_count": 270,
   "id": "45ffb7be",
   "metadata": {},
   "outputs": [
    {
     "data": {
      "text/plain": [
       "21"
      ]
     },
     "execution_count": 270,
     "metadata": {},
     "output_type": "execute_result"
    }
   ],
   "source": [
    "for pair in date_piars:\n",
    "    w=optimize(weights,tickers,pair[1],pair[0],calc_window,rf_rate,short=True,price_type='Adj Close',clean='True')\n",
    "    weight=list(w.x)\n",
    "    results.append(weight)  \n",
    "len(results)"
   ]
  },
  {
   "cell_type": "code",
   "execution_count": null,
   "id": "8b44a1ab",
   "metadata": {},
   "outputs": [],
   "source": [
    "factors = pd.read_csv(\"./Factors/merge_Factors.csv\")"
   ]
  },
  {
   "cell_type": "code",
   "execution_count": 273,
   "id": "5ff1b25d",
   "metadata": {},
   "outputs": [],
   "source": [
    "stock_df_list=[]\n",
    "for idx, index in enumerate(stock_list):\n",
    "    weight_list = []\n",
    "    for w in results:\n",
    "        weight_list.append(w[idx])\n",
    "    stock_true = factors.loc[(factors[\"Date\"]>='2022-10-01') & (factors[\"Date\"]<='2022-10-31') & (factors[\"Index\"]==index)]\n",
    "    stock_true = stock_true[['Date', 'Return']].reset_index(drop=True)\n",
    "    stock_true['Weight'] = weight_list\n",
    "    stock_true['Daily Return'] = stock_true['Return'] * stock_true['Weight']\n",
    "    stock_true = stock_true.set_index(\"Date\")\n",
    "    stock_df_list.append(stock_true)"
   ]
  },
  {
   "cell_type": "code",
   "execution_count": 274,
   "id": "affdfadd",
   "metadata": {},
   "outputs": [],
   "source": [
    "all_vals = [stock_df['Daily Return'] for stock_df in stock_df_list]\n",
    "portfolio_val_2_10 = pd.concat(all_vals, axis=1)\n",
    "portfolio_val_2_10.columns = stock_list\n",
    "portfolio_val_2_10['Total'] = portfolio_val_2_10.sum(axis=1)"
   ]
  },
  {
   "cell_type": "code",
   "execution_count": 275,
   "id": "4c7b8d46",
   "metadata": {},
   "outputs": [
    {
     "data": {
      "text/plain": [
       "<AxesSubplot: xlabel='Date'>"
      ]
     },
     "execution_count": 275,
     "metadata": {},
     "output_type": "execute_result"
    },
    {
     "data": {
      "image/png": "[encoded data removed]",
      "text/plain": [
       "<Figure size 720x576 with 1 Axes>"
      ]
     },
     "metadata": {
      "needs_background": "light"
     },
     "output_type": "display_data"
    }
   ],
   "source": [
    "# plot portfolio daily return\n",
    "portfolio_val_2_10['Total'].plot(figsize=(10,8))"
   ]
  },
  {
   "cell_type": "code",
   "execution_count": 276,
   "id": "61e30fad",
   "metadata": {},
   "outputs": [
    {
     "data": {
      "text/plain": [
       "0.011172877699074652"
      ]
     },
     "execution_count": 276,
     "metadata": {},
     "output_type": "execute_result"
    }
   ],
   "source": [
    "sharpe_ratio = portfolio_val_2_10['Total'].mean() / portfolio_val_2_10['Total'].std()\n",
    "sharpe_ratio"
   ]
  },
  {
   "cell_type": "code",
   "execution_count": 277,
   "id": "a80789a2",
   "metadata": {},
   "outputs": [],
   "source": [
    "portfolio_val_2_10.to_csv('portfolio_val_2_10.csv', index=False)"
   ]
  },
  {
   "cell_type": "markdown",
   "id": "ffb7ee68",
   "metadata": {},
   "source": [
    "## Strategy 3:"
   ]
  },
  {
   "cell_type": "markdown",
   "id": "7de594ae",
   "metadata": {},
   "source": [
    "#### Month 8:"
   ]
  },
  {
   "cell_type": "code",
   "execution_count": 278,
   "id": "3c7478c3",
   "metadata": {},
   "outputs": [
    {
     "data": {
      "text/plain": [
       "array(['AMAL', 'ANGO', 'AXON', 'DAIO', 'DGICB', 'FOCS', 'HBCP', 'NFBK',\n",
       "       'PDFS', 'STEL'], dtype='<U5')"
      ]
     },
     "execution_count": 278,
     "metadata": {},
     "output_type": "execute_result"
    }
   ],
   "source": [
    "date = \"2022-08-01\"\n",
    "selected_stocks = strategy3(date)\n",
    "factors = factors.loc[(factors[\"Date\"]==date) & (factors[\"Index\"].isin(selected_stocks))]\n",
    "factor_returns = factor_returns.loc[factor_returns[\"Date\"]==date]\n",
    "factor_returns = factor_returns.iloc[:,1:]\n",
    "stock_list = factors[\"Index\"].tolist()\n",
    "factors = factors.iloc[:, 3:]\n",
    "factors = np.array(factors)\n",
    "factor_returns = np.array(factor_returns)\n",
    "stock_return = np.dot(factors, factor_returns.T).reshape(-1)\n",
    "stock_list = np.array(stock_list)\n",
    "stock_list"
   ]
  },
  {
   "cell_type": "code",
   "execution_count": 279,
   "id": "1fb5c15c",
   "metadata": {},
   "outputs": [],
   "source": [
    "date_piars = date_piars_8\n",
    "results = []"
   ]
  },
  {
   "cell_type": "code",
   "execution_count": 280,
   "id": "93799ed3",
   "metadata": {},
   "outputs": [
    {
     "data": {
      "text/plain": [
       "23"
      ]
     },
     "execution_count": 280,
     "metadata": {},
     "output_type": "execute_result"
    }
   ],
   "source": [
    "for pair in date_piars:\n",
    "    w=optimize(weights,tickers,pair[1],pair[0],calc_window,rf_rate,short=True,price_type='Adj Close',clean='True')\n",
    "    weight=list(w.x)\n",
    "    results.append(weight)  \n",
    "len(results)"
   ]
  },
  {
   "cell_type": "code",
   "execution_count": null,
   "id": "842e0866",
   "metadata": {},
   "outputs": [],
   "source": [
    "factors = pd.read_csv(\"./Factors/merge_Factors.csv\")"
   ]
  },
  {
   "cell_type": "code",
   "execution_count": 283,
   "id": "45654a7c",
   "metadata": {},
   "outputs": [],
   "source": [
    "stock_df_list=[]\n",
    "for idx, index in enumerate(stock_list):\n",
    "    weight_list = []\n",
    "    for w in results:\n",
    "        weight_list.append(w[idx])\n",
    "    stock_true = factors.loc[(factors[\"Date\"]>='2022-08-01') & (factors[\"Date\"]<='2022-08-31') & (factors[\"Index\"]==index)]\n",
    "    stock_true = stock_true[['Date', 'Return']].reset_index(drop=True)\n",
    "    stock_true['Weight'] = weight_list\n",
    "    stock_true['Daily Return'] = stock_true['Return'] * stock_true['Weight']\n",
    "    stock_true = stock_true.set_index(\"Date\")\n",
    "    stock_df_list.append(stock_true)"
   ]
  },
  {
   "cell_type": "code",
   "execution_count": 284,
   "id": "cd9a65b0",
   "metadata": {},
   "outputs": [],
   "source": [
    "all_vals = [stock_df['Daily Return'] for stock_df in stock_df_list]\n",
    "portfolio_val_3_8 = pd.concat(all_vals, axis=1)\n",
    "portfolio_val_3_8.columns = stock_list\n",
    "portfolio_val_3_8['Total'] = portfolio_val_3_8.sum(axis=1)"
   ]
  },
  {
   "cell_type": "code",
   "execution_count": 285,
   "id": "a6af8e91",
   "metadata": {},
   "outputs": [
    {
     "data": {
      "text/plain": [
       "<AxesSubplot: xlabel='Date'>"
      ]
     },
     "execution_count": 285,
     "metadata": {},
     "output_type": "execute_result"
    },
    {
     "data": {
      "image/png": "[encoded data removed]",
      "text/plain": [
       "<Figure size 720x576 with 1 Axes>"
      ]
     },
     "metadata": {
      "needs_background": "light"
     },
     "output_type": "display_data"
    }
   ],
   "source": [
    "# plot portfolio daily return\n",
    "portfolio_val_3_8['Total'].plot(figsize=(10,8))"
   ]
  },
  {
   "cell_type": "code",
   "execution_count": 286,
   "id": "cc520d4b",
   "metadata": {},
   "outputs": [
    {
     "data": {
      "text/plain": [
       "0.29790262332427125"
      ]
     },
     "execution_count": 286,
     "metadata": {},
     "output_type": "execute_result"
    }
   ],
   "source": [
    "sharpe_ratio = portfolio_val_3_8['Total'].mean() / portfolio_val_3_8['Total'].std()\n",
    "sharpe_ratio"
   ]
  },
  {
   "cell_type": "code",
   "execution_count": 287,
   "id": "8d34ac08",
   "metadata": {},
   "outputs": [],
   "source": [
    "portfolio_val_3_8.to_csv('portfolio_val_3_8.csv', index=False)"
   ]
  },
  {
   "cell_type": "markdown",
   "id": "aaae1c90",
   "metadata": {},
   "source": [
    "#### Month 9:"
   ]
  },
  {
   "cell_type": "code",
   "execution_count": 288,
   "id": "a4f0a9ad",
   "metadata": {},
   "outputs": [
    {
     "data": {
      "text/plain": [
       "array(['BFIN', 'CRTO', 'DGICB', 'FFBW', 'LRFC', 'PDLB', 'RDCM', 'SCOR',\n",
       "       'TACT', 'VIA'], dtype='<U5')"
      ]
     },
     "execution_count": 288,
     "metadata": {},
     "output_type": "execute_result"
    }
   ],
   "source": [
    "date = \"2022-09-01\"\n",
    "selected_stocks = strategy3(date)\n",
    "factors = factors.loc[(factors[\"Date\"]==date) & (factors[\"Index\"].isin(selected_stocks))]\n",
    "factor_returns = factor_returns.loc[factor_returns[\"Date\"]==date]\n",
    "factor_returns = factor_returns.iloc[:,1:]\n",
    "stock_list = factors[\"Index\"].tolist()\n",
    "factors = factors.iloc[:, 3:]\n",
    "factors = np.array(factors)\n",
    "factor_returns = np.array(factor_returns)\n",
    "stock_return = np.dot(factors, factor_returns.T).reshape(-1)\n",
    "stock_list = np.array(stock_list)\n",
    "stock_list"
   ]
  },
  {
   "cell_type": "code",
   "execution_count": 289,
   "id": "7dc3ef85",
   "metadata": {},
   "outputs": [],
   "source": [
    "date_piars = date_piars_9\n",
    "results = []"
   ]
  },
  {
   "cell_type": "code",
   "execution_count": 290,
   "id": "ebf85035",
   "metadata": {},
   "outputs": [
    {
     "data": {
      "text/plain": [
       "21"
      ]
     },
     "execution_count": 290,
     "metadata": {},
     "output_type": "execute_result"
    }
   ],
   "source": [
    "for pair in date_piars:\n",
    "    w=optimize(weights,tickers,pair[1],pair[0],calc_window,rf_rate,short=True,price_type='Adj Close',clean='True')\n",
    "    weight=list(w.x)\n",
    "    results.append(weight)  \n",
    "len(results)"
   ]
  },
  {
   "cell_type": "code",
   "execution_count": null,
   "id": "d454dac2",
   "metadata": {},
   "outputs": [],
   "source": [
    "factors = pd.read_csv(\"./Factors/merge_Factors.csv\")"
   ]
  },
  {
   "cell_type": "code",
   "execution_count": 292,
   "id": "40b052a9",
   "metadata": {},
   "outputs": [],
   "source": [
    "stock_df_list=[]\n",
    "for idx, index in enumerate(stock_list):\n",
    "    weight_list = []\n",
    "    for w in results:\n",
    "        weight_list.append(w[idx])\n",
    "    stock_true = factors.loc[(factors[\"Date\"]>='2022-09-01') & (factors[\"Date\"]<='2022-09-30') & (factors[\"Index\"]==index)]\n",
    "    stock_true = stock_true[['Date', 'Return']].reset_index(drop=True)\n",
    "    stock_true['Weight'] = weight_list\n",
    "    stock_true['Daily Return'] = stock_true['Return'] * stock_true['Weight']\n",
    "    stock_true = stock_true.set_index(\"Date\")\n",
    "    stock_df_list.append(stock_true)"
   ]
  },
  {
   "cell_type": "code",
   "execution_count": 293,
   "id": "6694c019",
   "metadata": {},
   "outputs": [],
   "source": [
    "all_vals = [stock_df['Daily Return'] for stock_df in stock_df_list]\n",
    "portfolio_val_3_9 = pd.concat(all_vals, axis=1)\n",
    "portfolio_val_3_9.columns = stock_list\n",
    "portfolio_val_3_9['Total'] = portfolio_val_3_9.sum(axis=1)"
   ]
  },
  {
   "cell_type": "code",
   "execution_count": 294,
   "id": "f65de9f9",
   "metadata": {},
   "outputs": [
    {
     "data": {
      "text/plain": [
       "<AxesSubplot: xlabel='Date'>"
      ]
     },
     "execution_count": 294,
     "metadata": {},
     "output_type": "execute_result"
    },
    {
     "data": {
      "image/png": "[encoded data removed]",
      "text/plain": [
       "<Figure size 720x576 with 1 Axes>"
      ]
     },
     "metadata": {
      "needs_background": "light"
     },
     "output_type": "display_data"
    }
   ],
   "source": [
    "# plot portfolio daily return\n",
    "portfolio_val_3_9['Total'].plot(figsize=(10,8))"
   ]
  },
  {
   "cell_type": "code",
   "execution_count": 295,
   "id": "5fb0ee98",
   "metadata": {},
   "outputs": [
    {
     "data": {
      "text/plain": [
       "-0.22726676322757075"
      ]
     },
     "execution_count": 295,
     "metadata": {},
     "output_type": "execute_result"
    }
   ],
   "source": [
    "sharpe_ratio = portfolio_val_3_9['Total'].mean() / portfolio_val_3_9['Total'].std()\n",
    "sharpe_ratio"
   ]
  },
  {
   "cell_type": "code",
   "execution_count": 296,
   "id": "687610c6",
   "metadata": {},
   "outputs": [],
   "source": [
    "portfolio_val_3_9.to_csv('portfolio_val_3_9.csv', index=False)"
   ]
  },
  {
   "cell_type": "markdown",
   "id": "506094fb",
   "metadata": {},
   "source": [
    "#### Month 10:"
   ]
  },
  {
   "cell_type": "code",
   "execution_count": 297,
   "id": "e217097f",
   "metadata": {},
   "outputs": [
    {
     "data": {
      "text/plain": [
       "array(['AFBI', 'AXON', 'BOXL', 'BSBK', 'FFBW', 'FSEA', 'IROQ', 'MGYR',\n",
       "       'RBKB', 'SBT'], dtype='<U4')"
      ]
     },
     "execution_count": 297,
     "metadata": {},
     "output_type": "execute_result"
    }
   ],
   "source": [
    "date = \"2022-10-03\"\n",
    "selected_stocks = strategy3(date)\n",
    "factors = factors.loc[(factors[\"Date\"]==date) & (factors[\"Index\"].isin(selected_stocks))]\n",
    "factor_returns = factor_returns.loc[factor_returns[\"Date\"]==date]\n",
    "factor_returns = factor_returns.iloc[:,1:]\n",
    "stock_list = factors[\"Index\"].tolist()\n",
    "factors = factors.iloc[:, 3:]\n",
    "factors = np.array(factors)\n",
    "factor_returns = np.array(factor_returns)\n",
    "stock_return = np.dot(factors, factor_returns.T).reshape(-1)\n",
    "stock_list = np.array(stock_list)\n",
    "stock_list"
   ]
  },
  {
   "cell_type": "code",
   "execution_count": 298,
   "id": "bb64e8bf",
   "metadata": {},
   "outputs": [],
   "source": [
    "date_piars = date_piars_10\n",
    "results = []"
   ]
  },
  {
   "cell_type": "code",
   "execution_count": 299,
   "id": "a64ef985",
   "metadata": {},
   "outputs": [
    {
     "data": {
      "text/plain": [
       "21"
      ]
     },
     "execution_count": 299,
     "metadata": {},
     "output_type": "execute_result"
    }
   ],
   "source": [
    "for pair in date_piars:\n",
    "    w=optimize(weights,tickers,pair[1],pair[0],calc_window,rf_rate,short=True,price_type='Adj Close',clean='True')\n",
    "    weight=list(w.x)\n",
    "    results.append(weight)  \n",
    "len(results)"
   ]
  },
  {
   "cell_type": "code",
   "execution_count": null,
   "id": "039ca458",
   "metadata": {},
   "outputs": [],
   "source": [
    "factors = pd.read_csv(\"./Factors/merge_Factors.csv\")"
   ]
  },
  {
   "cell_type": "code",
   "execution_count": 301,
   "id": "ba9d8a0c",
   "metadata": {},
   "outputs": [],
   "source": [
    "stock_df_list=[]\n",
    "for idx, index in enumerate(stock_list):\n",
    "    weight_list = []\n",
    "    for w in results:\n",
    "        weight_list.append(w[idx])\n",
    "    stock_true = factors.loc[(factors[\"Date\"]>='2022-10-01') & (factors[\"Date\"]<='2022-10-31') & (factors[\"Index\"]==index)]\n",
    "    stock_true = stock_true[['Date', 'Return']].reset_index(drop=True)\n",
    "    stock_true['Weight'] = weight_list\n",
    "    stock_true['Daily Return'] = stock_true['Return'] * stock_true['Weight']\n",
    "    stock_true = stock_true.set_index(\"Date\")\n",
    "    stock_df_list.append(stock_true)"
   ]
  },
  {
   "cell_type": "code",
   "execution_count": 302,
   "id": "104a5b60",
   "metadata": {},
   "outputs": [],
   "source": [
    "all_vals = [stock_df['Daily Return'] for stock_df in stock_df_list]\n",
    "portfolio_val_3_10 = pd.concat(all_vals, axis=1)\n",
    "portfolio_val_3_10.columns = stock_list\n",
    "portfolio_val_3_10['Total'] = portfolio_val_3_10.sum(axis=1)"
   ]
  },
  {
   "cell_type": "code",
   "execution_count": 303,
   "id": "7c77409a",
   "metadata": {},
   "outputs": [
    {
     "data": {
      "text/plain": [
       "<AxesSubplot: xlabel='Date'>"
      ]
     },
     "execution_count": 303,
     "metadata": {},
     "output_type": "execute_result"
    },
    {
     "data": {
      "image/png": "[encoded data removed]",
      "text/plain": [
       "<Figure size 720x576 with 1 Axes>"
      ]
     },
     "metadata": {
      "needs_background": "light"
     },
     "output_type": "display_data"
    }
   ],
   "source": [
    "# plot portfolio daily return\n",
    "portfolio_val_3_10['Total'].plot(figsize=(10,8))"
   ]
  },
  {
   "cell_type": "code",
   "execution_count": 304,
   "id": "1983ec2b",
   "metadata": {},
   "outputs": [
    {
     "data": {
      "text/plain": [
       "-0.21473298151337822"
      ]
     },
     "execution_count": 304,
     "metadata": {},
     "output_type": "execute_result"
    }
   ],
   "source": [
    "sharpe_ratio = portfolio_val_3_10['Total'].mean() / portfolio_val_3_10['Total'].std()\n",
    "sharpe_ratio"
   ]
  },
  {
   "cell_type": "code",
   "execution_count": 305,
   "id": "80d9cb6b",
   "metadata": {},
   "outputs": [],
   "source": [
    "portfolio_val_3_10.to_csv('portfolio_val_3_10.csv', index=False)"
   ]
  },
  {
   "cell_type": "code",
   "execution_count": null,
   "id": "8be77890",
   "metadata": {},
   "outputs": [],
   "source": []
  }
 ],
 "metadata": {
  "kernelspec": {
   "display_name": "Python 3",
   "language": "python",
   "name": "python3"
  },
  "language_info": {
   "codemirror_mode": {
    "name": "ipython",
    "version": 3
   },
   "file_extension": ".py",
   "mimetype": "text/x-python",
   "name": "python",
   "nbconvert_exporter": "python",
   "pygments_lexer": "ipython3",
   "version": "3.9.0"
  },
  "toc": {
   "base_numbering": 1,
   "nav_menu": {},
   "number_sections": true,
   "sideBar": true,
   "skip_h1_title": false,
   "title_cell": "Table of Contents",
   "title_sidebar": "Contents",
   "toc_cell": false,
   "toc_position": {},
   "toc_section_display": true,
   "toc_window_display": false
  },
  "vscode": {
   "interpreter": {
    "hash": "12a5bc3d6bc1ab2693f7554fb7ad738e15a98b498aec8b7281dd631dd179c083"
   }
  }
 },
 "nbformat": 4,
 "nbformat_minor": 5
}
