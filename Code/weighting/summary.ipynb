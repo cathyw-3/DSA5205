{
 "cells": [
  {
   "cell_type": "code",
   "execution_count": 1,
   "metadata": {},
   "outputs": [],
   "source": [
    "import pandas_datareader as pdr\n",
    "import numpy as np\n",
    "import pandas as pd\n",
    "import scipy.optimize \n",
    "from datetime import datetime,time,timedelta\n",
    "from dateutil import relativedelta\n",
    "from strategy2 import strategy2\n"
   ]
  },
  {
   "cell_type": "code",
   "execution_count": 69,
   "metadata": {},
   "outputs": [],
   "source": [
    "def optimize(stock_return, weights,tickers,start,end,calc_window,rf_rate,short=False,\n",
    "             price_type='Close',clean='True'):\n",
    "          \n",
    "        '''\n",
    "        weights; *type = list, initial guess weights\n",
    "        \n",
    "        start; input as str, data start date format 'YYYY-MM-DD' \n",
    "        end; input as str, data end date format 'YYYY-MM-DD'\n",
    "        \n",
    "        calc_window; input as str, calculation window for returns, \n",
    "        \n",
    "        rf_rate; desired risk-free rate to benchmark against\n",
    "        \n",
    "        price_type; *input as str, default = 'Close', options = 'Adj Close', \n",
    "        'Close', 'High','Low','Open', 'Volume'\n",
    "        \n",
    "        short = bool, default = 'False', if true weight bounds -1 to 1\n",
    "        \n",
    "        clean; bool, default = 'False', if true, the function will drop NA rows\n",
    "        '''\n",
    "        start = datetime.strptime(start,'%Y-%m-%d')\n",
    "        end = datetime.strptime(end,'%Y-%m-%d')\n",
    "        \n",
    "        prices = pdr.get_data_yahoo(tickers, start, end)[price_type]\n",
    "        \n",
    "        op = prices.pct_change(periods=int(calc_window))\n",
    "        op.iloc[-1,:]=stock_return\n",
    "        if clean == False:\n",
    "            op\n",
    "            \n",
    "        else:\n",
    "            op = op.dropna()\n",
    "        \n",
    "        vcv_matrix = np.cov(op.T)\n",
    "        \n",
    "        avg_return = op.mean()\n",
    "        \n",
    "        def sharpe(weights,vcv_matrix,avg_return):        \n",
    "            \n",
    "            var = np.dot(np.dot(weights,vcv_matrix),weights)\n",
    "            \n",
    "            ret =  np.dot(weights,avg_return)\n",
    "            \n",
    "            s_ratio = -(ret-rf_rate)/np.sqrt(var)\n",
    "            \n",
    "            return s_ratio\n",
    "           \n",
    "        \n",
    "        sharpe_cons = ({'type':'eq','fun': lambda x: sum(x)-1})\n",
    "        \n",
    "        \n",
    "        if short == False:\n",
    "            sharpe_bnds = ((0,1),)*len(tickers)\n",
    "        \n",
    "        if short == True:\n",
    "            sharpe_bnds = ((-1,1),)*len(tickers)\n",
    "        \n",
    "        optimal = scipy.optimize.minimize(sharpe,weights,bounds = sharpe_bnds,\n",
    "                                 args = (vcv_matrix,avg_return),\n",
    "                                 constraints = sharpe_cons)\n",
    "        \n",
    "        return optimal"
   ]
  },
  {
   "cell_type": "code",
   "execution_count": 2,
   "metadata": {},
   "outputs": [],
   "source": [
    "def stock_list_return(date):\n",
    "    factors = pd.read_csv(\"../../Factors/merge_Factors.csv\")\n",
    "    factor_returns_pred = pd.read_csv(\"../../Predict/factors_returns_pred.csv\")\n",
    "    factor_returns_before = pd.read_csv(\"../../Analysis/factors_returns_multi.csv\")\n",
    "    factor_returns_before = factor_returns_before.loc[factor_returns_before[\"Date\"]<\"2022-08-01\"]\n",
    "    factor_returns = factor_returns_before.append(factor_returns_pred)\n",
    "    \n",
    "    selected_stocks = strategy2(date)\n",
    "    factors = factors.loc[(factors[\"Date\"]==date) & (factors[\"Index\"].isin(selected_stocks))]\n",
    "    factor_returns = factor_returns.loc[factor_returns[\"Date\"]==date]\n",
    "    factor_returns = factor_returns.iloc[:,1:]\n",
    "    stock_list = factors[\"Index\"].tolist()\n",
    "    factors = factors.iloc[:, 3:]\n",
    "    factors = np.array(factors)\n",
    "    factor_returns = np.array(factor_returns)\n",
    "\n",
    "    stock_return = np.dot(factors, factor_returns.T).reshape(-1)\n",
    "    stock_list = np.array(stock_list)\n",
    "    return stock_return, stock_list"
   ]
  },
  {
   "cell_type": "code",
   "execution_count": 71,
   "metadata": {},
   "outputs": [],
   "source": [
    "def get_weight(date):  \n",
    "\n",
    "    # factors = pd.read_csv(\"../../Factors/merge_Factors.csv\")\n",
    "    # factor_returns = pd.read_csv(\"../../Predict/factors_returns_pred.csv\")\n",
    "\n",
    "    # selected_stocks = strategy2(date)\n",
    "    # factors = factors.loc[(factors[\"Date\"]==date) & (factors[\"Index\"].isin(selected_stocks))]\n",
    "    # factor_returns = factor_returns.loc[factor_returns[\"Date\"]==date]\n",
    "    # factor_returns = factor_returns.iloc[:,1:]\n",
    "    # stock_list = factors[\"Index\"].tolist()\n",
    "    # factors = factors.iloc[:, 3:]\n",
    "    # factors = np.array(factors)\n",
    "    # factor_returns = np.array(factor_returns)\n",
    "\n",
    "    # stock_return = np.dot(factors, factor_returns.T).reshape(-1)\n",
    "    # stock_list = np.array(stock_list)\n",
    "    stock_return, stock_list = stock_list_return(date)\n",
    "\n",
    "    weights=[0.1]*10\n",
    "    tickers=stock_list\n",
    "    #end为要预测仓位的那天\n",
    "    end=date\n",
    "    #start为end向前一个月\n",
    "    start=(pd.to_datetime(date)-relativedelta.relativedelta(months=1)).strftime(\"%Y-%m-%d\")\n",
    "    #不变，始终为1\n",
    "    calc_window='1'\n",
    "\n",
    "\n",
    "    # 确定无风险收益率\n",
    "    rf=pd.read_csv('daily-treasury-rates.csv',index_col=0)\n",
    "\n",
    "    #rf=rf.iloc[:,5]\n",
    "\n",
    "    rf.reset_index(inplace=True)\n",
    "\n",
    "    rf['Date']=[datetime.strptime(i,\"%m/%d/%Y\") for i in list(rf['Date'].values)]\n",
    "\n",
    "    start_time=datetime.strptime(start,\"%Y-%m-%d\")\n",
    "    end_time=datetime.strptime(end,\"%Y-%m-%d\")\n",
    "\n",
    "    rf=rf.set_index(\"Date\")\n",
    "\n",
    "\n",
    "    for i in range(len(rf.index)):\n",
    "        if list(rf.index)[i]-end_time<=timedelta(0):\n",
    "            rfend_time=list(rf.index)[i]\n",
    "            break\n",
    "    for j in range(len(rf.index)):\n",
    "        if list(rf.index)[j]-start_time<=timedelta(0):\n",
    "            rfstart_time=list(rf.index)[j]\n",
    "            break\n",
    "\n",
    "    rf_rate=rf.loc[rfend_time:rfstart_time,'1 Yr'].mean()*0.01/360\n",
    "\n",
    "    w=optimize(stock_return, weights,tickers,start,end,calc_window,rf_rate,short=True,price_type='Adj Close',clean='True')\n",
    "    weight=list(w.x)\n",
    "    return weight"
   ]
  },
  {
   "cell_type": "code",
   "execution_count": 77,
   "metadata": {},
   "outputs": [],
   "source": [
    "def get_daily_return(date, stock_list):\n",
    "    factors = pd.read_csv(\"../../Factors/merge_Factors.csv\")\n",
    "\n",
    "    # factor_returns_pred = pd.read_csv(\"../../Predict/factors_returns_pred.csv\")\n",
    "    # factor_returns_before = pd.read_csv(\"../../Analysis/factors_returns_multi.csv\")\n",
    "    # factor_returns_before = factor_returns_before.loc[factor_returns_before[\"Date\"]<\"2022-08-01\"]\n",
    "    # factor_returns = factor_returns_before.append(factor_returns_pred)\n",
    "\n",
    "    # selected_stocks = stock_list\n",
    "    # factors = factors.loc[(factors[\"Date\"]==date) & (factors[\"Index\"].isin(selected_stocks))]\n",
    "    # factor_returns = factor_returns.loc[factor_returns[\"Date\"]==date]\n",
    "    # factor_returns = factor_returns.iloc[:,1:]\n",
    "    # stock_list = factors[\"Index\"].tolist()\n",
    "    # factors = factors.iloc[:, 3:]\n",
    "    # factors = np.array(factors)\n",
    "    # factor_returns = np.array(factor_returns)\n",
    "\n",
    "    # stock_return = np.dot(factors, factor_returns.T).reshape(-1)\n",
    "\n",
    "    # stock_return, stock_list = stock_list_return(date)\n",
    "    factors = factors.iloc[:, :3]\n",
    "    factors = factors.loc[factors[\"Date\"]==date]\n",
    "    factors = factors[factors[\"Index\"].isin(stock_list)]\n",
    "    true_return = np.array(factors[\"Return\"])\n",
    "\n",
    "    weight = get_weight(date)\n",
    "    weight = np.array(weight)\n",
    "    daily_return = sum(true_return * weight)\n",
    "    return daily_return"
   ]
  },
  {
   "cell_type": "code",
   "execution_count": 73,
   "metadata": {},
   "outputs": [],
   "source": [
    "def get_monthly_return(date):\n",
    "    factors = pd.read_csv(\"../../Factors/merge_Factors.csv\")\n",
    "    stock_return, stock_list = stock_list_return(date)\n",
    "\n",
    "    date = pd.to_datetime(date)\n",
    "    next_month_date = pd.to_datetime(date)+relativedelta.relativedelta(months=1)\n",
    "    dates = factors[\"Date\"].unique()\n",
    "    dates = pd.to_datetime(dates)\n",
    "    dates = dates[dates>=date]\n",
    "    dates = dates[dates<next_month_date]\n",
    "    dates = dates.strftime(\"%Y-%m-%d\").tolist()\n",
    "\n",
    "    monthly_return = []\n",
    "    for daily in dates:\n",
    "        daily_return = get_daily_return(daily, stock_list)\n",
    "        monthly_return.append(daily_return)\n",
    "\n",
    "    \n",
    "    return monthly_return"
   ]
  },
  {
   "cell_type": "code",
   "execution_count": 116,
   "metadata": {},
   "outputs": [],
   "source": [
    "month_10=get_monthly_return(\"2022-10-03\")"
   ]
  },
  {
   "cell_type": "code",
   "execution_count": 85,
   "metadata": {},
   "outputs": [],
   "source": [
    "month_8=get_monthly_return(\"2022-08-01\")"
   ]
  },
  {
   "cell_type": "code",
   "execution_count": 88,
   "metadata": {},
   "outputs": [],
   "source": [
    "month_9=get_monthly_return(\"2022-09-01\")"
   ]
  },
  {
   "cell_type": "code",
   "execution_count": 94,
   "metadata": {},
   "outputs": [],
   "source": [
    "def annal_vala(r):\n",
    "    return (r.var()**0.5)*(252**0.5)"
   ]
  },
  {
   "cell_type": "code",
   "execution_count": 95,
   "metadata": {},
   "outputs": [],
   "source": [
    "def month_to_year(t,end_net):\n",
    "    k=12/t\n",
    "    r=end_net-1\n",
    "    year_r=(1+r)**k-1\n",
    "    return year_r"
   ]
  },
  {
   "cell_type": "code",
   "execution_count": 102,
   "metadata": {},
   "outputs": [],
   "source": [
    "def get_end_net(r):\n",
    "    return (1+r).prod()"
   ]
  },
  {
   "cell_type": "code",
   "execution_count": 119,
   "metadata": {},
   "outputs": [],
   "source": [
    "def get_sharpe_ratio(r):\n",
    "    r=np.array(r)\n",
    "    vala = annal_vala(r)\n",
    "    end_net = get_end_net(r)\n",
    "    annual_return = month_to_year(1,end_net)\n",
    "    sharpe_ratio = annual_return/vala\n",
    "    return sharpe_ratio\n"
   ]
  },
  {
   "cell_type": "code",
   "execution_count": 126,
   "metadata": {},
   "outputs": [
    {
     "data": {
      "text/plain": [
       "0.5636570568454364"
      ]
     },
     "execution_count": 126,
     "metadata": {},
     "output_type": "execute_result"
    }
   ],
   "source": [
    "month_9 = np.array(month_9)\n",
    "month_to_year(1,get_end_net(month_9))"
   ]
  },
  {
   "cell_type": "code",
   "execution_count": 132,
   "metadata": {},
   "outputs": [
    {
     "data": {
      "text/plain": [
       "-0.6454471704102179"
      ]
     },
     "execution_count": 132,
     "metadata": {},
     "output_type": "execute_result"
    }
   ],
   "source": [
    "month_8_9 = np.concatenate((month_8,month_9))\n",
    "# month_to_year(2,get_end_net(month_8_9))\n",
    "get_sharpe_ratio(month_8_9)\n",
    "# month_8_9\n"
   ]
  },
  {
   "cell_type": "code",
   "execution_count": 141,
   "metadata": {},
   "outputs": [
    {
     "data": {
      "text/plain": [
       "5.988066064991004"
      ]
     },
     "execution_count": 141,
     "metadata": {},
     "output_type": "execute_result"
    }
   ],
   "source": [
    "month_to_year(1,get_end_net(month_7))"
   ]
  },
  {
   "cell_type": "code",
   "execution_count": 25,
   "metadata": {},
   "outputs": [],
   "source": [
    "stock_list=stock_list_return(\"2022-10-03\")[1]\n",
    "data = pd.read_csv(\"../../Data/Raw_Stock_Data.csv\")\n",
    "# data = data.loc[data[\"Date\"]>=\"2022-01-01\"]\n",
    "data = data.loc[data[\"Index\"].isin(stock_list)]\n",
    "data[\"Date\"] = pd.to_datetime(data[\"Date\"])\n",
    "# pd.to_datetime(list(date)[0])\n",
    "data=data[data[\"Date\"]>=\"2022-01-01\"]\n",
    "data.to_csv(\"../../Data/Stock_Data.csv\",index=False)\n"
   ]
  },
  {
   "cell_type": "code",
   "execution_count": 144,
   "metadata": {},
   "outputs": [
    {
     "data": {
      "text/plain": [
       "(array([0.0045443 , 0.00479362, 0.00728543, 0.00620203, 0.0119694 ,\n",
       "        0.00292618, 0.00379059, 0.00727838, 0.01113666, 0.01341925]),\n",
       " array(['AFBI', 'BSBK', 'CFB', 'CLBK', 'FBNC', 'FFBW', 'FSEA', 'LSBK',\n",
       "        'MGYR', 'RBKB'], dtype='<U4'))"
      ]
     },
     "execution_count": 144,
     "metadata": {},
     "output_type": "execute_result"
    }
   ],
   "source": [
    "stock_list_return(\"2022-10-03\")"
   ]
  },
  {
   "cell_type": "code",
   "execution_count": 114,
   "metadata": {},
   "outputs": [
    {
     "data": {
      "text/plain": [
       "1.0177496943199449"
      ]
     },
     "execution_count": 114,
     "metadata": {},
     "output_type": "execute_result"
    }
   ],
   "source": [
    "month_8=np.array(month_8)\n",
    "month_9=np.array(month_9)\n",
    "month_10=np.array(month_10)\n",
    "end_net_8=get_end_net(month_8)\n",
    "end_net_9=get_end_net(month_9)\n",
    "end_net_10=get_end_net(month_10[1:])\n",
    "end_net_10"
   ]
  },
  {
   "cell_type": "code",
   "execution_count": 96,
   "metadata": {},
   "outputs": [],
   "source": [
    "annal_vala_8=annal_vala(month_8)\n",
    "annal_vala_9=annal_vala(np.array(month_9))\n",
    "annal_vala_10=annal_vala(np.array(month_10))\n"
   ]
  },
  {
   "cell_type": "code",
   "execution_count": 113,
   "metadata": {},
   "outputs": [],
   "source": [
    "month_10 = month_10[1:]"
   ]
  },
  {
   "cell_type": "code",
   "execution_count": 93,
   "metadata": {},
   "outputs": [],
   "source": [
    "month_7=[-0.006635350012707567, -0.026298679660253853, 0.02150929351685962, 0.0550507044268199, -0.0005857694477037195,\n",
    " 0.007334904652437831,\n",
    " -0.0027157153770715867,\n",
    " -0.0007002721679409494,\n",
    " -0.0108382936960135,\n",
    " -0.020304300368357238,\n",
    " 0.00413035201490675,\n",
    " 0.036357926965512995,\n",
    " -0.00623515090206255,\n",
    " -0.013789459453768983,\n",
    " -0.0210883583279326,\n",
    " 0.07091067275902574,\n",
    " 0.0010508139722739144,\n",
    " 0.023120341033698328,\n",
    " 0.027581781493120704,\n",
    " 0.031029754967263873]\n"
   ]
  },
  {
   "cell_type": "code",
   "execution_count": 91,
   "metadata": {},
   "outputs": [
    {
     "data": {
      "text/plain": [
       "20"
      ]
     },
     "execution_count": 91,
     "metadata": {},
     "output_type": "execute_result"
    }
   ],
   "source": [
    "len(month_7)"
   ]
  },
  {
   "cell_type": "code",
   "execution_count": 86,
   "metadata": {},
   "outputs": [
    {
     "data": {
      "text/plain": [
       "21"
      ]
     },
     "execution_count": 86,
     "metadata": {},
     "output_type": "execute_result"
    }
   ],
   "source": [
    "len(month_10)"
   ]
  },
  {
   "cell_type": "code",
   "execution_count": 117,
   "metadata": {},
   "outputs": [
    {
     "data": {
      "text/plain": [
       "[-0.027237308941689912,\n",
       " 0.009878868697117462,\n",
       " 0.010058773507794131,\n",
       " 0.006454300284833021,\n",
       " 0.003523193136971999,\n",
       " 0.006430807396999335,\n",
       " 0.018873175678441975,\n",
       " -0.004861983719556998,\n",
       " -0.01666341727128669,\n",
       " -0.011209998397873762,\n",
       " 0.0011849934316640995,\n",
       " -0.001971901604343789,\n",
       " 0.003256704396755181,\n",
       " 0.006442268222968917,\n",
       " -0.02696881755366026,\n",
       " 0.007564664686684184,\n",
       " -0.0014825007416684273,\n",
       " 0.005575715700259659,\n",
       " 0.006788722908656116,\n",
       " 0.007397132151476922,\n",
       " 0.008045625240174721]"
      ]
     },
     "execution_count": 117,
     "metadata": {},
     "output_type": "execute_result"
    }
   ],
   "source": [
    "month_10"
   ]
  },
  {
   "cell_type": "code",
   "execution_count": 104,
   "metadata": {},
   "outputs": [
    {
     "data": {
      "text/plain": [
       "[-0.008109281099863856,\n",
       " -0.004852236542205097,\n",
       " 0.0037223885168672383,\n",
       " 0.015895062684167807,\n",
       " -0.006972058683159286,\n",
       " -0.004331615871663351,\n",
       " 0.0063403347420709945,\n",
       " 0.012219770112935437,\n",
       " 0.018413226439581747,\n",
       " 0.020939780522183957,\n",
       " -0.014523049477755335,\n",
       " -0.006091626340628034,\n",
       " 0.010268694204830913,\n",
       " 0.010576630760128986,\n",
       " -0.023496995018869295,\n",
       " -0.005114979521992628,\n",
       " -0.016778908475407386,\n",
       " -0.0068444247607942895,\n",
       " 0.025768405219062287,\n",
       " -0.018529203609827974,\n",
       " 0.008703702193835452,\n",
       " -0.014926616483171527,\n",
       " 0.03618064645729547]"
      ]
     },
     "execution_count": 104,
     "metadata": {},
     "output_type": "execute_result"
    }
   ],
   "source": [
    "month_8"
   ]
  },
  {
   "cell_type": "code",
   "execution_count": null,
   "metadata": {},
   "outputs": [],
   "source": []
  }
 ],
 "metadata": {
  "kernelspec": {
   "display_name": "Python 3.7.1 64-bit",
   "language": "python",
   "name": "python3"
  },
  "language_info": {
   "codemirror_mode": {
    "name": "ipython",
    "version": 3
   },
   "file_extension": ".py",
   "mimetype": "text/x-python",
   "name": "python",
   "nbconvert_exporter": "python",
   "pygments_lexer": "ipython3",
   "version": "3.7.1"
  },
  "orig_nbformat": 4,
  "vscode": {
   "interpreter": {
    "hash": "5a98bc0709bb551cb0b40a68bfcb118c11ed773779c4b4ca5eb3852e4a8f5446"
   }
  }
 },
 "nbformat": 4,
 "nbformat_minor": 2
}
