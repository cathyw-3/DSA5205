{
 "cells": [
  {
   "cell_type": "code",
   "execution_count": 27,
   "metadata": {},
   "outputs": [],
   "source": [
    "import pandas_datareader as pdr\n",
    "import numpy as np\n",
    "import pandas as pd\n",
    "import scipy.optimize \n",
    "from datetime import datetime,time,timedelta\n",
    "from dateutil import relativedelta\n",
    "from strategy2 import strategy2\n"
   ]
  },
  {
   "cell_type": "code",
   "execution_count": 28,
   "metadata": {},
   "outputs": [],
   "source": [
    "def optimize(stock_return, weights,tickers,start,end,calc_window,rf_rate,short=False,\n",
    "             price_type='Close',clean='True'):\n",
    "          \n",
    "        '''\n",
    "        weights; *type = list, initial guess weights\n",
    "        \n",
    "        start; input as str, data start date format 'YYYY-MM-DD' \n",
    "        end; input as str, data end date format 'YYYY-MM-DD'\n",
    "        \n",
    "        calc_window; input as str, calculation window for returns, \n",
    "        \n",
    "        rf_rate; desired risk-free rate to benchmark against\n",
    "        \n",
    "        price_type; *input as str, default = 'Close', options = 'Adj Close', \n",
    "        'Close', 'High','Low','Open', 'Volume'\n",
    "        \n",
    "        short = bool, default = 'False', if true weight bounds -1 to 1\n",
    "        \n",
    "        clean; bool, default = 'False', if true, the function will drop NA rows\n",
    "        '''\n",
    "        start = datetime.strptime(start,'%Y-%m-%d')\n",
    "        end = datetime.strptime(end,'%Y-%m-%d')\n",
    "        \n",
    "        prices = pdr.get_data_yahoo(tickers, start, end)[price_type]\n",
    "        \n",
    "        op = prices.pct_change(periods=int(calc_window))\n",
    "        op.iloc[-1,:]=stock_return\n",
    "        if clean == False:\n",
    "            op\n",
    "            \n",
    "        else:\n",
    "            op = op.dropna()\n",
    "        \n",
    "        vcv_matrix = np.cov(op.T)\n",
    "        \n",
    "        avg_return = op.mean()\n",
    "        \n",
    "        def sharpe(weights,vcv_matrix,avg_return):        \n",
    "            \n",
    "            var = np.dot(np.dot(weights,vcv_matrix),weights)\n",
    "            \n",
    "            ret =  np.dot(weights,avg_return)\n",
    "            \n",
    "            s_ratio = -(ret-rf_rate)/np.sqrt(var)\n",
    "            \n",
    "            return s_ratio\n",
    "           \n",
    "        \n",
    "        sharpe_cons = ({'type':'eq','fun': lambda x: sum(x)-1})\n",
    "        \n",
    "        \n",
    "        if short == False:\n",
    "            sharpe_bnds = ((0,1),)*len(tickers)\n",
    "        \n",
    "        if short == True:\n",
    "            sharpe_bnds = ((-1,1),)*len(tickers)\n",
    "        \n",
    "        optimal = scipy.optimize.minimize(sharpe,weights,bounds = sharpe_bnds,\n",
    "                                 args = (vcv_matrix,avg_return),\n",
    "                                 constraints = sharpe_cons)\n",
    "        \n",
    "        return optimal"
   ]
  },
  {
   "cell_type": "code",
   "execution_count": 29,
   "metadata": {},
   "outputs": [],
   "source": [
    "def stock_list_return(date):\n",
    "    factors = pd.read_csv(\"../../Factors/merge_Factors.csv\")\n",
    "    factor_returns_pred = pd.read_csv(\"../../Predict/factors_returns_pred.csv\")\n",
    "    factor_returns_before = pd.read_csv(\"../../Analysis/factors_returns_multi.csv\")\n",
    "    factor_returns_before = factor_returns_before.loc[factor_returns_before[\"Date\"]<\"2022-08-01\"]\n",
    "    factor_returns = factor_returns_before.append(factor_returns_pred)\n",
    "    \n",
    "    selected_stocks = strategy2(date)\n",
    "    factors = factors.loc[(factors[\"Date\"]==date) & (factors[\"Index\"].isin(selected_stocks))]\n",
    "    factor_returns = factor_returns.loc[factor_returns[\"Date\"]==date]\n",
    "    factor_returns = factor_returns.iloc[:,1:]\n",
    "    stock_list = factors[\"Index\"].tolist()\n",
    "    factors = factors.iloc[:, 3:]\n",
    "    factors = np.array(factors)\n",
    "    factor_returns = np.array(factor_returns)\n",
    "\n",
    "    stock_return = np.dot(factors, factor_returns.T).reshape(-1)\n",
    "    stock_list = np.array(stock_list)\n",
    "    return stock_return, stock_list"
   ]
  },
  {
   "cell_type": "code",
   "execution_count": 30,
   "metadata": {},
   "outputs": [],
   "source": [
    "def get_weight(date):  \n",
    "\n",
    "    # factors = pd.read_csv(\"../../Factors/merge_Factors.csv\")\n",
    "    # factor_returns = pd.read_csv(\"../../Predict/factors_returns_pred.csv\")\n",
    "\n",
    "    # selected_stocks = strategy2(date)\n",
    "    # factors = factors.loc[(factors[\"Date\"]==date) & (factors[\"Index\"].isin(selected_stocks))]\n",
    "    # factor_returns = factor_returns.loc[factor_returns[\"Date\"]==date]\n",
    "    # factor_returns = factor_returns.iloc[:,1:]\n",
    "    # stock_list = factors[\"Index\"].tolist()\n",
    "    # factors = factors.iloc[:, 3:]\n",
    "    # factors = np.array(factors)\n",
    "    # factor_returns = np.array(factor_returns)\n",
    "\n",
    "    # stock_return = np.dot(factors, factor_returns.T).reshape(-1)\n",
    "    # stock_list = np.array(stock_list)\n",
    "    stock_return, stock_list = stock_list_return(date)\n",
    "\n",
    "    weights=[0.1]*10\n",
    "    tickers=stock_list\n",
    "    #end为要预测仓位的那天\n",
    "    end=date\n",
    "    #start为end向前一个月\n",
    "    start=(pd.to_datetime(date)-relativedelta.relativedelta(months=1)).strftime(\"%Y-%m-%d\")\n",
    "    #不变，始终为1\n",
    "    calc_window='1'\n",
    "\n",
    "\n",
    "    # 确定无风险收益率\n",
    "    rf=pd.read_csv('daily-treasury-rates.csv',index_col=0)\n",
    "\n",
    "    #rf=rf.iloc[:,5]\n",
    "\n",
    "    rf.reset_index(inplace=True)\n",
    "\n",
    "    rf['Date']=[datetime.strptime(i,\"%m/%d/%Y\") for i in list(rf['Date'].values)]\n",
    "\n",
    "    start_time=datetime.strptime(start,\"%Y-%m-%d\")\n",
    "    end_time=datetime.strptime(end,\"%Y-%m-%d\")\n",
    "\n",
    "    rf=rf.set_index(\"Date\")\n",
    "\n",
    "\n",
    "    for i in range(len(rf.index)):\n",
    "        if list(rf.index)[i]-end_time<=timedelta(0):\n",
    "            rfend_time=list(rf.index)[i]\n",
    "            break\n",
    "    for j in range(len(rf.index)):\n",
    "        if list(rf.index)[j]-start_time<=timedelta(0):\n",
    "            rfstart_time=list(rf.index)[j]\n",
    "            break\n",
    "\n",
    "    rf_rate=rf.loc[rfend_time:rfstart_time,'1 Yr'].mean()*0.01/360\n",
    "\n",
    "    w=optimize(stock_return, weights,tickers,start,end,calc_window,rf_rate,short=True,price_type='Adj Close',clean='True')\n",
    "    weight=list(w.x)\n",
    "    return weight"
   ]
  },
  {
   "cell_type": "code",
   "execution_count": 31,
   "metadata": {},
   "outputs": [
    {
     "data": {
      "text/plain": [
       "[0.16907433158779533,\n",
       " 0.09081989428258834,\n",
       " 0.5819192176566022,\n",
       " -0.5385230821133727,\n",
       " 0.05425643538085306,\n",
       " 0.9999999999999999,\n",
       " -0.37366654904476787,\n",
       " 0.04269054991466533,\n",
       " 0.09674492767754023,\n",
       " -0.12331572534190363]"
      ]
     },
     "execution_count": 31,
     "metadata": {},
     "output_type": "execute_result"
    }
   ],
   "source": [
    "get_weight(\"2022-07-25\")"
   ]
  },
  {
   "cell_type": "code",
   "execution_count": 46,
   "metadata": {},
   "outputs": [],
   "source": [
    "def get_daily_return(date):\n",
    "    factors = pd.read_csv(\"../../Factors/merge_Factors.csv\")\n",
    "\n",
    "    stock_return, stock_list = stock_list_return(date)\n",
    "    factors = factors.iloc[:, :3]\n",
    "    factors = factors.loc[factors[\"Date\"]==date]\n",
    "    factors = factors[factors[\"Index\"].isin(stock_list)]\n",
    "    true_return = np.array(factors[\"Return\"])\n",
    "\n",
    "    weight = get_weight(date)\n",
    "    weight = np.array(weight)\n",
    "    daily_return = sum(stock_return * weight)\n",
    "    return daily_return"
   ]
  },
  {
   "cell_type": "code",
   "execution_count": 47,
   "metadata": {},
   "outputs": [
    {
     "data": {
      "text/plain": [
       "0.011045579531432105"
      ]
     },
     "execution_count": 47,
     "metadata": {},
     "output_type": "execute_result"
    }
   ],
   "source": [
    "get_daily_return(\"2022-07-25\")"
   ]
  },
  {
   "cell_type": "code",
   "execution_count": 66,
   "metadata": {},
   "outputs": [],
   "source": [
    "def get_monthly_return(date):\n",
    "    factors = pd.read_csv(\"../../Factors/merge_Factors.csv\")\n",
    "    date = pd.to_datetime(date)\n",
    "    next_month_date = pd.to_datetime(date)+relativedelta.relativedelta(months=1)\n",
    "    dates = factors[\"Date\"].unique()\n",
    "    dates = pd.to_datetime(dates)\n",
    "    dates = dates[dates>=date]\n",
    "    dates = dates[dates<next_month_date]\n",
    "    dates = dates.strftime(\"%Y-%m-%d\").tolist()\n",
    "\n",
    "    monthly_return = []\n",
    "    for daily in dates:\n",
    "        daily_return = get_daily_return(daily)\n",
    "        monthly_return.append(daily_return)\n",
    "    return monthly_return"
   ]
  },
  {
   "cell_type": "code",
   "execution_count": 67,
   "metadata": {},
   "outputs": [],
   "source": [
    "get_monthly_return(\"2022-07-01\")"
   ]
  },
  {
   "cell_type": "code",
   "execution_count": 55,
   "metadata": {},
   "outputs": [
    {
     "data": {
      "text/plain": [
       "Timestamp('2022-11-25 00:00:00')"
      ]
     },
     "execution_count": 55,
     "metadata": {},
     "output_type": "execute_result"
    }
   ],
   "source": [
    "def annal_vala(r):\n",
    "    return (r.var()**0.5)*(252**0.5)"
   ]
  },
  {
   "cell_type": "code",
   "execution_count": null,
   "metadata": {},
   "outputs": [],
   "source": [
    "def month_to_year(t,end_net):\n",
    "    k=12/t\n",
    "    r=end_net-1\n",
    "    year_r=(1+r)**k-1\n",
    "    return year_r"
   ]
  }
 ],
 "metadata": {
  "kernelspec": {
   "display_name": "Python 3.7.1 64-bit",
   "language": "python",
   "name": "python3"
  },
  "language_info": {
   "codemirror_mode": {
    "name": "ipython",
    "version": 3
   },
   "file_extension": ".py",
   "mimetype": "text/x-python",
   "name": "python",
   "nbconvert_exporter": "python",
   "pygments_lexer": "ipython3",
   "version": "3.7.1"
  },
  "orig_nbformat": 4,
  "vscode": {
   "interpreter": {
    "hash": "5a98bc0709bb551cb0b40a68bfcb118c11ed773779c4b4ca5eb3852e4a8f5446"
   }
  }
 },
 "nbformat": 4,
 "nbformat_minor": 2
}
