{
 "cells": [
  {
   "cell_type": "code",
   "execution_count": 1,
   "id": "36d1c2d5",
   "metadata": {},
   "outputs": [],
   "source": [
    "import pandas_datareader as pdr\n",
    "import numpy as np\n",
    "import pandas as pd\n",
    "import scipy.optimize \n",
    "from strategy1 import strategy1"
   ]
  },
  {
   "cell_type": "code",
   "execution_count": 45,
   "id": "d030f8a6",
   "metadata": {},
   "outputs": [],
   "source": [
    "factors = pd.read_csv(\"../../Factors/merge_Factors.csv\")\n",
    "factor_returns = pd.read_csv(\"../../Analysis/factors_returns_multi.csv\")\n"
   ]
  },
  {
   "cell_type": "code",
   "execution_count": 46,
   "id": "b5a7655a",
   "metadata": {},
   "outputs": [],
   "source": [
    "date = \"2022-10-03\"\n",
    "selected_stocks = strategy1(\"2022-10-03\")\n",
    "factors = factors.loc[(factors[\"Date\"]==date) & (factors[\"Index\"].isin(selected_stocks))]\n",
    "factor_returns = factor_returns.loc[factor_returns[\"Date\"]==date]\n",
    "factor_returns = factor_returns.iloc[:,1:]\n",
    "stock_list = factors[\"Index\"].tolist()\n",
    "factors = factors.iloc[:, 3:]\n",
    "factors = np.array(factors)\n",
    "factor_returns = np.array(factor_returns)"
   ]
  },
  {
   "cell_type": "code",
   "execution_count": 47,
   "id": "62055190",
   "metadata": {},
   "outputs": [
    {
     "data": {
      "text/plain": [
       "array([0.01065462, 0.02895356, 0.04407649, 0.03290185, 0.00890382,\n",
       "       0.01174139, 0.04829632, 0.04372723, 0.01981285, 0.07887703])"
      ]
     },
     "execution_count": 47,
     "metadata": {},
     "output_type": "execute_result"
    }
   ],
   "source": [
    "stock_return = np.dot(factors, factor_returns.T).reshape(-1)\n",
    "stock_list = np.array(stock_list)"
   ]
  },
  {
   "cell_type": "code",
   "execution_count": 46,
   "id": "d9a4477b",
   "metadata": {},
   "outputs": [],
   "source": [
    "from datetime import datetime \n",
    "\n",
    "\n",
    "def optimize(weights,tickers,start,end,calc_window,rf_rate,short=False,\n",
    "             price_type='Close',clean='True'):\n",
    "          \n",
    "        '''\n",
    "        weights; *type = list, initial guess weights\n",
    "        \n",
    "        start; input as str, data start date format 'YYYY-MM-DD' \n",
    "        end; input as str, data end date format 'YYYY-MM-DD'\n",
    "        \n",
    "        calc_window; input as str, calculation window for returns, \n",
    "        \n",
    "        rf_rate; desired risk-free rate to benchmark against\n",
    "        \n",
    "        price_type; *input as str, default = 'Close', options = 'Adj Close', \n",
    "        'Close', 'High','Low','Open', 'Volume'\n",
    "        \n",
    "        short = bool, default = 'False', if true weight bounds -1 to 1\n",
    "        \n",
    "        clean; bool, default = 'False', if true, the function will drop NA rows\n",
    "        '''\n",
    "        start = datetime.strptime(start,'%Y-%m-%d')\n",
    "        end = datetime.strptime(end,'%Y-%m-%d')\n",
    "        \n",
    "        prices = pdr.get_data_yahoo(tickers, start, end)[price_type]\n",
    "        \n",
    "        op = prices.pct_change(periods=int(calc_window))\n",
    "        \n",
    "        if clean == False:\n",
    "            op\n",
    "            \n",
    "        else:\n",
    "            op = op.dropna()\n",
    "        \n",
    "        vcv_matrix = np.cov(op.T)\n",
    "        \n",
    "        avg_return = op.mean()\n",
    "        \n",
    "        def sharpe(weights,vcv_matrix,avg_return):        \n",
    "            \n",
    "            var = np.dot(np.dot(weights,vcv_matrix),weights)\n",
    "            \n",
    "            ret =  np.dot(weights,avg_return)\n",
    "            \n",
    "            s_ratio = -(ret-rf_rate)/np.sqrt(var)\n",
    "            \n",
    "            return s_ratio\n",
    "           \n",
    "        \n",
    "        sharpe_cons = ({'type':'eq','fun': lambda x: sum(x)-1})\n",
    "        \n",
    "        \n",
    "        if short == False:\n",
    "            sharpe_bnds = ((0,1),)*len(tickers)\n",
    "        \n",
    "        if short == True:\n",
    "            sharpe_bnds = ((-1,1),)*len(tickers)\n",
    "        \n",
    "        optimal = scipy.optimize.minimize(sharpe,weights,bounds = sharpe_bnds,\n",
    "                                 args = (vcv_matrix,avg_return),\n",
    "                                 constraints = sharpe_cons)\n",
    "        \n",
    "        return optimal"
   ]
  },
  {
   "cell_type": "code",
   "execution_count": 27,
   "id": "0194c4ef",
   "metadata": {},
   "outputs": [],
   "source": [
    "d=pd.read_csv('trading_indicators.csv',index_col=0)"
   ]
  },
  {
   "cell_type": "code",
   "execution_count": 39,
   "id": "34f78404",
   "metadata": {
    "scrolled": true
   },
   "outputs": [],
   "source": [
    "tickers=list(d['index'][0:10].values)"
   ]
  },
  {
   "cell_type": "code",
   "execution_count": 35,
   "id": "2c872aaa",
   "metadata": {},
   "outputs": [],
   "source": [
    "start='2022-08-01'\n",
    "end='2022-10-31'"
   ]
  },
  {
   "cell_type": "code",
   "execution_count": 36,
   "id": "1a7b5491",
   "metadata": {},
   "outputs": [],
   "source": [
    "#不变，始终为1\n",
    "calc_window='1'"
   ]
  },
  {
   "cell_type": "code",
   "execution_count": 42,
   "id": "bcc4a025",
   "metadata": {},
   "outputs": [],
   "source": [
    "rf_rate=0.02"
   ]
  },
  {
   "cell_type": "code",
   "execution_count": 48,
   "id": "55ff57aa",
   "metadata": {},
   "outputs": [],
   "source": [
    "a=optimize(weights,tickers,start,end,calc_window,rf_rate,short=True,price_type='Adj Close',clean='True')"
   ]
  },
  {
   "cell_type": "code",
   "execution_count": 50,
   "id": "56403acf",
   "metadata": {},
   "outputs": [
    {
     "data": {
      "text/plain": [
       "array([-0.21949472,  0.06524437, -0.43674423,  1.        , -0.30397606,\n",
       "       -0.09550615, -0.33532088,  1.        ,  0.00699695,  0.31880071])"
      ]
     },
     "execution_count": 50,
     "metadata": {},
     "output_type": "execute_result"
    }
   ],
   "source": [
    "a.x"
   ]
  },
  {
   "cell_type": "code",
   "execution_count": null,
   "id": "776545da",
   "metadata": {},
   "outputs": [],
   "source": []
  }
 ],
 "metadata": {
  "kernelspec": {
   "display_name": "Python 3.7.1 64-bit",
   "language": "python",
   "name": "python3"
  },
  "language_info": {
   "codemirror_mode": {
    "name": "ipython",
    "version": 3
   },
   "file_extension": ".py",
   "mimetype": "text/x-python",
   "name": "python",
   "nbconvert_exporter": "python",
   "pygments_lexer": "ipython3",
   "version": "3.7.1"
  },
  "toc": {
   "base_numbering": 1,
   "nav_menu": {},
   "number_sections": true,
   "sideBar": true,
   "skip_h1_title": false,
   "title_cell": "Table of Contents",
   "title_sidebar": "Contents",
   "toc_cell": false,
   "toc_position": {},
   "toc_section_display": true,
   "toc_window_display": false
  },
  "vscode": {
   "interpreter": {
    "hash": "5a98bc0709bb551cb0b40a68bfcb118c11ed773779c4b4ca5eb3852e4a8f5446"
   }
  }
 },
 "nbformat": 4,
 "nbformat_minor": 5
}
