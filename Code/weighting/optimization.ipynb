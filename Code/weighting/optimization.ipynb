{
 "cells": [
  {
   "cell_type": "code",
   "execution_count": 8,
   "id": "36d1c2d5",
   "metadata": {},
   "outputs": [],
   "source": [
    "import pandas_datareader as pdr\n",
    "import numpy as np\n",
    "import pandas as pd\n",
    "import scipy.optimize \n",
    "from datetime import datetime,time,timedelta\n",
    "from strategy2 import strategy2\n",
    "from strategy1 import strategy1\n",
    "from strategy3 import strategy3\n"
   ]
  },
  {
   "cell_type": "code",
   "execution_count": 53,
   "id": "e7a5f264",
   "metadata": {},
   "outputs": [],
   "source": [
    "import numpy as np\n",
    "import matplotlib.pyplot as plt\n",
    "import pandas as pd\n",
    "from math import floor\n",
    "\n",
    "factor_returns = pd.read_csv(\"../../Analysis/factors_returns_multi.csv\")\n",
    "factors = pd.read_csv(\"../../Factors/merge_Factors.csv\")\n",
    "earning_factors = [\"Momentum_1\", \"Momentum_2\"]\n",
    "risk_factors = [\"Financial Quality\", \"Turnover\"]\n",
    "all_factors = earning_factors + risk_factors\n",
    "\n",
    "def strategy2(date):\n",
    "    seg_num = 5\n",
    "    \n",
    "    # get factors score from factors\n",
    "    factors_score = factors[[\"Date\", \"Index\"]+earning_factors+risk_factors]\n",
    "    factors_score = factors_score.loc[factors_score[\"Date\"]==date]\n",
    "    for factor in all_factors:\n",
    "        factors_score = factors_score.drop_duplicates(subset=[factor])\n",
    "    for factor in all_factors:\n",
    "        factors_score[factor+\"_score\"] = None\n",
    "    num_row = factors_score.shape[0]\n",
    "    cut_length = floor(num_row/seg_num)\n",
    "    cutting_point = [i*cut_length for i in range(seg_num)]\n",
    "    cutting_point.append(num_row)\n",
    "    stock_index = []\n",
    "    score_list = list(np.arange(0, 1, 1/seg_num)+1/seg_num)\n",
    "    score_list.reverse()\n",
    "    \n",
    "    # get stock indexes in each region\n",
    "    for i in range(len(cutting_point)-1):\n",
    "        stock_index.append(list(range(cutting_point[i], cutting_point[i+1])))\n",
    "\n",
    "    for factor in earning_factors:\n",
    "        factors_score = factors_score.sort_values(by=factor, ascending=False)\n",
    "        col_index = list(factors_score.columns).index(factor+\"_score\")\n",
    "        for i in range(len(stock_index)):\n",
    "            factors_score.iloc[stock_index[i], col_index] = 100*score_list[i]\n",
    "    for factor in risk_factors:\n",
    "        factors_score = factors_score.sort_values(by=factor, ascending=True)\n",
    "        col_index = list(factors_score.columns).index(factor+\"_score\")\n",
    "        for i in range(len(stock_index)):\n",
    "            factors_score.iloc[stock_index[i], col_index] = 100*score_list[i]\n",
    "    factors_score[\"total_score\"] = factors_score[earning_factors[0]+\"_score\"] + factors_score[earning_factors[1]+\"_score\"] + factors_score[risk_factors[0]+\"_score\"] + factors_score[risk_factors[1]+\"_score\"]\n",
    "\n",
    "    factors_score = factors_score.sort_values(by=\"total_score\", ascending=False)\n",
    "    selected_stocks = factors_score[\"Index\"].head(10).tolist()\n",
    "    return selected_stocks\n",
    "    "
   ]
  },
  {
   "cell_type": "code",
   "execution_count": 54,
   "id": "d030f8a6",
   "metadata": {},
   "outputs": [],
   "source": [
    "factors = pd.read_csv(\"../../Factors/merge_Factors.csv\")\n",
    "factor_returns = pd.read_csv(\"../../Analysis/factors_returns_multi.csv\")\n"
   ]
  },
  {
   "cell_type": "code",
   "execution_count": 55,
   "id": "b5a7655a",
   "metadata": {},
   "outputs": [],
   "source": [
    "date = \"2022-10-03\"\n",
    "selected_stocks = strategy2(date)\n",
    "factors = factors.loc[(factors[\"Date\"]==date) & (factors[\"Index\"].isin(selected_stocks))]\n",
    "factor_returns = factor_returns.loc[factor_returns[\"Date\"]==date]\n",
    "factor_returns = factor_returns.iloc[:,1:]\n",
    "stock_list = factors[\"Index\"].tolist()\n",
    "factors = factors.iloc[:, 3:]\n",
    "factors = np.array(factors)\n",
    "factor_returns = np.array(factor_returns)"
   ]
  },
  {
   "cell_type": "code",
   "execution_count": 56,
   "id": "62055190",
   "metadata": {},
   "outputs": [],
   "source": [
    "stock_return = np.dot(factors, factor_returns.T).reshape(-1)\n",
    "stock_list = np.array(stock_list)"
   ]
  },
  {
   "cell_type": "code",
   "execution_count": 57,
   "id": "74006e74",
   "metadata": {},
   "outputs": [],
   "source": [
    "\n",
    "from datetime import datetime "
   ]
  },
  {
   "cell_type": "code",
   "execution_count": 58,
   "id": "4cd0cb55",
   "metadata": {},
   "outputs": [],
   "source": [
    "\n",
    "def optimize(weights,tickers,start,end,calc_window,rf_rate,short=False,\n",
    "             price_type='Close',clean='True'):\n",
    "          \n",
    "        '''\n",
    "        weights; *type = list, initial guess weights\n",
    "        \n",
    "        start; input as str, data start date format 'YYYY-MM-DD' \n",
    "        end; input as str, data end date format 'YYYY-MM-DD'\n",
    "        \n",
    "        calc_window; input as str, calculation window for returns, \n",
    "        \n",
    "        rf_rate; desired risk-free rate to benchmark against\n",
    "        \n",
    "        price_type; *input as str, default = 'Close', options = 'Adj Close', \n",
    "        'Close', 'High','Low','Open', 'Volume'\n",
    "        \n",
    "        short = bool, default = 'False', if true weight bounds -1 to 1\n",
    "        \n",
    "        clean; bool, default = 'False', if true, the function will drop NA rows\n",
    "        '''\n",
    "        start = datetime.strptime(start,'%Y-%m-%d')\n",
    "        end = datetime.strptime(end,'%Y-%m-%d')\n",
    "        \n",
    "        prices = pdr.get_data_yahoo(tickers, start, end)[price_type]\n",
    "        \n",
    "        op = prices.pct_change(periods=int(calc_window))\n",
    "        op.iloc[-1,:]=stock_return\n",
    "        if clean == False:\n",
    "            op\n",
    "            \n",
    "        else:\n",
    "            op = op.dropna()\n",
    "        \n",
    "        vcv_matrix = np.cov(op.T)\n",
    "        \n",
    "        avg_return = op.mean()\n",
    "        \n",
    "        def sharpe(weights,vcv_matrix,avg_return):        \n",
    "            \n",
    "            var = np.dot(np.dot(weights,vcv_matrix),weights)\n",
    "            \n",
    "            ret =  np.dot(weights,avg_return)\n",
    "            \n",
    "            s_ratio = -(ret-rf_rate)/np.sqrt(var)\n",
    "            \n",
    "            return s_ratio\n",
    "           \n",
    "        \n",
    "        sharpe_cons = ({'type':'eq','fun': lambda x: sum(x)-1})\n",
    "        \n",
    "        \n",
    "        if short == False:\n",
    "            sharpe_bnds = ((0,1),)*len(tickers)\n",
    "        \n",
    "        if short == True:\n",
    "            sharpe_bnds = ((-1,1),)*len(tickers)\n",
    "        \n",
    "        optimal = scipy.optimize.minimize(sharpe,weights,bounds = sharpe_bnds,\n",
    "                                 args = (vcv_matrix,avg_return),\n",
    "                                 constraints = sharpe_cons)\n",
    "        \n",
    "        return optimal\n"
   ]
  },
  {
   "cell_type": "code",
   "execution_count": 59,
   "id": "066dcf80",
   "metadata": {},
   "outputs": [],
   "source": [
    "\n",
    "weights=[0.1]*10\n",
    "tickers=stock_list\n",
    "#end为要预测仓位的那天\n",
    "end='2022-10-03'\n",
    "#start为end向前一个月\n",
    "start='2022-09-03'\n",
    "#不变，始终为1\n",
    "calc_window='1'"
   ]
  },
  {
   "cell_type": "code",
   "execution_count": 60,
   "id": "7245d899",
   "metadata": {},
   "outputs": [],
   "source": [
    "\n",
    "# 确定无风险收益率\n",
    "rf=pd.read_csv('daily-treasury-rates.csv',index_col=0)\n",
    "\n",
    "#rf=rf.iloc[:,5]\n",
    "\n",
    "rf.reset_index(inplace=True)\n",
    "\n",
    "rf['Date']=[datetime.strptime(i,\"%m/%d/%Y\") for i in list(rf['Date'].values)]\n",
    "\n",
    "start_time=datetime.strptime(start,\"%Y-%m-%d\")\n",
    "end_time=datetime.strptime(end,\"%Y-%m-%d\")\n",
    "\n",
    "rf=rf.set_index(\"Date\")\n",
    "\n",
    "\n",
    "for i in range(len(rf.index)):\n",
    "    if list(rf.index)[i]-end_time<=timedelta(0):\n",
    "        rfend_time=list(rf.index)[i]\n",
    "        break\n",
    "for j in range(len(rf.index)):\n",
    "    if list(rf.index)[j]-start_time<=timedelta(0):\n",
    "        rfstart_time=list(rf.index)[j]\n",
    "        break\n",
    "\n",
    "rf_rate=rf.loc[rfend_time:rfstart_time,'1 Yr'].mean()*0.01/360\n"
   ]
  },
  {
   "cell_type": "code",
   "execution_count": 61,
   "id": "a29501ad",
   "metadata": {},
   "outputs": [
    {
     "data": {
      "text/plain": [
       "     fun: -0.6969185710170434\n",
       "     jac: array([0.06598385, 0.05546114, 0.06620257, 0.06658683, 0.0664262 ,\n",
       "       0.13268272, 0.06597343, 0.06583884, 0.06620314, 0.06551199])\n",
       " message: 'Optimization terminated successfully'\n",
       "    nfev: 165\n",
       "     nit: 15\n",
       "    njev: 15\n",
       "  status: 0\n",
       " success: True\n",
       "       x: array([ 0.85631409,  1.        ,  0.11602722,  0.0571925 ,  0.04715935,\n",
       "       -1.        , -0.84509312, -0.08037373,  0.02679345,  0.82198024])"
      ]
     },
     "execution_count": 61,
     "metadata": {},
     "output_type": "execute_result"
    }
   ],
   "source": [
    "\n",
    "optimize(weights,tickers,start,end,calc_window,rf_rate,short=True,price_type='Adj Close',clean='True')"
   ]
  },
  {
   "cell_type": "code",
   "execution_count": 62,
   "id": "cb254b70",
   "metadata": {},
   "outputs": [],
   "source": [
    "w=optimize(weights,tickers,start,end,calc_window,rf_rate,short=True,price_type='Adj Close',clean='True')\n",
    "weight=list(w.x)"
   ]
  },
  {
   "cell_type": "code",
   "execution_count": 63,
   "id": "497c3cbd",
   "metadata": {},
   "outputs": [
    {
     "data": {
      "text/plain": [
       "[0.8563140881159422,\n",
       " 1.0,\n",
       " 0.11602722485749965,\n",
       " 0.05719250291729601,\n",
       " 0.04715934938248681,\n",
       " -1.0,\n",
       " -0.8450931167646714,\n",
       " -0.08037373456178747,\n",
       " 0.02679344539772332,\n",
       " 0.8219802406555108]"
      ]
     },
     "execution_count": 63,
     "metadata": {},
     "output_type": "execute_result"
    }
   ],
   "source": [
    "weight"
   ]
  },
  {
   "cell_type": "code",
   "execution_count": null,
   "id": "4105af76",
   "metadata": {},
   "outputs": [],
   "source": []
  }
 ],
 "metadata": {
  "kernelspec": {
   "display_name": "Python 3.7.1 64-bit",
   "language": "python",
   "name": "python3"
  },
  "language_info": {
   "codemirror_mode": {
    "name": "ipython",
    "version": 3
   },
   "file_extension": ".py",
   "mimetype": "text/x-python",
   "name": "python",
   "nbconvert_exporter": "python",
   "pygments_lexer": "ipython3",
   "version": "3.7.1"
  },
  "toc": {
   "base_numbering": 1,
   "nav_menu": {},
   "number_sections": true,
   "sideBar": true,
   "skip_h1_title": false,
   "title_cell": "Table of Contents",
   "title_sidebar": "Contents",
   "toc_cell": false,
   "toc_position": {},
   "toc_section_display": true,
   "toc_window_display": false
  },
  "vscode": {
   "interpreter": {
    "hash": "5a98bc0709bb551cb0b40a68bfcb118c11ed773779c4b4ca5eb3852e4a8f5446"
   }
  }
 },
 "nbformat": 4,
 "nbformat_minor": 5
}
