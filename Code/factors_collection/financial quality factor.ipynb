{
 "cells": [
  {
   "cell_type": "code",
   "execution_count": 1,
   "id": "84d3a0b3",
   "metadata": {},
   "outputs": [],
   "source": [
    "import numpy as np\n",
    "import pandas as pd\n",
    "import yfinance as yf"
   ]
  },
  {
   "cell_type": "code",
   "execution_count": 1,
   "id": "cc98269a",
   "metadata": {},
   "outputs": [],
   "source": [
    "import tushare as ts\n",
    "\n",
    "ts.set_token('b44a79bfc0d0985920d0328c722c4b32c64a6f4ea73d6937469fcd8c')\n",
    "pro = ts.pro_api()"
   ]
  },
  {
   "cell_type": "code",
   "execution_count": 7,
   "id": "be69dd51",
   "metadata": {},
   "outputs": [
    {
     "name": "stderr",
     "output_type": "stream",
     "text": [
      "/var/folders/tj/wlk3qbws6g1g7_m2qp7sndkm0000gn/T/ipykernel_25255/4205159957.py:23: FutureWarning: The frame.append method is deprecated and will be removed from pandas in a future version. Use pandas.concat instead.\n",
      "  Merge_data = Merge_data.append(df1)\n",
      "/var/folders/tj/wlk3qbws6g1g7_m2qp7sndkm0000gn/T/ipykernel_25255/4205159957.py:23: FutureWarning: The frame.append method is deprecated and will be removed from pandas in a future version. Use pandas.concat instead.\n",
      "  Merge_data = Merge_data.append(df1)\n",
      "/var/folders/tj/wlk3qbws6g1g7_m2qp7sndkm0000gn/T/ipykernel_25255/4205159957.py:23: FutureWarning: The frame.append method is deprecated and will be removed from pandas in a future version. Use pandas.concat instead.\n",
      "  Merge_data = Merge_data.append(df1)\n",
      "/var/folders/tj/wlk3qbws6g1g7_m2qp7sndkm0000gn/T/ipykernel_25255/4205159957.py:23: FutureWarning: The frame.append method is deprecated and will be removed from pandas in a future version. Use pandas.concat instead.\n",
      "  Merge_data = Merge_data.append(df1)\n",
      "/var/folders/tj/wlk3qbws6g1g7_m2qp7sndkm0000gn/T/ipykernel_25255/4205159957.py:23: FutureWarning: The frame.append method is deprecated and will be removed from pandas in a future version. Use pandas.concat instead.\n",
      "  Merge_data = Merge_data.append(df1)\n",
      "/var/folders/tj/wlk3qbws6g1g7_m2qp7sndkm0000gn/T/ipykernel_25255/4205159957.py:23: FutureWarning: The frame.append method is deprecated and will be removed from pandas in a future version. Use pandas.concat instead.\n",
      "  Merge_data = Merge_data.append(df1)\n",
      "/var/folders/tj/wlk3qbws6g1g7_m2qp7sndkm0000gn/T/ipykernel_25255/4205159957.py:23: FutureWarning: The frame.append method is deprecated and will be removed from pandas in a future version. Use pandas.concat instead.\n",
      "  Merge_data = Merge_data.append(df1)\n"
     ]
    }
   ],
   "source": [
    "import xlrd\n",
    "import pandas as pd\n",
    "from openpyxl import load_workbook\n",
    "\n",
    "excel_name = r'/Users/lsrsusan/Desktop/code/python数据分析/dsa5205/DSA5205.xls'\n",
    "# 写入文件位置，*处填入文件位置\n",
    "\n",
    "Wb = xlrd.open_workbook('DSA5205.xls') \n",
    "# 获取工作表中所有的表格\n",
    "\n",
    "Sheets = Wb.sheet_names()\n",
    "# 获取工作表中所有表格名\n",
    "\n",
    "Merge_data = pd.DataFrame()\n",
    "# 建立空DataFrame，存储数据\n",
    "\n",
    "for i in range(len(Sheets)):  \n",
    "# 循环遍历所有Sheets\n",
    "    \n",
    "    df = pd.read_excel(excel_name, sheet_name=i)\n",
    "    df1= df[list(df.columns)]\n",
    "    df1['Quarter']=Sheets[i]\n",
    "    Merge_data = Merge_data.append(df1)\n"
   ]
  },
  {
   "cell_type": "code",
   "execution_count": 11,
   "id": "1955dc04",
   "metadata": {
    "scrolled": false
   },
   "outputs": [
    {
     "data": {
      "text/html": [
       "<div>\n",
       "<style scoped>\n",
       "    .dataframe tbody tr th:only-of-type {\n",
       "        vertical-align: middle;\n",
       "    }\n",
       "\n",
       "    .dataframe tbody tr th {\n",
       "        vertical-align: top;\n",
       "    }\n",
       "\n",
       "    .dataframe thead th {\n",
       "        text-align: right;\n",
       "    }\n",
       "</style>\n",
       "<table border=\"1\" class=\"dataframe\">\n",
       "  <thead>\n",
       "    <tr style=\"text-align: right;\">\n",
       "      <th></th>\n",
       "      <th>index</th>\n",
       "      <th>INDEX BLOOMBERG</th>\n",
       "      <th>BS_TOT_ASSET</th>\n",
       "      <th>TOTAL_EQUITY</th>\n",
       "      <th>RETURN_ON_ASSET</th>\n",
       "      <th>RETURN_ON_CAP</th>\n",
       "      <th>RETURN_COM_EQY</th>\n",
       "      <th>Quarter</th>\n",
       "    </tr>\n",
       "  </thead>\n",
       "  <tbody>\n",
       "    <tr>\n",
       "      <th>138</th>\n",
       "      <td>AAPL</td>\n",
       "      <td>AAPL US EQUITY</td>\n",
       "      <td>NaN</td>\n",
       "      <td>NaN</td>\n",
       "      <td>NaN</td>\n",
       "      <td>NaN</td>\n",
       "      <td>NaN</td>\n",
       "      <td>2021Q1</td>\n",
       "    </tr>\n",
       "    <tr>\n",
       "      <th>138</th>\n",
       "      <td>AAPL</td>\n",
       "      <td>AAPL US EQUITY</td>\n",
       "      <td>NaN</td>\n",
       "      <td>NaN</td>\n",
       "      <td>NaN</td>\n",
       "      <td>NaN</td>\n",
       "      <td>NaN</td>\n",
       "      <td>2021Q2</td>\n",
       "    </tr>\n",
       "    <tr>\n",
       "      <th>138</th>\n",
       "      <td>AAPL</td>\n",
       "      <td>AAPL US EQUITY</td>\n",
       "      <td>NaN</td>\n",
       "      <td>NaN</td>\n",
       "      <td>NaN</td>\n",
       "      <td>NaN</td>\n",
       "      <td>NaN</td>\n",
       "      <td>2021Q3</td>\n",
       "    </tr>\n",
       "    <tr>\n",
       "      <th>138</th>\n",
       "      <td>AAPL</td>\n",
       "      <td>AAPL US EQUITY</td>\n",
       "      <td>NaN</td>\n",
       "      <td>NaN</td>\n",
       "      <td>NaN</td>\n",
       "      <td>NaN</td>\n",
       "      <td>NaN</td>\n",
       "      <td>2021Q4</td>\n",
       "    </tr>\n",
       "    <tr>\n",
       "      <th>138</th>\n",
       "      <td>AAPL</td>\n",
       "      <td>AAPL US EQUITY</td>\n",
       "      <td>NaN</td>\n",
       "      <td>NaN</td>\n",
       "      <td>NaN</td>\n",
       "      <td>NaN</td>\n",
       "      <td>NaN</td>\n",
       "      <td>2022Q1</td>\n",
       "    </tr>\n",
       "    <tr>\n",
       "      <th>138</th>\n",
       "      <td>AAPL</td>\n",
       "      <td>AAPL US EQUITY</td>\n",
       "      <td>NaN</td>\n",
       "      <td>NaN</td>\n",
       "      <td>NaN</td>\n",
       "      <td>NaN</td>\n",
       "      <td>NaN</td>\n",
       "      <td>2022Q2</td>\n",
       "    </tr>\n",
       "    <tr>\n",
       "      <th>138</th>\n",
       "      <td>AAPL</td>\n",
       "      <td>AAPL US EQUITY</td>\n",
       "      <td>NaN</td>\n",
       "      <td>NaN</td>\n",
       "      <td>NaN</td>\n",
       "      <td>NaN</td>\n",
       "      <td>NaN</td>\n",
       "      <td>2022Q3</td>\n",
       "    </tr>\n",
       "  </tbody>\n",
       "</table>\n",
       "</div>"
      ],
      "text/plain": [
       "    index INDEX BLOOMBERG  BS_TOT_ASSET  TOTAL_EQUITY  RETURN_ON_ASSET  \\\n",
       "138  AAPL  AAPL US EQUITY           NaN           NaN              NaN   \n",
       "138  AAPL  AAPL US EQUITY           NaN           NaN              NaN   \n",
       "138  AAPL  AAPL US EQUITY           NaN           NaN              NaN   \n",
       "138  AAPL  AAPL US EQUITY           NaN           NaN              NaN   \n",
       "138  AAPL  AAPL US EQUITY           NaN           NaN              NaN   \n",
       "138  AAPL  AAPL US EQUITY           NaN           NaN              NaN   \n",
       "138  AAPL  AAPL US EQUITY           NaN           NaN              NaN   \n",
       "\n",
       "     RETURN_ON_CAP  RETURN_COM_EQY Quarter  \n",
       "138            NaN             NaN  2021Q1  \n",
       "138            NaN             NaN  2021Q2  \n",
       "138            NaN             NaN  2021Q3  \n",
       "138            NaN             NaN  2021Q4  \n",
       "138            NaN             NaN  2022Q1  \n",
       "138            NaN             NaN  2022Q2  \n",
       "138            NaN             NaN  2022Q3  "
      ]
     },
     "execution_count": 11,
     "metadata": {},
     "output_type": "execute_result"
    }
   ],
   "source": [
    "Merge_data[Merge_data['index']==\"AAPL\"]"
   ]
  },
  {
   "cell_type": "code",
   "execution_count": 12,
   "id": "b67f62b2",
   "metadata": {},
   "outputs": [
    {
     "data": {
      "text/plain": [
       "{'regularMarketPrice': None, 'preMarketPrice': None, 'logo_url': ''}"
      ]
     },
     "execution_count": 12,
     "metadata": {},
     "output_type": "execute_result"
    }
   ],
   "source": [
    "msft = yf.Ticker(\"YI AAPL\")\n",
    "\n",
    "# get stock info\n",
    "msft.info"
   ]
  },
  {
   "cell_type": "code",
   "execution_count": 13,
   "id": "98d6dd83",
   "metadata": {},
   "outputs": [
    {
     "data": {
      "text/html": [
       "<div>\n",
       "<style scoped>\n",
       "    .dataframe tbody tr th:only-of-type {\n",
       "        vertical-align: middle;\n",
       "    }\n",
       "\n",
       "    .dataframe tbody tr th {\n",
       "        vertical-align: top;\n",
       "    }\n",
       "\n",
       "    .dataframe thead th {\n",
       "        text-align: right;\n",
       "    }\n",
       "</style>\n",
       "<table border=\"1\" class=\"dataframe\">\n",
       "  <thead>\n",
       "    <tr style=\"text-align: right;\">\n",
       "      <th></th>\n",
       "      <th>Open</th>\n",
       "      <th>High</th>\n",
       "      <th>Low</th>\n",
       "      <th>Close</th>\n",
       "      <th>Adj Close</th>\n",
       "      <th>Volume</th>\n",
       "    </tr>\n",
       "    <tr>\n",
       "      <th>Date</th>\n",
       "      <th></th>\n",
       "      <th></th>\n",
       "      <th></th>\n",
       "      <th></th>\n",
       "      <th></th>\n",
       "      <th></th>\n",
       "    </tr>\n",
       "  </thead>\n",
       "  <tbody>\n",
       "  </tbody>\n",
       "</table>\n",
       "</div>"
      ],
      "text/plain": [
       "Empty DataFrame\n",
       "Columns: [Open, High, Low, Close, Adj Close, Volume]\n",
       "Index: []"
      ]
     },
     "execution_count": 13,
     "metadata": {},
     "output_type": "execute_result"
    }
   ],
   "source": [
    "msft.quarterly_balancesheet"
   ]
  },
  {
   "cell_type": "code",
   "execution_count": 30,
   "id": "a8fe0f8b",
   "metadata": {},
   "outputs": [],
   "source": [
    "df = pro.us_tradecal(start_date='20210101', end_date='20220731')"
   ]
  },
  {
   "cell_type": "code",
   "execution_count": 31,
   "id": "16fd3977",
   "metadata": {
    "scrolled": true
   },
   "outputs": [
    {
     "data": {
      "text/html": [
       "<div>\n",
       "<style scoped>\n",
       "    .dataframe tbody tr th:only-of-type {\n",
       "        vertical-align: middle;\n",
       "    }\n",
       "\n",
       "    .dataframe tbody tr th {\n",
       "        vertical-align: top;\n",
       "    }\n",
       "\n",
       "    .dataframe thead th {\n",
       "        text-align: right;\n",
       "    }\n",
       "</style>\n",
       "<table border=\"1\" class=\"dataframe\">\n",
       "  <thead>\n",
       "    <tr style=\"text-align: right;\">\n",
       "      <th></th>\n",
       "      <th>cal_date</th>\n",
       "      <th>is_open</th>\n",
       "      <th>pretrade_date</th>\n",
       "    </tr>\n",
       "  </thead>\n",
       "  <tbody>\n",
       "    <tr>\n",
       "      <th>0</th>\n",
       "      <td>20220731</td>\n",
       "      <td>0</td>\n",
       "      <td>20220728</td>\n",
       "    </tr>\n",
       "    <tr>\n",
       "      <th>1</th>\n",
       "      <td>20220730</td>\n",
       "      <td>0</td>\n",
       "      <td>20220728</td>\n",
       "    </tr>\n",
       "    <tr>\n",
       "      <th>2</th>\n",
       "      <td>20220729</td>\n",
       "      <td>1</td>\n",
       "      <td>20220728</td>\n",
       "    </tr>\n",
       "    <tr>\n",
       "      <th>3</th>\n",
       "      <td>20220728</td>\n",
       "      <td>1</td>\n",
       "      <td>20220727</td>\n",
       "    </tr>\n",
       "    <tr>\n",
       "      <th>4</th>\n",
       "      <td>20220727</td>\n",
       "      <td>1</td>\n",
       "      <td>20220726</td>\n",
       "    </tr>\n",
       "  </tbody>\n",
       "</table>\n",
       "</div>"
      ],
      "text/plain": [
       "   cal_date  is_open pretrade_date\n",
       "0  20220731        0      20220728\n",
       "1  20220730        0      20220728\n",
       "2  20220729        1      20220728\n",
       "3  20220728        1      20220727\n",
       "4  20220727        1      20220726"
      ]
     },
     "execution_count": 31,
     "metadata": {},
     "output_type": "execute_result"
    }
   ],
   "source": [
    "df.head()"
   ]
  },
  {
   "cell_type": "code",
   "execution_count": 32,
   "id": "876b5dc2",
   "metadata": {},
   "outputs": [],
   "source": [
    "df=df[df['is_open']==1]\n",
    "df=df.reset_index(drop=True)\n",
    "df['cal_date']"
   ]
  },
  {
   "cell_type": "code",
   "execution_count": 37,
   "id": "94bcb3d2",
   "metadata": {},
   "outputs": [],
   "source": [
    "from datetime import datetime\n",
    "import math"
   ]
  },
  {
   "cell_type": "code",
   "execution_count": 33,
   "id": "bd44b2f8",
   "metadata": {},
   "outputs": [],
   "source": [
    "now = datetime.datetime(2015, 1, 1, 0, 0, 0, 0)\n",
    "present_quarter = int(math.ceil(now.month/3.))\n",
    "completed_quarter = (present_quarter - 1) if present_quarter != 1 else 4"
   ]
  },
  {
   "cell_type": "code",
   "execution_count": 42,
   "id": "3a62638e",
   "metadata": {},
   "outputs": [],
   "source": [
    "df['cal_date']=[datetime.strptime(i,\"%Y%m%d\") for i in list(df['cal_date'].values)]"
   ]
  },
  {
   "cell_type": "code",
   "execution_count": 58,
   "id": "871515d6",
   "metadata": {},
   "outputs": [
    {
     "data": {
      "text/plain": [
       "'20221'"
      ]
     },
     "execution_count": 58,
     "metadata": {},
     "output_type": "execute_result"
    }
   ],
   "source": [
    "str(df.iloc[0,0].year)+\"1\""
   ]
  },
  {
   "cell_type": "code",
   "execution_count": 60,
   "id": "6ce22490",
   "metadata": {},
   "outputs": [],
   "source": [
    "df['Quarter']=df['cal_date'].map(lambda x:str(x.year)+\"Q\"+str(math.ceil(x.month/3)))"
   ]
  },
  {
   "cell_type": "code",
   "execution_count": 63,
   "id": "dee1f997",
   "metadata": {},
   "outputs": [],
   "source": [
    "df=df.iloc[:,[0,-1]]"
   ]
  },
  {
   "cell_type": "code",
   "execution_count": 68,
   "id": "55ec4144",
   "metadata": {
    "scrolled": true
   },
   "outputs": [],
   "source": [
    "df.rename(columns={'cal_date':'date'},inplace=True)"
   ]
  },
  {
   "cell_type": "code",
   "execution_count": 70,
   "id": "ac3a0029",
   "metadata": {},
   "outputs": [],
   "source": [
    "df1=pd.merge(df,Merge_data,on=\"Quarter\",how='right')"
   ]
  },
  {
   "cell_type": "code",
   "execution_count": 74,
   "id": "01a28c3c",
   "metadata": {},
   "outputs": [],
   "source": [
    "df1=df1.set_index(\"date\")"
   ]
  },
  {
   "cell_type": "code",
   "execution_count": 75,
   "id": "60aa85c2",
   "metadata": {},
   "outputs": [],
   "source": [
    "df1=df1.sort_index()"
   ]
  },
  {
   "cell_type": "code",
   "execution_count": 87,
   "id": "ba77ef27",
   "metadata": {
    "scrolled": false
   },
   "outputs": [],
   "source": [
    "df1.reset_index(inplace=True)"
   ]
  },
  {
   "cell_type": "code",
   "execution_count": 88,
   "id": "6bfe0704",
   "metadata": {},
   "outputs": [
    {
     "data": {
      "text/html": [
       "<div>\n",
       "<style scoped>\n",
       "    .dataframe tbody tr th:only-of-type {\n",
       "        vertical-align: middle;\n",
       "    }\n",
       "\n",
       "    .dataframe tbody tr th {\n",
       "        vertical-align: top;\n",
       "    }\n",
       "\n",
       "    .dataframe thead th {\n",
       "        text-align: right;\n",
       "    }\n",
       "</style>\n",
       "<table border=\"1\" class=\"dataframe\">\n",
       "  <thead>\n",
       "    <tr style=\"text-align: right;\">\n",
       "      <th></th>\n",
       "      <th>date</th>\n",
       "      <th>Quarter</th>\n",
       "      <th>index</th>\n",
       "      <th>INDEX BLOOMBERG</th>\n",
       "      <th>BS_TOT_ASSET</th>\n",
       "      <th>TOTAL_EQUITY</th>\n",
       "      <th>RETURN_ON_ASSET</th>\n",
       "      <th>RETURN_ON_CAP</th>\n",
       "      <th>RETURN_COM_EQY</th>\n",
       "    </tr>\n",
       "  </thead>\n",
       "  <tbody>\n",
       "    <tr>\n",
       "      <th>0</th>\n",
       "      <td>2021-01-04</td>\n",
       "      <td>2021Q1</td>\n",
       "      <td>BLIN</td>\n",
       "      <td>BLIN US EQUITY</td>\n",
       "      <td>11.603</td>\n",
       "      <td>3.255</td>\n",
       "      <td>-8.3966</td>\n",
       "      <td>NaN</td>\n",
       "      <td>-49.9127</td>\n",
       "    </tr>\n",
       "    <tr>\n",
       "      <th>1</th>\n",
       "      <td>2021-01-04</td>\n",
       "      <td>2021Q1</td>\n",
       "      <td>MGYR</td>\n",
       "      <td>MGYR US EQUITY</td>\n",
       "      <td>741.784</td>\n",
       "      <td>58.201</td>\n",
       "      <td>0.4302</td>\n",
       "      <td>2.9056</td>\n",
       "      <td>5.2436</td>\n",
       "    </tr>\n",
       "    <tr>\n",
       "      <th>2</th>\n",
       "      <td>2021-01-04</td>\n",
       "      <td>2021Q1</td>\n",
       "      <td>ANAB</td>\n",
       "      <td>ANAB US EQUITY</td>\n",
       "      <td>396.418</td>\n",
       "      <td>381.943</td>\n",
       "      <td>-7.2703</td>\n",
       "      <td>NaN</td>\n",
       "      <td>-7.6247</td>\n",
       "    </tr>\n",
       "    <tr>\n",
       "      <th>3</th>\n",
       "      <td>2021-01-04</td>\n",
       "      <td>2021Q1</td>\n",
       "      <td>RCKY</td>\n",
       "      <td>RCKY US EQUITY</td>\n",
       "      <td>449.084</td>\n",
       "      <td>183.867</td>\n",
       "      <td>7.2326</td>\n",
       "      <td>NaN</td>\n",
       "      <td>13.9507</td>\n",
       "    </tr>\n",
       "    <tr>\n",
       "      <th>4</th>\n",
       "      <td>2021-01-04</td>\n",
       "      <td>2021Q1</td>\n",
       "      <td>ALTR</td>\n",
       "      <td>ALTR US EQUITY</td>\n",
       "      <td>817.913</td>\n",
       "      <td>399.813</td>\n",
       "      <td>-0.2795</td>\n",
       "      <td>-1.1080</td>\n",
       "      <td>-0.5723</td>\n",
       "    </tr>\n",
       "  </tbody>\n",
       "</table>\n",
       "</div>"
      ],
      "text/plain": [
       "        date Quarter index INDEX BLOOMBERG  BS_TOT_ASSET  TOTAL_EQUITY  \\\n",
       "0 2021-01-04  2021Q1  BLIN  BLIN US EQUITY        11.603         3.255   \n",
       "1 2021-01-04  2021Q1  MGYR  MGYR US EQUITY       741.784        58.201   \n",
       "2 2021-01-04  2021Q1  ANAB  ANAB US EQUITY       396.418       381.943   \n",
       "3 2021-01-04  2021Q1  RCKY  RCKY US EQUITY       449.084       183.867   \n",
       "4 2021-01-04  2021Q1  ALTR  ALTR US EQUITY       817.913       399.813   \n",
       "\n",
       "   RETURN_ON_ASSET  RETURN_ON_CAP  RETURN_COM_EQY  \n",
       "0          -8.3966            NaN        -49.9127  \n",
       "1           0.4302         2.9056          5.2436  \n",
       "2          -7.2703            NaN         -7.6247  \n",
       "3           7.2326            NaN         13.9507  \n",
       "4          -0.2795        -1.1080         -0.5723  "
      ]
     },
     "execution_count": 88,
     "metadata": {},
     "output_type": "execute_result"
    }
   ],
   "source": [
    "df1.head()"
   ]
  },
  {
   "cell_type": "code",
   "execution_count": 90,
   "id": "fc57baab",
   "metadata": {},
   "outputs": [],
   "source": [
    "df1=df1.set_index(['date', 'index'])"
   ]
  },
  {
   "cell_type": "code",
   "execution_count": 91,
   "id": "19ca724e",
   "metadata": {},
   "outputs": [],
   "source": [
    "df1.to_csv(\"financial_quality_factor.csv\")"
   ]
  }
 ],
 "metadata": {
  "kernelspec": {
   "display_name": "Python 3 (ipykernel)",
   "language": "python",
   "name": "python3"
  },
  "language_info": {
   "codemirror_mode": {
    "name": "ipython",
    "version": 3
   },
   "file_extension": ".py",
   "mimetype": "text/x-python",
   "name": "python",
   "nbconvert_exporter": "python",
   "pygments_lexer": "ipython3",
   "version": "3.8.5"
  },
  "toc": {
   "base_numbering": 1,
   "nav_menu": {},
   "number_sections": true,
   "sideBar": true,
   "skip_h1_title": false,
   "title_cell": "Table of Contents",
   "title_sidebar": "Contents",
   "toc_cell": false,
   "toc_position": {},
   "toc_section_display": true,
   "toc_window_display": false
  }
 },
 "nbformat": 4,
 "nbformat_minor": 5
}
