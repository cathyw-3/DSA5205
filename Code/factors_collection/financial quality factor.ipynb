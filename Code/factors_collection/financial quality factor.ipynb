{
 "cells": [
  {
   "cell_type": "code",
   "execution_count": 1,
   "id": "84d3a0b3",
   "metadata": {},
   "outputs": [],
   "source": [
    "import numpy as np\n",
    "import pandas as pd\n",
    "import yfinance as yf"
   ]
  },
  {
   "cell_type": "code",
   "execution_count": 1,
   "id": "cc98269a",
   "metadata": {},
   "outputs": [],
   "source": [
    "import tushare as ts\n",
    "\n",
    "ts.set_token('b44a79bfc0d0985920d0328c722c4b32c64a6f4ea73d6937469fcd8c')\n",
    "pro = ts.pro_api()"
   ]
  },
  {
   "cell_type": "code",
   "execution_count": 7,
   "id": "be69dd51",
   "metadata": {},
   "outputs": [
    {
     "name": "stderr",
     "output_type": "stream",
     "text": [
      "/var/folders/tj/wlk3qbws6g1g7_m2qp7sndkm0000gn/T/ipykernel_25255/4205159957.py:23: FutureWarning: The frame.append method is deprecated and will be removed from pandas in a future version. Use pandas.concat instead.\n",
      "  Merge_data = Merge_data.append(df1)\n",
      "/var/folders/tj/wlk3qbws6g1g7_m2qp7sndkm0000gn/T/ipykernel_25255/4205159957.py:23: FutureWarning: The frame.append method is deprecated and will be removed from pandas in a future version. Use pandas.concat instead.\n",
      "  Merge_data = Merge_data.append(df1)\n",
      "/var/folders/tj/wlk3qbws6g1g7_m2qp7sndkm0000gn/T/ipykernel_25255/4205159957.py:23: FutureWarning: The frame.append method is deprecated and will be removed from pandas in a future version. Use pandas.concat instead.\n",
      "  Merge_data = Merge_data.append(df1)\n",
      "/var/folders/tj/wlk3qbws6g1g7_m2qp7sndkm0000gn/T/ipykernel_25255/4205159957.py:23: FutureWarning: The frame.append method is deprecated and will be removed from pandas in a future version. Use pandas.concat instead.\n",
      "  Merge_data = Merge_data.append(df1)\n",
      "/var/folders/tj/wlk3qbws6g1g7_m2qp7sndkm0000gn/T/ipykernel_25255/4205159957.py:23: FutureWarning: The frame.append method is deprecated and will be removed from pandas in a future version. Use pandas.concat instead.\n",
      "  Merge_data = Merge_data.append(df1)\n",
      "/var/folders/tj/wlk3qbws6g1g7_m2qp7sndkm0000gn/T/ipykernel_25255/4205159957.py:23: FutureWarning: The frame.append method is deprecated and will be removed from pandas in a future version. Use pandas.concat instead.\n",
      "  Merge_data = Merge_data.append(df1)\n",
      "/var/folders/tj/wlk3qbws6g1g7_m2qp7sndkm0000gn/T/ipykernel_25255/4205159957.py:23: FutureWarning: The frame.append method is deprecated and will be removed from pandas in a future version. Use pandas.concat instead.\n",
      "  Merge_data = Merge_data.append(df1)\n"
     ]
    }
   ],
   "source": [
    "import xlrd\n",
    "import pandas as pd\n",
    "from openpyxl import load_workbook\n",
    "\n",
    "excel_name = r'/Users/lsrsusan/Desktop/code/python数据分析/dsa5205/DSA5205.xls'\n",
    "# 写入文件位置，*处填入文件位置\n",
    "\n",
    "Wb = xlrd.open_workbook('DSA5205.xls') \n",
    "# 获取工作表中所有的表格\n",
    "\n",
    "Sheets = Wb.sheet_names()\n",
    "# 获取工作表中所有表格名\n",
    "\n",
    "Merge_data = pd.DataFrame()\n",
    "# 建立空DataFrame，存储数据\n",
    "\n",
    "for i in range(len(Sheets)):  \n",
    "# 循环遍历所有Sheets\n",
    "    \n",
    "    df = pd.read_excel(excel_name, sheet_name=i)\n",
    "    df1= df[list(df.columns)]\n",
    "    df1['Quarter']=Sheets[i]\n",
    "    Merge_data = Merge_data.append(df1)\n",
    "Merge_data[Merge_data['index']==\"AAPL\"]"
   ]
  },
  {
   "cell_type": "code",
   "execution_count": 12,
   "id": "b67f62b2",
   "metadata": {},
   "outputs": [
    {
     "data": {
      "text/plain": [
       "{'regularMarketPrice': None, 'preMarketPrice': None, 'logo_url': ''}"
      ]
     },
     "execution_count": 12,
     "metadata": {},
     "output_type": "execute_result"
    }
   ],
   "source": [
    "msft = yf.Ticker(\"YI AAPL\")\n",
    "\n",
    "# get stock info\n",
    "msft.info\n",
    "msft.quarterly_balancesheet\n",
    "\n",
    "df = pro.us_tradecal(start_date='20210101', end_date='20220731')\n",
    "df=df[df['is_open']==1]\n",
    "df=df.reset_index(drop=True)\n",
    "df['cal_date']"
   ]
  },
  {
   "cell_type": "code",
   "execution_count": 33,
   "id": "bd44b2f8",
   "metadata": {},
   "outputs": [],
   "source": [
    "from datetime import datetime\n",
    "import math\n",
    "\n",
    "now = datetime.datetime(2015, 1, 1, 0, 0, 0, 0)\n",
    "present_quarter = int(math.ceil(now.month/3.))\n",
    "completed_quarter = (present_quarter - 1) if present_quarter != 1 else 4\n",
    "\n",
    "df['cal_date']=[datetime.strptime(i,\"%Y%m%d\") for i in list(df['cal_date'].values)]\n",
    "df['Quarter']=df['cal_date'].map(lambda x:str(x.year)+\"Q\"+str(math.ceil(x.month/3)))\n",
    "df=df.iloc[:,[0,-1]]\n",
    "df.rename(columns={'cal_date':'date'},inplace=True)\n",
    "df1=pd.merge(df,Merge_data,on=\"Quarter\",how='right')\n",
    "df1=df1.set_index(\"date\")\n",
    "df1=df1.sort_index()\n",
    "df1.reset_index(inplace=True)\n",
    "df1=df1.set_index(['date', 'index'])"
   ]
  },
  {
   "cell_type": "code",
   "execution_count": 91,
   "id": "19ca724e",
   "metadata": {},
   "outputs": [],
   "source": [
    "df1.to_csv(\"financial_quality_factor.csv\")"
   ]
  },
  {
   "cell_type": "code",
   "execution_count": 43,
   "id": "147a1c97",
   "metadata": {},
   "outputs": [],
   "source": [
    "financial_factor = pd.read_csv(\"../../Data/financial_quality_factor.csv\")\n",
    "stock_industry = pd.read_csv(\"../../Data/stock_industry.csv\")\n",
    "missings = pd.read_csv(\"../../Data/missing_stocks.csv\")"
   ]
  },
  {
   "cell_type": "code",
   "execution_count": 44,
   "id": "830ae5b4",
   "metadata": {},
   "outputs": [],
   "source": [
    "financial_factor = financial_factor.loc[:, [\"date\",\"index\",\"RETURN_ON_ASSET\",\"RETURN_ON_CAP\",\"RETURN_COM_EQY\"]].rename(columns={\"date\":\"Date\",\"index\":\"Index\",\"RETURN_ON_ASSET\":\"ROA\",\"RETURN_ON_CAP\":\"ROC\",\"RETURN_COM_EQY\":\"ROE\"})\n",
    "financial_factor = financial_factor.merge(stock_industry, on=\"Index\")"
   ]
  },
  {
   "cell_type": "code",
   "execution_count": 46,
   "id": "870a418c",
   "metadata": {},
   "outputs": [],
   "source": [
    "stock_index = financial_factor.loc[:, \"Index\"].unique()\n",
    "for index in stock_index:\n",
    "    financial_factor.loc[financial_factor[\"Index\"]==index, \"ROA\"] = financial_factor.loc[financial_factor[\"Index\"]==index, \"ROA\"].replace(0, np.nan)\n",
    "    financial_factor.loc[financial_factor[\"Index\"]==index, \"ROE\"] = financial_factor.loc[financial_factor[\"Index\"]==index, \"ROE\"].replace(0, np.nan)\n",
    "    financial_factor.loc[financial_factor[\"Index\"]==index, \"ROC\"] = financial_factor.loc[financial_factor[\"Index\"]==index, \"ROC\"].replace(0, np.nan)\n",
    "    financial_factor.loc[financial_factor[\"Index\"]==index, \"ROA\"] = financial_factor.loc[financial_factor[\"Index\"]==index, \"ROA\"].fillna(financial_factor.loc[financial_factor[\"Index\"]==index, \"ROA\"].mean())\n",
    "    financial_factor.loc[financial_factor[\"Index\"]==index, \"ROE\"] = financial_factor.loc[financial_factor[\"Index\"]==index, \"ROE\"].fillna(financial_factor.loc[financial_factor[\"Index\"]==index, \"ROE\"].mean())\n",
    "    financial_factor.loc[financial_factor[\"Index\"]==index, \"ROC\"] = financial_factor.loc[financial_factor[\"Index\"]==index, \"ROC\"].fillna(financial_factor.loc[financial_factor[\"Index\"]==index, \"ROC\"].mean())"
   ]
  },
  {
   "cell_type": "code",
   "execution_count": 62,
   "id": "8578748f",
   "metadata": {},
   "outputs": [],
   "source": [
    "financial_factor = financial_factor.loc[~financial_factor[\"Index\"].isin(missings[\"Index\"]), :]\n",
    "financial_factor = financial_factor.loc[financial_factor[\"ROE\"].notna()]\n",
    "financial_factor = financial_factor.loc[financial_factor[\"industry\"].notna()]\n",
    "financial_factor = financial_factor.loc[:, [\"Date\",\"Index\",\"ROA\",\"ROE\"]]"
   ]
  },
  {
   "cell_type": "code",
   "execution_count": 69,
   "id": "a39832ce",
   "metadata": {},
   "outputs": [],
   "source": [
    "financial_factor.to_csv(\"../../Factors/Financial-Quality_Factor.csv\")"
   ]
  },
  {
   "cell_type": "code",
   "execution_count": 70,
   "id": "755efe75",
   "metadata": {},
   "outputs": [
    {
     "data": {
      "text/html": [
       "<div>\n",
       "<style scoped>\n",
       "    .dataframe tbody tr th:only-of-type {\n",
       "        vertical-align: middle;\n",
       "    }\n",
       "\n",
       "    .dataframe tbody tr th {\n",
       "        vertical-align: top;\n",
       "    }\n",
       "\n",
       "    .dataframe thead th {\n",
       "        text-align: right;\n",
       "    }\n",
       "</style>\n",
       "<table border=\"1\" class=\"dataframe\">\n",
       "  <thead>\n",
       "    <tr style=\"text-align: right;\">\n",
       "      <th></th>\n",
       "      <th>Date</th>\n",
       "      <th>Index</th>\n",
       "      <th>ROA</th>\n",
       "      <th>ROE</th>\n",
       "    </tr>\n",
       "  </thead>\n",
       "  <tbody>\n",
       "    <tr>\n",
       "      <th>0</th>\n",
       "      <td>2021-01-04</td>\n",
       "      <td>BLIN</td>\n",
       "      <td>-8.3966</td>\n",
       "      <td>-49.9127</td>\n",
       "    </tr>\n",
       "    <tr>\n",
       "      <th>1</th>\n",
       "      <td>2021-01-05</td>\n",
       "      <td>BLIN</td>\n",
       "      <td>-8.3966</td>\n",
       "      <td>-49.9127</td>\n",
       "    </tr>\n",
       "    <tr>\n",
       "      <th>2</th>\n",
       "      <td>2021-01-06</td>\n",
       "      <td>BLIN</td>\n",
       "      <td>-8.3966</td>\n",
       "      <td>-49.9127</td>\n",
       "    </tr>\n",
       "    <tr>\n",
       "      <th>3</th>\n",
       "      <td>2021-01-07</td>\n",
       "      <td>BLIN</td>\n",
       "      <td>-8.3966</td>\n",
       "      <td>-49.9127</td>\n",
       "    </tr>\n",
       "    <tr>\n",
       "      <th>4</th>\n",
       "      <td>2021-01-08</td>\n",
       "      <td>BLIN</td>\n",
       "      <td>-8.3966</td>\n",
       "      <td>-49.9127</td>\n",
       "    </tr>\n",
       "    <tr>\n",
       "      <th>...</th>\n",
       "      <td>...</td>\n",
       "      <td>...</td>\n",
       "      <td>...</td>\n",
       "      <td>...</td>\n",
       "    </tr>\n",
       "    <tr>\n",
       "      <th>264397</th>\n",
       "      <td>2022-07-25</td>\n",
       "      <td>EQBK</td>\n",
       "      <td>1.2208</td>\n",
       "      <td>13.9010</td>\n",
       "    </tr>\n",
       "    <tr>\n",
       "      <th>264398</th>\n",
       "      <td>2022-07-26</td>\n",
       "      <td>EQBK</td>\n",
       "      <td>1.2208</td>\n",
       "      <td>13.9010</td>\n",
       "    </tr>\n",
       "    <tr>\n",
       "      <th>264399</th>\n",
       "      <td>2022-07-27</td>\n",
       "      <td>EQBK</td>\n",
       "      <td>1.2208</td>\n",
       "      <td>13.9010</td>\n",
       "    </tr>\n",
       "    <tr>\n",
       "      <th>264400</th>\n",
       "      <td>2022-07-28</td>\n",
       "      <td>EQBK</td>\n",
       "      <td>1.2208</td>\n",
       "      <td>13.9010</td>\n",
       "    </tr>\n",
       "    <tr>\n",
       "      <th>264401</th>\n",
       "      <td>2022-07-29</td>\n",
       "      <td>EQBK</td>\n",
       "      <td>1.2208</td>\n",
       "      <td>13.9010</td>\n",
       "    </tr>\n",
       "  </tbody>\n",
       "</table>\n",
       "<p>217556 rows × 4 columns</p>\n",
       "</div>"
      ],
      "text/plain": [
       "              Date Index     ROA      ROE\n",
       "0       2021-01-04  BLIN -8.3966 -49.9127\n",
       "1       2021-01-05  BLIN -8.3966 -49.9127\n",
       "2       2021-01-06  BLIN -8.3966 -49.9127\n",
       "3       2021-01-07  BLIN -8.3966 -49.9127\n",
       "4       2021-01-08  BLIN -8.3966 -49.9127\n",
       "...            ...   ...     ...      ...\n",
       "264397  2022-07-25  EQBK  1.2208  13.9010\n",
       "264398  2022-07-26  EQBK  1.2208  13.9010\n",
       "264399  2022-07-27  EQBK  1.2208  13.9010\n",
       "264400  2022-07-28  EQBK  1.2208  13.9010\n",
       "264401  2022-07-29  EQBK  1.2208  13.9010\n",
       "\n",
       "[217556 rows x 4 columns]"
      ]
     },
     "execution_count": 70,
     "metadata": {},
     "output_type": "execute_result"
    }
   ],
   "source": [
    "financial_factor"
   ]
  },
  {
   "cell_type": "code",
   "execution_count": null,
   "id": "03890996",
   "metadata": {},
   "outputs": [],
   "source": []
  }
 ],
 "metadata": {
  "kernelspec": {
   "display_name": "Python 3.7.1 64-bit",
   "language": "python",
   "name": "python3"
  },
  "language_info": {
   "codemirror_mode": {
    "name": "ipython",
    "version": 3
   },
   "file_extension": ".py",
   "mimetype": "text/x-python",
   "name": "python",
   "nbconvert_exporter": "python",
   "pygments_lexer": "ipython3",
   "version": "3.7.1"
  },
  "toc": {
   "base_numbering": 1,
   "nav_menu": {},
   "number_sections": true,
   "sideBar": true,
   "skip_h1_title": false,
   "title_cell": "Table of Contents",
   "title_sidebar": "Contents",
   "toc_cell": false,
   "toc_position": {},
   "toc_section_display": true,
   "toc_window_display": false
  },
  "vscode": {
   "interpreter": {
    "hash": "5a98bc0709bb551cb0b40a68bfcb118c11ed773779c4b4ca5eb3852e4a8f5446"
   }
  }
 },
 "nbformat": 4,
 "nbformat_minor": 5
}
