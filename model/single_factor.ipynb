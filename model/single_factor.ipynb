{
 "cells": [
  {
   "cell_type": "code",
   "execution_count": 10,
   "metadata": {},
   "outputs": [],
   "source": [
    "import numpy as np\n",
    "import matplotlib.pyplot as plt\n",
    "import pandas as pd\n",
    "from sklearn.linear_model import LinearRegression"
   ]
  },
  {
   "cell_type": "code",
   "execution_count": 11,
   "metadata": {},
   "outputs": [],
   "source": [
    "Factors = pd.read_csv('../Factors/Factors.csv')"
   ]
  },
  {
   "cell_type": "code",
   "execution_count": 12,
   "metadata": {},
   "outputs": [],
   "source": [
    "dates = Factors['Date'].unique()\n",
    "def get_factor_returns(factor_name):\n",
    "    factor_returns = []\n",
    "    for date in dates:\n",
    "        data = Factors.loc[Factors[\"Date\"]==date, [\"Date\", \"Index\", \"Return\", factor_name]]\n",
    "        y = data[\"Return\"]\n",
    "        x = data[factor_name]\n",
    "        x = x.values.reshape(-1, 1)\n",
    "        model = LinearRegression().fit(x, y)\n",
    "        factor_returns.append(model.coef_[0])\n",
    "    return factor_returns\n"
   ]
  },
  {
   "cell_type": "code",
   "execution_count": 13,
   "metadata": {},
   "outputs": [],
   "source": [
    "factors = [\"Momentum_1m\", \"Momentum_2m\", \"Momentum_3m\", \"Turnover_1m\", \"Turnover_2m\", \"Turnover_3m\", \"Volatility_1m\", \"Volatility_2m\", \"Volatility_3m\", \"std_1m\", \"std_2m\", \"std_3m\", \"ROA\", \"ROE\", \"EP\", \"BP\"]"
   ]
  },
  {
   "cell_type": "code",
   "execution_count": 14,
   "metadata": {},
   "outputs": [],
   "source": [
    "def get_factor_returns_all():\n",
    "    factors_returns = pd.DataFrame()\n",
    "    factors_returns[\"Date\"] = Factors[\"Date\"].unique()\n",
    "    for factor in factors:\n",
    "        factor_returns = pd.Series(get_factor_returns(factor))\n",
    "        factors_returns[factor] = factor_returns\n",
    "    return factors_returns"
   ]
  },
  {
   "cell_type": "code",
   "execution_count": 15,
   "metadata": {},
   "outputs": [],
   "source": [
    "factors_returns = get_factor_returns_all()"
   ]
  },
  {
   "cell_type": "code",
   "execution_count": null,
   "metadata": {},
   "outputs": [],
   "source": [
    "factors_returns.to_csv(\"../Analysis/factors_returns.csv\", index=False)"
   ]
  }
 ],
 "metadata": {
  "kernelspec": {
   "display_name": "Python 3.7.1 64-bit",
   "language": "python",
   "name": "python3"
  },
  "language_info": {
   "codemirror_mode": {
    "name": "ipython",
    "version": 3
   },
   "file_extension": ".py",
   "mimetype": "text/x-python",
   "name": "python",
   "nbconvert_exporter": "python",
   "pygments_lexer": "ipython3",
   "version": "3.7.1"
  },
  "orig_nbformat": 4,
  "vscode": {
   "interpreter": {
    "hash": "5a98bc0709bb551cb0b40a68bfcb118c11ed773779c4b4ca5eb3852e4a8f5446"
   }
  }
 },
 "nbformat": 4,
 "nbformat_minor": 2
}
