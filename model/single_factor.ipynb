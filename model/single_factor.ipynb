{
 "cells": [
  {
   "cell_type": "code",
   "execution_count": 57,
   "metadata": {},
   "outputs": [],
   "source": [
    "import numpy as np\n",
    "import matplotlib.pyplot as plt\n",
    "import pandas as pd\n",
    "from sklearn.linear_model import LinearRegression\n",
    "import statsmodels.api as sm"
   ]
  },
  {
   "cell_type": "code",
   "execution_count": 58,
   "metadata": {},
   "outputs": [],
   "source": [
    "Factors = pd.read_csv('../Factors/Factors.csv')"
   ]
  },
  {
   "cell_type": "code",
   "execution_count": 59,
   "metadata": {},
   "outputs": [],
   "source": [
    "dates = Factors['Date'].unique()\n",
    "def get_factor_returns(factor_name):\n",
    "    factor_returns = []\n",
    "    p_value = []\n",
    "    t_value = []\n",
    "    for date in dates:\n",
    "        data = Factors.loc[Factors[\"Date\"]==date, [\"Date\", \"Index\", \"Return\", factor_name]]\n",
    "        y = data[\"Return\"]\n",
    "        x = data[factor_name]\n",
    "        x = x.values.reshape(-1, 1)\n",
    "        model = sm.OLS(y, x).fit()\n",
    "        pvalue = model.summary2().tables[1]['P>|t|'][0]\n",
    "        coef = model.summary2().tables[1]['Coef.'][0]\n",
    "        t = model.summary2().tables[1]['t'][0]\n",
    "        factor_returns.append(coef)\n",
    "        p_value.append(pvalue)\n",
    "        t_value.append(t)\n",
    "    return factor_returns, p_value, t_value\n"
   ]
  },
  {
   "cell_type": "code",
   "execution_count": 60,
   "metadata": {},
   "outputs": [],
   "source": [
    "factors = [\"Momentum_1m\", \"Momentum_2m\", \"Momentum_3m\", \"Turnover_1m\", \"Turnover_2m\", \"Turnover_3m\", \"Volatility_1m\", \"Volatility_2m\", \"Volatility_3m\", \"std_1m\", \"std_2m\", \"std_3m\", \"ROA\", \"ROE\", \"EP\", \"BP\"]"
   ]
  },
  {
   "cell_type": "code",
   "execution_count": 61,
   "metadata": {},
   "outputs": [],
   "source": [
    "def get_factor_returns_all():\n",
    "    factors_returns = pd.DataFrame()\n",
    "    p_values = pd.DataFrame()\n",
    "    t_values = pd.DataFrame()\n",
    "    factors_returns[\"Date\"] = Factors[\"Date\"].unique()\n",
    "    p_values[\"Date\"] = Factors[\"Date\"].unique()\n",
    "    t_values[\"Date\"] = Factors[\"Date\"].unique()\n",
    "    for factor in factors:\n",
    "        factor_returns, pvalue, t = pd.Series(get_factor_returns(factor)[0]), pd.Series(get_factor_returns(factor)[1]), pd.Series(get_factor_returns(factor)[2])\n",
    "        factors_returns[factor] = factor_returns\n",
    "        p_values[factor] = pvalue\n",
    "        t_values[factor] = t\n",
    "    return factors_returns, p_values, t_values"
   ]
  },
  {
   "cell_type": "code",
   "execution_count": 62,
   "metadata": {},
   "outputs": [],
   "source": [
    "factors_returns, p_values, t_values = get_factor_returns_all()"
   ]
  },
  {
   "cell_type": "code",
   "execution_count": 64,
   "metadata": {},
   "outputs": [],
   "source": [
    "factors_returns.to_csv(\"../Analysis/factors_returns.csv\", index=False)\n",
    "p_values.to_csv(\"../Analysis/p_values.csv\", index=False)\n",
    "t_values.to_csv(\"../Analysis/t_values.csv\", index=False)"
   ]
  },
  {
   "cell_type": "code",
   "execution_count": 54,
   "metadata": {},
   "outputs": [],
   "source": [
    "data = Factors.loc[Factors[\"Date\"]==\"2021-01-04\", [\"Date\", \"Index\", \"Return\", \"Turnover_1m\"]]\n",
    "y = data[\"Return\"]\n",
    "x = data[\"Turnover_1m\"]\n",
    "x = x.values.reshape(-1, 1)\n",
    "model = sm.OLS(y, x).fit()"
   ]
  },
  {
   "cell_type": "code",
   "execution_count": 56,
   "metadata": {},
   "outputs": [
    {
     "data": {
      "text/html": [
       "<table class=\"simpletable\">\n",
       "<tr>\n",
       "          <td>Model:</td>                 <td>OLS</td>       <td>Adj. R-squared (uncentered):</td>    <td>0.026</td>  \n",
       "</tr>\n",
       "<tr>\n",
       "    <td>Dependent Variable:</td>        <td>Return</td>                  <td>AIC:</td>             <td>-1914.6646</td>\n",
       "</tr>\n",
       "<tr>\n",
       "           <td>Date:</td>          <td>2022-11-04 10:22</td>             <td>BIC:</td>             <td>-1910.4031</td>\n",
       "</tr>\n",
       "<tr>\n",
       "     <td>No. Observations:</td>           <td>524</td>              <td>Log-Likelihood:</td>         <td>958.33</td>  \n",
       "</tr>\n",
       "<tr>\n",
       "         <td>Df Model:</td>                <td>1</td>                <td>F-statistic:</td>            <td>14.83</td>  \n",
       "</tr>\n",
       "<tr>\n",
       "       <td>Df Residuals:</td>             <td>523</td>            <td>Prob (F-statistic):</td>      <td>0.000132</td> \n",
       "</tr>\n",
       "<tr>\n",
       "  <td>R-squared (uncentered):</td>       <td>0.028</td>                 <td>Scale:</td>             <td>0.0015129</td>\n",
       "</tr>\n",
       "</table>\n",
       "<table class=\"simpletable\">\n",
       "<tr>\n",
       "   <td></td>   <th>Coef.</th> <th>Std.Err.</th>    <th>t</th>    <th>P>|t|</th> <th>[0.025</th> <th>0.975]</th>\n",
       "</tr>\n",
       "<tr>\n",
       "  <th>x1</th> <td>0.0065</td>  <td>0.0017</td>  <td>3.8509</td> <td>0.0001</td> <td>0.0032</td> <td>0.0099</td>\n",
       "</tr>\n",
       "</table>\n",
       "<table class=\"simpletable\">\n",
       "<tr>\n",
       "     <td>Omnibus:</td>    <td>251.003</td>  <td>Durbin-Watson:</td>     <td>1.888</td> \n",
       "</tr>\n",
       "<tr>\n",
       "  <td>Prob(Omnibus):</td>  <td>0.000</td>  <td>Jarque-Bera (JB):</td> <td>4551.025</td>\n",
       "</tr>\n",
       "<tr>\n",
       "       <td>Skew:</td>      <td>1.635</td>      <td>Prob(JB):</td>       <td>0.000</td> \n",
       "</tr>\n",
       "<tr>\n",
       "     <td>Kurtosis:</td>   <td>17.062</td>   <td>Condition No.:</td>       <td>1</td>   \n",
       "</tr>\n",
       "</table>"
      ],
      "text/plain": [
       "<class 'statsmodels.iolib.summary2.Summary'>\n",
       "\"\"\"\n",
       "                        Results: Ordinary least squares\n",
       "================================================================================\n",
       "Model:                  OLS              Adj. R-squared (uncentered): 0.026     \n",
       "Dependent Variable:     Return           AIC:                         -1914.6646\n",
       "Date:                   2022-11-04 10:22 BIC:                         -1910.4031\n",
       "No. Observations:       524              Log-Likelihood:              958.33    \n",
       "Df Model:               1                F-statistic:                 14.83     \n",
       "Df Residuals:           523              Prob (F-statistic):          0.000132  \n",
       "R-squared (uncentered): 0.028            Scale:                       0.0015129 \n",
       "--------------------------------------------------------------------------------------\n",
       "             Coef.        Std.Err.         t          P>|t|        [0.025       0.975]\n",
       "--------------------------------------------------------------------------------------\n",
       "x1           0.0065         0.0017       3.8509       0.0001       0.0032       0.0099\n",
       "--------------------------------------------------------------------------------\n",
       "Omnibus:                  251.003           Durbin-Watson:              1.888   \n",
       "Prob(Omnibus):            0.000             Jarque-Bera (JB):           4551.025\n",
       "Skew:                     1.635             Prob(JB):                   0.000   \n",
       "Kurtosis:                 17.062            Condition No.:              1       \n",
       "================================================================================\n",
       "\n",
       "\"\"\""
      ]
     },
     "execution_count": 56,
     "metadata": {},
     "output_type": "execute_result"
    }
   ],
   "source": [
    "model.summary2()"
   ]
  },
  {
   "cell_type": "code",
   "execution_count": 33,
   "metadata": {},
   "outputs": [
    {
     "ename": "AttributeError",
     "evalue": "'OLSResults' object has no attribute 'coef_'",
     "output_type": "error",
     "traceback": [
      "\u001b[1;31m---------------------------------------------------------------------------\u001b[0m",
      "\u001b[1;31mAttributeError\u001b[0m                            Traceback (most recent call last)",
      "\u001b[1;32m<ipython-input-33-8c179973660b>\u001b[0m in \u001b[0;36m<module>\u001b[1;34m\u001b[0m\n\u001b[1;32m----> 1\u001b[1;33m \u001b[0mmodel\u001b[0m\u001b[1;33m.\u001b[0m\u001b[0mcoef_\u001b[0m\u001b[1;33m[\u001b[0m\u001b[1;36m0\u001b[0m\u001b[1;33m]\u001b[0m\u001b[1;33m\u001b[0m\u001b[1;33m\u001b[0m\u001b[0m\n\u001b[0m",
      "\u001b[1;32mc:\\vnstudio\\lib\\site-packages\\statsmodels\\base\\wrapper.py\u001b[0m in \u001b[0;36m__getattribute__\u001b[1;34m(self, attr)\u001b[0m\n\u001b[0;32m     32\u001b[0m             \u001b[1;32mpass\u001b[0m\u001b[1;33m\u001b[0m\u001b[1;33m\u001b[0m\u001b[0m\n\u001b[0;32m     33\u001b[0m \u001b[1;33m\u001b[0m\u001b[0m\n\u001b[1;32m---> 34\u001b[1;33m         \u001b[0mobj\u001b[0m \u001b[1;33m=\u001b[0m \u001b[0mgetattr\u001b[0m\u001b[1;33m(\u001b[0m\u001b[0mresults\u001b[0m\u001b[1;33m,\u001b[0m \u001b[0mattr\u001b[0m\u001b[1;33m)\u001b[0m\u001b[1;33m\u001b[0m\u001b[1;33m\u001b[0m\u001b[0m\n\u001b[0m\u001b[0;32m     35\u001b[0m         \u001b[0mdata\u001b[0m \u001b[1;33m=\u001b[0m \u001b[0mresults\u001b[0m\u001b[1;33m.\u001b[0m\u001b[0mmodel\u001b[0m\u001b[1;33m.\u001b[0m\u001b[0mdata\u001b[0m\u001b[1;33m\u001b[0m\u001b[1;33m\u001b[0m\u001b[0m\n\u001b[0;32m     36\u001b[0m         \u001b[0mhow\u001b[0m \u001b[1;33m=\u001b[0m \u001b[0mself\u001b[0m\u001b[1;33m.\u001b[0m\u001b[0m_wrap_attrs\u001b[0m\u001b[1;33m.\u001b[0m\u001b[0mget\u001b[0m\u001b[1;33m(\u001b[0m\u001b[0mattr\u001b[0m\u001b[1;33m)\u001b[0m\u001b[1;33m\u001b[0m\u001b[1;33m\u001b[0m\u001b[0m\n",
      "\u001b[1;31mAttributeError\u001b[0m: 'OLSResults' object has no attribute 'coef_'"
     ]
    }
   ],
   "source": [
    "model.coef_[0]"
   ]
  },
  {
   "cell_type": "code",
   "execution_count": 39,
   "metadata": {},
   "outputs": [
    {
     "data": {
      "text/plain": [
       "0.0065496878127290084"
      ]
     },
     "execution_count": 39,
     "metadata": {},
     "output_type": "execute_result"
    }
   ],
   "source": [
    "model.summary2().tables[1]['Coef.'][0]"
   ]
  },
  {
   "cell_type": "code",
   "execution_count": null,
   "metadata": {},
   "outputs": [],
   "source": []
  }
 ],
 "metadata": {
  "kernelspec": {
   "display_name": "Python 3.7.1 64-bit",
   "language": "python",
   "name": "python3"
  },
  "language_info": {
   "codemirror_mode": {
    "name": "ipython",
    "version": 3
   },
   "file_extension": ".py",
   "mimetype": "text/x-python",
   "name": "python",
   "nbconvert_exporter": "python",
   "pygments_lexer": "ipython3",
   "version": "3.7.1"
  },
  "orig_nbformat": 4,
  "vscode": {
   "interpreter": {
    "hash": "5a98bc0709bb551cb0b40a68bfcb118c11ed773779c4b4ca5eb3852e4a8f5446"
   }
  }
 },
 "nbformat": 4,
 "nbformat_minor": 2
}
