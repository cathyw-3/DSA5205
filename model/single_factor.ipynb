{
 "cells": [
  {
   "cell_type": "code",
   "execution_count": 1,
   "metadata": {},
   "outputs": [],
   "source": [
    "import numpy as np\n",
    "import matplotlib.pyplot as plt\n",
    "import pandas as pd\n",
    "from sklearn.linear_model import LinearRegression\n",
    "import statsmodels.api as sm"
   ]
  },
  {
   "cell_type": "code",
   "execution_count": 2,
   "metadata": {},
   "outputs": [],
   "source": [
    "Factors = pd.read_csv('../Factors/Factors.csv')"
   ]
  },
  {
   "cell_type": "code",
   "execution_count": 59,
   "metadata": {},
   "outputs": [],
   "source": [
    "dates = Factors['Date'].unique()\n",
    "def get_factor_returns(factor_name):\n",
    "    factor_returns = []\n",
    "    p_value = []\n",
    "    t_value = []\n",
    "    for date in dates:\n",
    "        data = Factors.loc[Factors[\"Date\"]==date, [\"Date\", \"Index\", \"Return\", factor_name]]\n",
    "        y = data[\"Return\"]\n",
    "        x = data[factor_name]\n",
    "        x = x.values.reshape(-1, 1)\n",
    "        model = sm.OLS(y, x).fit()\n",
    "        pvalue = model.summary2().tables[1]['P>|t|'][0]\n",
    "        coef = model.summary2().tables[1]['Coef.'][0]\n",
    "        t = model.summary2().tables[1]['t'][0]\n",
    "        factor_returns.append(coef)\n",
    "        p_value.append(pvalue)\n",
    "        t_value.append(t)\n",
    "    return factor_returns, p_value, t_value\n"
   ]
  },
  {
   "cell_type": "code",
   "execution_count": 60,
   "metadata": {},
   "outputs": [],
   "source": [
    "factors = [\"Momentum_1m\", \"Momentum_2m\", \"Momentum_3m\", \"Turnover_1m\", \"Turnover_2m\", \"Turnover_3m\", \"Volatility_1m\", \"Volatility_2m\", \"Volatility_3m\", \"std_1m\", \"std_2m\", \"std_3m\", \"ROA\", \"ROE\", \"EP\", \"BP\"]"
   ]
  },
  {
   "cell_type": "code",
   "execution_count": 61,
   "metadata": {},
   "outputs": [],
   "source": [
    "def get_factor_returns_all():\n",
    "    factors_returns = pd.DataFrame()\n",
    "    p_values = pd.DataFrame()\n",
    "    t_values = pd.DataFrame()\n",
    "    factors_returns[\"Date\"] = Factors[\"Date\"].unique()\n",
    "    p_values[\"Date\"] = Factors[\"Date\"].unique()\n",
    "    t_values[\"Date\"] = Factors[\"Date\"].unique()\n",
    "    for factor in factors:\n",
    "        factor_returns, pvalue, t = pd.Series(get_factor_returns(factor)[0]), pd.Series(get_factor_returns(factor)[1]), pd.Series(get_factor_returns(factor)[2])\n",
    "        factors_returns[factor] = factor_returns\n",
    "        p_values[factor] = pvalue\n",
    "        t_values[factor] = t\n",
    "    return factors_returns, p_values, t_values"
   ]
  },
  {
   "cell_type": "code",
   "execution_count": 62,
   "metadata": {},
   "outputs": [],
   "source": [
    "factors_returns, p_values, t_values = get_factor_returns_all()"
   ]
  },
  {
   "cell_type": "code",
   "execution_count": 64,
   "metadata": {},
   "outputs": [],
   "source": [
    "factors_returns.to_csv(\"../Analysis/factors_returns.csv\", index=False)\n",
    "p_values.to_csv(\"../Analysis/p_values.csv\", index=False)\n",
    "t_values.to_csv(\"../Analysis/t_values.csv\", index=False)"
   ]
  }
 ],
 "metadata": {
  "kernelspec": {
   "display_name": "Python 3.7.1 64-bit",
   "language": "python",
   "name": "python3"
  },
  "language_info": {
   "codemirror_mode": {
    "name": "ipython",
    "version": 3
   },
   "file_extension": ".py",
   "mimetype": "text/x-python",
   "name": "python",
   "nbconvert_exporter": "python",
   "pygments_lexer": "ipython3",
   "version": "3.7.1"
  },
  "orig_nbformat": 4,
  "vscode": {
   "interpreter": {
    "hash": "5a98bc0709bb551cb0b40a68bfcb118c11ed773779c4b4ca5eb3852e4a8f5446"
   }
  }
 },
 "nbformat": 4,
 "nbformat_minor": 2
}
